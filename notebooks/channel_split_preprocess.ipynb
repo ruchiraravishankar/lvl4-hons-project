{
 "cells": [
  {
   "cell_type": "code",
   "execution_count": 35,
   "metadata": {},
   "outputs": [],
   "source": [
    "import numpy as np\n",
    "import os\n",
    "import pandas as pd\n",
    "import matplotlib.pyplot as plt"
   ]
  },
  {
   "cell_type": "code",
   "execution_count": 5,
   "metadata": {},
   "outputs": [],
   "source": [
    "all_data = np.loadtxt('./preprocessed_data/unsampled_all_data.csv', delimiter=',')"
   ]
  },
  {
   "cell_type": "code",
   "execution_count": 6,
   "metadata": {},
   "outputs": [
    {
     "name": "stdout",
     "output_type": "stream",
     "text": [
      "(217656, 259)\n"
     ]
    }
   ],
   "source": [
    "print(all_data.shape)"
   ]
  },
  {
   "cell_type": "code",
   "execution_count": 9,
   "metadata": {},
   "outputs": [
    {
     "name": "stdout",
     "output_type": "stream",
     "text": [
      "(108828,)\n"
     ]
    }
   ],
   "source": [
    "print(np.where(all_data[:,-1]==0)[0].shape)"
   ]
  },
  {
   "cell_type": "code",
   "execution_count": 13,
   "metadata": {},
   "outputs": [],
   "source": [
    "cond = np.unique(all_data[:,-1])"
   ]
  },
  {
   "cell_type": "code",
   "execution_count": 21,
   "metadata": {},
   "outputs": [],
   "source": [
    "mlii = all_data[all_data[:,-1]==cond[0]]"
   ]
  },
  {
   "cell_type": "code",
   "execution_count": 22,
   "metadata": {},
   "outputs": [],
   "source": [
    "v125 = all_data[all_data[:,-1]==cond[1]]"
   ]
  },
  {
   "cell_type": "code",
   "execution_count": 25,
   "metadata": {},
   "outputs": [],
   "source": [
    "if not os.path.exists('./channel_split/'):\n",
    "    os.makedirs('./channel_split/')\n",
    "mlii_file = './channel_split/mlii.csv'\n",
    "v125_file = './channel_split/v125.csv'\n",
    "\n",
    "with open(mlii_file, 'wb') as f:\n",
    "    np.savetxt(f, mlii, delimiter=\",\", fmt='%f')\n",
    "\n",
    "with open(v125_file, 'wb') as f:\n",
    "    np.savetxt(f, v125, delimiter=\",\", fmt='%f')\n"
   ]
  },
  {
   "cell_type": "code",
   "execution_count": 26,
   "metadata": {},
   "outputs": [],
   "source": [
    "mlii=np.loadtxt('./channel_split/mlii.csv', delimiter=',')\n",
    "v125=np.loadtxt('./channel_split/v125.csv', delimiter=',')"
   ]
  },
  {
   "cell_type": "code",
   "execution_count": 27,
   "metadata": {},
   "outputs": [],
   "source": [
    "mlii_shuffled = mlii\n",
    "np.random.shuffle(mlii_shuffled)"
   ]
  },
  {
   "cell_type": "code",
   "execution_count": 28,
   "metadata": {},
   "outputs": [
    {
     "name": "stdout",
     "output_type": "stream",
     "text": [
      "(81621, 259)\n",
      "(27207, 259)\n"
     ]
    }
   ],
   "source": [
    "from sklearn.model_selection import train_test_split\n",
    "train, test = train_test_split(mlii_shuffled, test_size=0.25)\n",
    "\n",
    "print(train.shape)\n",
    "print(test.shape)"
   ]
  },
  {
   "cell_type": "code",
   "execution_count": 40,
   "metadata": {},
   "outputs": [
    {
     "name": "stdout",
     "output_type": "stream",
     "text": [
      "(81621, 257)\n"
     ]
    },
    {
     "data": {
      "image/png": "[encoded data removed]",
      "text/plain": [
       "<Figure size 720x360 with 1 Axes>"
      ]
     },
     "metadata": {},
     "output_type": "display_data"
    }
   ],
   "source": [
    "import seaborn as sns\n",
    "sns.set()\n",
    "feature_names = ['N','L','R','A','V','F','f','/']\n",
    "\n",
    "dftrain = pd.DataFrame(train[:,:-2])\n",
    "print(dftrain.shape)\n",
    "countstrain = dftrain[256].value_counts()\n",
    "\n",
    "plt.figure(figsize=(10,5))\n",
    "barplt = plt.bar(countstrain.index, countstrain.values, alpha=0.8, color='orange')\n",
    "plt.title('Training Unsampled Label Count')\n",
    "plt.ylabel('Number of Occurrences', fontsize=12)\n",
    "plt.xlabel('Beat Category', fontsize=12)\n",
    "plt.xticks(ticks=[1,2,3,4,5,6,7,8],labels=feature_names)\n",
    "for bar in barplt:\n",
    "    yval = bar.get_height()\n",
    "    plt.text(bar.get_x()+.2, yval+200, yval)\n",
    "plt.show()"
   ]
  },
  {
   "cell_type": "code",
   "execution_count": 41,
   "metadata": {},
   "outputs": [],
   "source": [
    "import sklearn.utils as slu\n",
    "seed=42\n",
    "np.random.seed(seed)\n",
    "def downsample(arr,n,seed):\n",
    "    downsampled = slu.resample(arr,replace=False,n_samples=n,random_state=seed)\n",
    "    return downsampled\n",
    "\n",
    "def upsample(arr,n,seed):\n",
    "    upsampled = slu.resample(arr,replace=True,n_samples=n,random_state=seed)\n",
    "    return upsampled"
   ]
  },
  {
   "cell_type": "code",
   "execution_count": 42,
   "metadata": {},
   "outputs": [
    {
     "name": "stdout",
     "output_type": "stream",
     "text": [
      "[6056, 5379, 1922, 5324, 606, 754, 5280]\n",
      "3617\n",
      "(28936, 259)\n"
     ]
    }
   ],
   "source": [
    "anno = train[:,-3]\n",
    "normal = train[anno == 1.0]\n",
    "lbbb = train[anno == 2.0]\n",
    "rbbb = train[anno == 3.0]\n",
    "apb = train[anno == 4.0]\n",
    "pvc = train[anno == 5.0]\n",
    "fvn = train[anno == 6.0]\n",
    "fpn = train[anno == 7.0]\n",
    "paced = train[anno == 8.0]\n",
    "\n",
    "abnormal = [lbbb,rbbb,apb,pvc,fvn,fpn,paced]\n",
    "list_len = [len(i) for i in abnormal]\n",
    "print(list_len)\n",
    "\n",
    "all_classes = [normal,lbbb,rbbb,apb,pvc,fvn,fpn,paced]\n",
    "\n",
    "num_of_vals = np.mean(list_len, dtype=int)\n",
    "print(num_of_vals)\n",
    "\n",
    "sampled_data = []\n",
    "for i in all_classes:\n",
    "    if i.shape[0] > num_of_vals:\n",
    "        i = downsample(i, num_of_vals,seed)\n",
    "    elif i.shape[0] < num_of_vals:\n",
    "        i = upsample(i, num_of_vals,seed)\n",
    "    sampled_data.append(i)\n",
    "\n",
    "\n",
    "sampled_data = np.concatenate(sampled_data)\n",
    "# print(sampled_data[0])\n",
    "np.random.shuffle(sampled_data)\n",
    "print(sampled_data.shape)"
   ]
  },
  {
   "cell_type": "code",
   "execution_count": 43,
   "metadata": {},
   "outputs": [
    {
     "name": "stdout",
     "output_type": "stream",
     "text": [
      "(28936, 257)\n"
     ]
    },
    {
     "data": {
      "image/png": "[encoded data removed]",
      "text/plain": [
       "<Figure size 720x360 with 1 Axes>"
      ]
     },
     "metadata": {},
     "output_type": "display_data"
    }
   ],
   "source": [
    "import seaborn as sns\n",
    "sns.set()\n",
    "feature_names = ['N','L','R','A','V','F','f','/']\n",
    "\n",
    "dftrain = pd.DataFrame(sampled_data[:,:-2])\n",
    "print(dftrain.shape)\n",
    "countstrain = dftrain[256].value_counts()\n",
    "\n",
    "plt.figure(figsize=(10,5))\n",
    "barplt = plt.bar(countstrain.index, countstrain.values, alpha=0.8, color='orange')\n",
    "plt.title('Training Unsampled Label Count')\n",
    "plt.ylabel('Number of Occurrences', fontsize=12)\n",
    "plt.xlabel('Beat Category', fontsize=12)\n",
    "plt.xticks(ticks=[1,2,3,4,5,6,7,8],labels=feature_names)\n",
    "for bar in barplt:\n",
    "    yval = bar.get_height()\n",
    "    plt.text(bar.get_x()+.2, yval+100, yval)\n",
    "plt.show()"
   ]
  },
  {
   "cell_type": "code",
   "execution_count": 44,
   "metadata": {},
   "outputs": [],
   "source": [
    "if not os.path.exists('./train_test_sampled_mlii/'):\n",
    "    os.makedirs('./train_test_sampled_mlii/')\n",
    "train_samp_file = './train_test_sampled_mlii/train_mlii.csv'\n",
    "test_samp_file = './train_test_sampled_mlii/test_mlii.csv'\n",
    "\n",
    "with open(train_samp_file, 'wb') as f:\n",
    "    np.savetxt(f, sampled_data, delimiter=\",\", fmt='%f')\n",
    "\n",
    "with open(test_samp_file, 'wb') as f:\n",
    "    np.savetxt(f, test, delimiter=\",\", fmt='%f')"
   ]
  },
  {
   "cell_type": "code",
   "execution_count": 45,
   "metadata": {},
   "outputs": [
    {
     "name": "stdout",
     "output_type": "stream",
     "text": [
      "(28936, 259)\n",
      "(27207, 259)\n"
     ]
    }
   ],
   "source": [
    "train_samp = np.loadtxt('./train_test_sampled_mlii/train_mlii.csv', delimiter=',')\n",
    "test_samp = np.loadtxt('./train_test_sampled_mlii/test_mlii.csv', delimiter=',')\n",
    "\n",
    "print(train_samp.shape)\n",
    "print(test_samp.shape)"
   ]
  },
  {
   "cell_type": "code",
   "execution_count": null,
   "metadata": {},
   "outputs": [],
   "source": []
  }
 ],
 "metadata": {
  "kernelspec": {
   "display_name": "Python 3",
   "language": "python",
   "name": "python3"
  },
  "language_info": {
   "codemirror_mode": {
    "name": "ipython",
    "version": 3
   },
   "file_extension": ".py",
   "mimetype": "text/x-python",
   "name": "python",
   "nbconvert_exporter": "python",
   "pygments_lexer": "ipython3",
   "version": "3.7.1"
  }
 },
 "nbformat": 4,
 "nbformat_minor": 4
}
