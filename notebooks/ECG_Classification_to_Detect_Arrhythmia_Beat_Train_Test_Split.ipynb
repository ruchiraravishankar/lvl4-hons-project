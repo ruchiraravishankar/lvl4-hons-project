{
 "cells": [
  {
   "cell_type": "code",
   "execution_count": 1,
   "metadata": {
    "id": "FdaGDfPPeMAp"
   },
   "outputs": [],
   "source": [
    "import os\n",
    "import sys\n",
    "from glob import glob\n",
    "import numpy as np\n",
    "import pandas as pd\n",
    "# import wfdb\n",
    "# import biosignalsnotebooks as bsnb\n",
    "# from wfdb import processing\n",
    "from matplotlib import pyplot as plt\n",
    "# from scipy import signal\n",
    "# from biosppy.signals import ecg\n",
    "np.set_printoptions(threshold=sys.maxsize)\n",
    "import umap\n",
    "import sklearn.utils as slu\n",
    "# from sklearn.model_selection import LeaveOneOut"
   ]
  },
  {
   "cell_type": "code",
   "execution_count": 2,
   "metadata": {
    "id": "a_eUxbyZeMAv"
   },
   "outputs": [],
   "source": [
    "# from sklearn.manifold import TSNE"
   ]
  },
  {
   "cell_type": "code",
   "execution_count": null,
   "metadata": {
    "colab": {
     "base_uri": "https://localhost:8080/"
    },
    "id": "hlTd1KZH2-RF",
    "outputId": "caf9405f-0cdc-4b47-8092-5afa1d1402dd"
   },
   "outputs": [
    {
     "name": "stdout",
     "output_type": "stream",
     "text": [
      "Mounted at /content/drive\n"
     ]
    }
   ],
   "source": [
    "from google.colab import drive\n",
    "drive.mount('/content/drive')"
   ]
  },
  {
   "cell_type": "code",
   "execution_count": null,
   "metadata": {
    "id": "fcLt2KTreMA2"
   },
   "outputs": [],
   "source": [
    "# store = '/Users/ruchira/Documents/lvl_4_project/lvl4-hons-project/mit-bih-arrhythmia-database-1.0.0/100'\n",
    "# record = wfdb.rdrecord(store, sampto=100)\n",
    "# # wfdb.plot_wfdb(record, title='Record 100 from MIT-BIH Arrhythmia database') \n",
    "# display(record.__dict__)"
   ]
  },
  {
   "cell_type": "code",
   "execution_count": null,
   "metadata": {
    "id": "G3gOcUYPeMA5"
   },
   "outputs": [],
   "source": [
    "# data, header = bsnb.load_signal(\"ecg_4000_Hz\", get_header=True)"
   ]
  },
  {
   "cell_type": "code",
   "execution_count": null,
   "metadata": {
    "id": "r-XafmFheMA8"
   },
   "outputs": [],
   "source": [
    "# sig, fields = wfdb.rdsamp(store, channels=[0])\n",
    "# xqrs = processing.XQRS(sig=sig[:,0], fs=fields['fs'])\n",
    "# xqrs.detect()\n",
    "# wfdb.plot_items(signal=sig, ann_samp=[xqrs.qrs_inds])"
   ]
  },
  {
   "cell_type": "code",
   "execution_count": null,
   "metadata": {
    "id": "Q-c3cwUIeMA_",
    "scrolled": true
   },
   "outputs": [],
   "source": [
    "# file_path = glob.glob('./mit-bih-arrhythmia-database-1.0.0/*.atr')\n",
    "# files = [i[:-4] for i in file_path]\n",
    "# files.sort()\n",
    "\n",
    "\n",
    "# file = './mit-bih-arrhythmia-database-1.0.0/100'\n",
    "\n",
    "# ann_ref = wfdb.rdann(file, 'atr')\n",
    "\n",
    "# number_of_rpeaks = len(ann_ref.symbol)\n",
    "\n",
    "# values = np.zeros((48,2))\n",
    "# classes = ['N','R','L','V','A','E']\n",
    "# for i in range(len(files)):\n",
    "#     signals, fields = wfdb.rdsamp(files[i])\n",
    "#     annotation = wfdb.rdann(files[i], 'atr')\n",
    "#     for j in classes:\n",
    "#         ids = np.in1d(annotation.symbol, j)\n",
    "#         beats = annotation.sample[ids]\n",
    "#         values[i] = [j,len(beats)]\n",
    "\n",
    "# print(values)\n",
    "\n",
    "\n",
    "\n",
    "# n = ['N']\n",
    "# v = ['V']\n",
    "\n",
    "# check_normal = np.in1d(ann_ref.symbol, n)\n",
    "# check_v = np.in1d(ann_ref.symbol, v)\n",
    "\n",
    "# normal_beats = ann_ref.sample[check_normal]\n",
    "# v_beats = ann_ref.sample[check_v]\n",
    "\n",
    "# print(len(check_normal))\n",
    "\n",
    "# comparitor = processing.compare_annotations(ann_ref.sample[1:], xqrs.qrs_inds, int(0.1 * fields['fs']), sig[:,0])\n",
    "# comparitor.print_summary()\n",
    "# comparitor.plot()"
   ]
  },
  {
   "cell_type": "code",
   "execution_count": null,
   "metadata": {
    "id": "lK_67AXMeMBB"
   },
   "outputs": [],
   "source": [
    "\n",
    "# def get_data(path):\n",
    "#     file_path = glob(path)\n",
    "#     files = [i[:-4] for i in file_path]\n",
    "#     files.sort()\n",
    "#     return files"
   ]
  },
  {
   "cell_type": "markdown",
   "metadata": {
    "id": "QR8hxGjSeMBF"
   },
   "source": [
    "## Histogram"
   ]
  },
  {
   "cell_type": "code",
   "execution_count": null,
   "metadata": {
    "id": "bb7i_8-qeMBF"
   },
   "outputs": [],
   "source": [
    "\n",
    "# print(len(get_data()))\n",
    "# path = '/Users/ruchira/Documents/lvl_4_project/lvl4-hons-project/mit-bih-arrhythmia-database-1.0.0/*.atr'\n",
    "# file_list = get_data(path)\n",
    "\n",
    "# ann_list = []\n",
    "# for i in range(len(file_list)): #going through each of the 48 files...\n",
    "#     data_file = file_list[i] #one file of the 48\n",
    "#     record = wfdb.rdsamp(data_file)  #returns an array of the sample\n",
    "#     ann_ref = wfdb.rdann(data_file, 'atr') #reading annotations in the file\n",
    "#     ann_list.extend(ann_ref.symbol)\n",
    "    \n",
    "# ann_array = np.array(ann_list)\n",
    "# print(ann_array.shape)\n",
    "# # annp = wfdb.rdann(file_list[7], 'atr')\n",
    "# # print(len(annp.symbol))\n",
    "# # print(annp.label_store)\n",
    "\n",
    "\n",
    "\n",
    "# actual_beats = ['N','L','R','B','A','a','J','S','V','r',\n",
    "#              'F','e','j','n','E','/','f','Q','?']\n",
    "\n",
    "# ann_dict = {}\n",
    "\n",
    "# for i in ann_array:\n",
    "#     ann_dict[i] = ann_dict.get(i,0)+1\n",
    "\n",
    "# ann_dict = {k:v for k,v in ann_dict.items() if k in actual_beats}\n",
    "\n",
    "\n",
    "# plt.figure(figsize=(12,8))\n",
    "\n",
    "# xlocs, xlabs = plt.xticks()\n",
    "\n",
    "# bars = plt.bar(list(ann_dict.keys()), ann_dict.values(), width=.7)\n",
    "# plt.title(\"Heart beat classification by annotation\")\n",
    "# xlocs = [i for i in ann_dict.keys()]\n",
    "# ylabs = [i for i in ann_dict.values()]\n",
    "\n",
    "# plt.xlabel(\"Annotations\")\n",
    "# plt.ylabel(\"Number of beats\")\n",
    "\n",
    "# for bar in bars:\n",
    "#     yval = bar.get_height()\n",
    "#     plt.text(bar.get_x(), yval + 300, yval)\n",
    "    \n",
    "\n",
    "# redundant code\n",
    "# xlocs = [i/2 for i in range(len(ann_dict.keys()))]\n",
    "# for i, v in enumerate(ann_dict.values()):\n",
    "#     plt.text((xlocs[i] - 0.25, v + 0.01, str(v)))\n",
    "\n",
    "# print(np.array(ann_ref.symbol).shape)\n",
    "# print(record[1].get('fs'))\n",
    "# print(record[0].shape)\n",
    "# print(len(ann_ref.num)) #prints number of annotations (no of beats) \n",
    "# # num is the labelled annotation number for each annotation\n",
    "# print(ann_ref.symbol)"
   ]
  },
  {
   "cell_type": "markdown",
   "metadata": {
    "id": "hCIWmtl0eMBI"
   },
   "source": [
    "## Visualising the Data per Patient"
   ]
  },
  {
   "cell_type": "code",
   "execution_count": null,
   "metadata": {
    "id": "ZNDCTBOFeMBJ"
   },
   "outputs": [],
   "source": [
    "#Visualising the data\n",
    "# file_index = 0 #0 to 47 files in the database\n",
    "\n",
    "# current_file = file_list[file_index]\n",
    "\n",
    "# record = wfdb.rdsamp(current_file)\n",
    "# ann_ref = wfdb.rdann(current_file, 'atr')\n",
    "\n",
    "\n",
    "\n",
    "# samp_start = 0\n",
    "# samp_end = 6500\n",
    "# samples = samp_end - samp_start\n",
    "# #picking first record, picking first channel, \n",
    "# #going from samp_start to samp_end in that channel\n",
    "# channel = record[0][samp_start:samp_end, 1]\n",
    "# #record is coming fromt the FIRST cell using the first file, change it there to see next file\n",
    "# time = (np.arange(samples, dtype='float')+ samp_start)/record[1].get('fs')\n",
    "\n",
    "# plt.figure(figsize=(20,10))\n",
    "# plt.plot(time,channel)\n",
    "\n",
    "\n",
    "# peak_location=np.logical_and(ann_ref.sample >= samp_start, ann_ref.sample < samp_end)\n",
    "# #.sample returns a numpy array containing the annotation locations in samples relative to the beginning of the record\n",
    "# #i.e., where each beat is\n",
    "# anns = ann_ref.sample[peak_location] - samp_start\n",
    "# ann_types = np.array(ann_ref.symbol)\n",
    "# req_ann_types = ann_types[peak_location]\n",
    "# print(ann_types.shape, req_ann_types.shape)\n",
    "\n",
    "\n",
    "# ann_time = time[anns]\n",
    "# plt.plot(ann_time, np.ones_like(ann_time)*channel.max()*1.4,'ro')\n",
    "\n",
    "\n",
    "# for index, annotation in enumerate(anns):\n",
    "#     plt.annotate(ann_types[index], xy = (time[annotation], channel.max()*1.1))\n",
    "\n",
    "    \n",
    "# plt.xlim([samp_start / record[1].get('fs'), (samp_end/record[1].get('fs'))+1])\n",
    "# plt.xlabel('offset')\n",
    "# plt.ylabel(record[1].get('sig_name')[1])\n",
    "# plt.show()\n",
    "# q = np.array([[1,2,3,4,5,6],[7,8,9,10,11,12]])\n",
    "# print(q.shape)\n",
    "# for i, z in enumerate(q):\n",
    "#     print(z)"
   ]
  },
  {
   "cell_type": "code",
   "execution_count": null,
   "metadata": {
    "id": "vi0_GtwVeMBN",
    "scrolled": true
   },
   "outputs": [],
   "source": [
    "\n",
    "# for file in file_list:\n",
    "#     path = file.split('/')\n",
    "#     fn = path[-1]\n",
    "#     record = wfdb.rdsamp(file)\n",
    "#     ecg_val = record[0].T\n",
    "#     ann_ref = wfdb.rdann(file,'atr')\n",
    "\n",
    "#     ann_list = np.array(ann_ref.symbol)\n",
    "#     ann_number = np.zeros_like(ann_list, dtype='float')\n",
    "    \n",
    "#     for annid, anno in enumerate(ann_list):\n",
    "#         if anno == 'N':\n",
    "#             ann_number[annid] = 1.0\n",
    "#         elif anno == 'L':\n",
    "#             ann_number[annid] = 2.0\n",
    "#         elif anno == 'R':\n",
    "#             ann_number[annid] = 3.0\n",
    "#         elif anno == 'A':\n",
    "#             ann_number[annid] = 4.0\n",
    "#         elif anno == 'V':\n",
    "#             ann_number[annid] = 5.0\n",
    "#         elif anno == 'F':\n",
    "#             ann_number[annid] = 6.0\n",
    "#         elif anno == 'f':\n",
    "#             ann_number[annid] = 7.0\n",
    "#         elif anno == '/':\n",
    "#             ann_number[annid] = 8.0\n",
    "#     all_ann_numbers = np.zeros_like(ecg_val[0], dtype='float')\n",
    "#     all_ann_numbers[ann_ref.sample] = ann_number\n",
    "\n",
    "#     for ch_id, channel in enumerate(ecg_val): #enumerates the 2 channels - so 0 and 1\n",
    "#         channel_name = record[1].get('sig_name')[ch_id]\n",
    "#         print(\"ECG channel: \", channel_name)\n",
    "        \n",
    "#         ecg_output = ecg.ecg(signal=channel, sampling_rate=360, show=False)\n",
    "#         rpeaks = np.zeros_like(channel, dtype='float')\n",
    "#         rpeaks[ecg_output['rpeaks']] = 1.0\n",
    "        \n",
    "\n",
    "#         all_beats = np.array(np.split(channel, ecg_output['rpeaks']))\n",
    "\n",
    "#         remove_beats = [0]\n",
    "#         for i, i_val in enumerate(ecg_output['rpeaks']):\n",
    "#             first = i == 0\n",
    "#             last = i == len(all_beats) - 1\n",
    "            \n",
    "#             if first or last:\n",
    "#                 continue\n",
    "            \n",
    "#             if i_val < 10:\n",
    "#                 from_i = 0\n",
    "#             else:\n",
    "#                 from_i = i_val - 10\n",
    "#             to_i = i_val + 10\n",
    "#             anno = all_ann_numbers[from_i:to_i].max()\n",
    "            \n",
    "#             if anno == 0.0:\n",
    "#                 remove_beats = np.append(remove_beats, i)\n",
    "#                 continue\n",
    "            \n",
    "#             all_beats[i] = np.append(all_beats[i][150:], all_beats[i+1][:185])\n",
    "            \n",
    "#             # standardise the data\n",
    "#             all_beats[i] = (all_beats[i]-np.mean(all_beats[i]))/np.std(all_beats[i])\n",
    "\n",
    "# #             newsize = int((all_beats[i].size * 125 / 360))\n",
    "# #             all_beats[i] = signal.resample(all_beats[i], newsize)\n",
    "# #             print(all_beats[i].shape)\n",
    "#             if all_beats[i].size > 430:\n",
    "#                 remove_beats = np.append(remove_beats, i) #here is the problem! removing all beats when frequency is not resampled why?\n",
    "#                 continue\n",
    "            \n",
    "#             zerocount = 430 - all_beats[i].size\n",
    "#             all_beats[i] = np.pad(all_beats[i], (0, zerocount), 'constant', constant_values=(0.0, 0.0))\n",
    "#           #  print(all_beats[i].shape)\n",
    "            \n",
    "#             all_beats[i] = np.append(all_beats[i], anno)\n",
    "#             # print(all_beats[i].shape)\n",
    "#             all_beats[i] = np.append(all_beats[i], fn)\n",
    "#            # print(all_beats[i].shape)\n",
    "#             all_beats[i] = np.append(all_beats[i], ch_id)\n",
    "#         remove_beats = np.append(remove_beats, len(all_beats)-1)\n",
    "# #         print(remove_beats.shape)\n",
    "#         all_beats = np.delete(all_beats, remove_beats)\n",
    "#         #print(all_beats.shape)\n",
    "#         savedata = np.array(list(all_beats[:]), dtype=np.float)\n",
    "        \n",
    "#         outfn = 'data_ecg/'+fn+'_'+channel_name+'.csv'\n",
    "#         print('    Generating ', outfn)\n",
    "#         if not os.path.exists('data_ecg/'):\n",
    "#             os.makedirs('data_ecg/')\n",
    "#         with open(outfn, \"wb\") as fin:\n",
    "#             np.savetxt(fin, savedata, delimiter=\",\", fmt='%f')\n",
    "            \n",
    "    "
   ]
  },
  {
   "cell_type": "code",
   "execution_count": 2,
   "metadata": {
    "colab": {
     "base_uri": "https://localhost:8080/"
    },
    "id": "Tn6hsWe2eMBP",
    "outputId": "bbf7c612-af7c-4017-8c44-c4ecc7eae144"
   },
   "outputs": [
    {
     "name": "stdout",
     "output_type": "stream",
     "text": [
      "(0, 433)\n",
      "loaded all data\n",
      "(145842, 433)\n"
     ]
    }
   ],
   "source": [
    "all_data = np.empty(shape=[0,433])\n",
    "print(all_data.shape)\n",
    "# csv_files = glob('./drive/My Drive/ecg/data_ecg/*.csv')\n",
    "csv_files = glob('./data_ecg/*.csv')\n",
    "\n",
    "for file in  csv_files:\n",
    "    heartbeat = np.loadtxt(file, delimiter=',')\n",
    "    all_data = np.append(all_data, heartbeat, axis=0)\n",
    "\n",
    "print(\"loaded all data\")\n",
    "print(all_data.shape)"
   ]
  },
  {
   "cell_type": "markdown",
   "metadata": {
    "id": "mTs8hMP0eMBS"
   },
   "source": [
    "## Visualise the heartbeats"
   ]
  },
  {
   "cell_type": "code",
   "execution_count": null,
   "metadata": {
    "id": "UcG1bcNXeMBT"
   },
   "outputs": [],
   "source": [
    "# data = np.loadtxt('/Users/ruchira/Documents/lvl_4_project/lvl4-hons-project/data_ecg/100_MLII.csv', delimiter=',')\n",
    "# for beat_num in [0,1,2,3,4,5,6,7]:\n",
    "#     time_value = np.arange(430, dtype = 'float') / 430\n",
    "#     current_beat = data[beat_num][:-3]\n",
    "#     ann_num = data[beat_num][-3]\n",
    "#     plt.figure(figsize=(20,5))\n",
    "#     plt.plot(time_value, current_beat)\n",
    "#     plt.xlabel('Time in seconds')\n",
    "#     plt.ylabel('beat number: ' + str(beat_num) + ' type of beat: ' + str(ann_num))"
   ]
  },
  {
   "cell_type": "code",
   "execution_count": 3,
   "metadata": {
    "id": "2D6ewwIuyHYm"
   },
   "outputs": [],
   "source": [
    "shuffled_all = all_data\n",
    "np.random.shuffle(shuffled_all)"
   ]
  },
  {
   "cell_type": "code",
   "execution_count": 4,
   "metadata": {
    "colab": {
     "base_uri": "https://localhost:8080/"
    },
    "id": "xZ02H4egydnl",
    "outputId": "5e8f48c0-3b7b-45d8-ed74-8926d68d0b16"
   },
   "outputs": [
    {
     "name": "stdout",
     "output_type": "stream",
     "text": [
      "(109381, 430)\n",
      "(36461, 430)\n",
      "(109381,)\n",
      "(36461,)\n"
     ]
    }
   ],
   "source": [
    "from sklearn.model_selection import train_test_split\n",
    "X_train, X_test, y_train, y_test = train_test_split(shuffled_all[:,:-3], shuffled_all[:,-3], test_size=0.25)\n",
    "\n",
    "print(X_train.shape)\n",
    "print(X_test.shape)\n",
    "print(y_train.shape)\n",
    "print(y_test.shape)"
   ]
  },
  {
   "cell_type": "code",
   "execution_count": 6,
   "metadata": {},
   "outputs": [],
   "source": [
    "X_train_file = './train_test_imbal/X_train.csv'\n",
    "y_train_file = './train_test_imbal/y_train.csv'\n",
    "X_test_file = './train_test_imbal/X_test.csv'\n",
    "y_test_file = './train_test_imbal/y_test.csv'\n",
    "\n",
    "\n",
    "\n",
    "with open(X_train_file, 'wb') as f:\n",
    "    np.savetxt(f, X_train, delimiter=\",\", fmt='%f')\n",
    "with open(y_train_file, 'wb') as f:\n",
    "    np.savetxt(f, y_train, delimiter=\",\", fmt='%f')\n",
    "with open(X_test_file, 'wb') as f:\n",
    "    np.savetxt(f, X_test, delimiter=\",\", fmt='%f')\n",
    "with open(y_test_file, 'wb') as f:\n",
    "    np.savetxt(f, y_test, delimiter=\",\", fmt='%f')\n",
    "# Create a cell to load data from files below this!!!!!\n"
   ]
  },
  {
   "cell_type": "code",
   "execution_count": 7,
   "metadata": {},
   "outputs": [
    {
     "ename": "KeyboardInterrupt",
     "evalue": "",
     "output_type": "error",
     "traceback": [
      "\u001b[0;31m---------------------------------------------------------------------------\u001b[0m",
      "\u001b[0;31mKeyboardInterrupt\u001b[0m                         Traceback (most recent call last)",
      "\u001b[0;32m<ipython-input-7-e10dfb7de27c>\u001b[0m in \u001b[0;36m<module>\u001b[0;34m\u001b[0m\n\u001b[1;32m      1\u001b[0m \u001b[0mX_train\u001b[0m \u001b[0;34m=\u001b[0m \u001b[0mnp\u001b[0m\u001b[0;34m.\u001b[0m\u001b[0mloadtxt\u001b[0m\u001b[0;34m(\u001b[0m\u001b[0;34m'./train_test_imbal/X_train.csv'\u001b[0m\u001b[0;34m,\u001b[0m \u001b[0mdelimiter\u001b[0m\u001b[0;34m=\u001b[0m\u001b[0;34m','\u001b[0m\u001b[0;34m)\u001b[0m\u001b[0;34m\u001b[0m\u001b[0;34m\u001b[0m\u001b[0m\n\u001b[1;32m      2\u001b[0m \u001b[0my_train\u001b[0m \u001b[0;34m=\u001b[0m \u001b[0mnp\u001b[0m\u001b[0;34m.\u001b[0m\u001b[0mloadtxt\u001b[0m\u001b[0;34m(\u001b[0m\u001b[0;34m'./train_test_imbal/y_train.csv'\u001b[0m\u001b[0;34m,\u001b[0m \u001b[0mdelimiter\u001b[0m\u001b[0;34m=\u001b[0m\u001b[0;34m','\u001b[0m\u001b[0;34m)\u001b[0m\u001b[0;34m\u001b[0m\u001b[0;34m\u001b[0m\u001b[0m\n\u001b[0;32m----> 3\u001b[0;31m \u001b[0mX_test\u001b[0m \u001b[0;34m=\u001b[0m \u001b[0mnp\u001b[0m\u001b[0;34m.\u001b[0m\u001b[0mloadtxt\u001b[0m\u001b[0;34m(\u001b[0m\u001b[0;34m'./train_test_imbal/X_test.csv'\u001b[0m\u001b[0;34m,\u001b[0m \u001b[0mdelimiter\u001b[0m\u001b[0;34m=\u001b[0m\u001b[0;34m','\u001b[0m\u001b[0;34m)\u001b[0m\u001b[0;34m\u001b[0m\u001b[0;34m\u001b[0m\u001b[0m\n\u001b[0m\u001b[1;32m      4\u001b[0m \u001b[0my_test\u001b[0m \u001b[0;34m=\u001b[0m \u001b[0mnp\u001b[0m\u001b[0;34m.\u001b[0m\u001b[0mloadtxt\u001b[0m\u001b[0;34m(\u001b[0m\u001b[0;34m'./train_test_imbal/y_test.csv'\u001b[0m\u001b[0;34m,\u001b[0m \u001b[0mdelimiter\u001b[0m\u001b[0;34m=\u001b[0m\u001b[0;34m','\u001b[0m\u001b[0;34m)\u001b[0m\u001b[0;34m\u001b[0m\u001b[0;34m\u001b[0m\u001b[0m\n",
      "\u001b[0;32m/Library/Frameworks/Python.framework/Versions/3.7/lib/python3.7/site-packages/numpy/lib/npyio.py\u001b[0m in \u001b[0;36mloadtxt\u001b[0;34m(fname, dtype, comments, delimiter, converters, skiprows, usecols, unpack, ndmin, encoding, max_rows)\u001b[0m\n\u001b[1;32m   1157\u001b[0m         \u001b[0;31m# converting the data\u001b[0m\u001b[0;34m\u001b[0m\u001b[0;34m\u001b[0m\u001b[0;34m\u001b[0m\u001b[0m\n\u001b[1;32m   1158\u001b[0m         \u001b[0mX\u001b[0m \u001b[0;34m=\u001b[0m \u001b[0;32mNone\u001b[0m\u001b[0;34m\u001b[0m\u001b[0;34m\u001b[0m\u001b[0m\n\u001b[0;32m-> 1159\u001b[0;31m         \u001b[0;32mfor\u001b[0m \u001b[0mx\u001b[0m \u001b[0;32min\u001b[0m \u001b[0mread_data\u001b[0m\u001b[0;34m(\u001b[0m\u001b[0m_loadtxt_chunksize\u001b[0m\u001b[0;34m)\u001b[0m\u001b[0;34m:\u001b[0m\u001b[0;34m\u001b[0m\u001b[0;34m\u001b[0m\u001b[0m\n\u001b[0m\u001b[1;32m   1160\u001b[0m             \u001b[0;32mif\u001b[0m \u001b[0mX\u001b[0m \u001b[0;32mis\u001b[0m \u001b[0;32mNone\u001b[0m\u001b[0;34m:\u001b[0m\u001b[0;34m\u001b[0m\u001b[0;34m\u001b[0m\u001b[0m\n\u001b[1;32m   1161\u001b[0m                 \u001b[0mX\u001b[0m \u001b[0;34m=\u001b[0m \u001b[0mnp\u001b[0m\u001b[0;34m.\u001b[0m\u001b[0marray\u001b[0m\u001b[0;34m(\u001b[0m\u001b[0mx\u001b[0m\u001b[0;34m,\u001b[0m \u001b[0mdtype\u001b[0m\u001b[0;34m)\u001b[0m\u001b[0;34m\u001b[0m\u001b[0;34m\u001b[0m\u001b[0m\n",
      "\u001b[0;32m/Library/Frameworks/Python.framework/Versions/3.7/lib/python3.7/site-packages/numpy/lib/npyio.py\u001b[0m in \u001b[0;36mread_data\u001b[0;34m(chunk_size)\u001b[0m\n\u001b[1;32m   1085\u001b[0m \u001b[0;34m\u001b[0m\u001b[0m\n\u001b[1;32m   1086\u001b[0m             \u001b[0;31m# Convert each value according to its column and store\u001b[0m\u001b[0;34m\u001b[0m\u001b[0;34m\u001b[0m\u001b[0;34m\u001b[0m\u001b[0m\n\u001b[0;32m-> 1087\u001b[0;31m             \u001b[0mitems\u001b[0m \u001b[0;34m=\u001b[0m \u001b[0;34m[\u001b[0m\u001b[0mconv\u001b[0m\u001b[0;34m(\u001b[0m\u001b[0mval\u001b[0m\u001b[0;34m)\u001b[0m \u001b[0;32mfor\u001b[0m \u001b[0;34m(\u001b[0m\u001b[0mconv\u001b[0m\u001b[0;34m,\u001b[0m \u001b[0mval\u001b[0m\u001b[0;34m)\u001b[0m \u001b[0;32min\u001b[0m \u001b[0mzip\u001b[0m\u001b[0;34m(\u001b[0m\u001b[0mconverters\u001b[0m\u001b[0;34m,\u001b[0m \u001b[0mvals\u001b[0m\u001b[0;34m)\u001b[0m\u001b[0;34m]\u001b[0m\u001b[0;34m\u001b[0m\u001b[0;34m\u001b[0m\u001b[0m\n\u001b[0m\u001b[1;32m   1088\u001b[0m \u001b[0;34m\u001b[0m\u001b[0m\n\u001b[1;32m   1089\u001b[0m             \u001b[0;31m# Then pack it according to the dtype's nesting\u001b[0m\u001b[0;34m\u001b[0m\u001b[0;34m\u001b[0m\u001b[0;34m\u001b[0m\u001b[0m\n",
      "\u001b[0;32m/Library/Frameworks/Python.framework/Versions/3.7/lib/python3.7/site-packages/numpy/lib/npyio.py\u001b[0m in \u001b[0;36m<listcomp>\u001b[0;34m(.0)\u001b[0m\n\u001b[1;32m   1085\u001b[0m \u001b[0;34m\u001b[0m\u001b[0m\n\u001b[1;32m   1086\u001b[0m             \u001b[0;31m# Convert each value according to its column and store\u001b[0m\u001b[0;34m\u001b[0m\u001b[0;34m\u001b[0m\u001b[0;34m\u001b[0m\u001b[0m\n\u001b[0;32m-> 1087\u001b[0;31m             \u001b[0mitems\u001b[0m \u001b[0;34m=\u001b[0m \u001b[0;34m[\u001b[0m\u001b[0mconv\u001b[0m\u001b[0;34m(\u001b[0m\u001b[0mval\u001b[0m\u001b[0;34m)\u001b[0m \u001b[0;32mfor\u001b[0m \u001b[0;34m(\u001b[0m\u001b[0mconv\u001b[0m\u001b[0;34m,\u001b[0m \u001b[0mval\u001b[0m\u001b[0;34m)\u001b[0m \u001b[0;32min\u001b[0m \u001b[0mzip\u001b[0m\u001b[0;34m(\u001b[0m\u001b[0mconverters\u001b[0m\u001b[0;34m,\u001b[0m \u001b[0mvals\u001b[0m\u001b[0;34m)\u001b[0m\u001b[0;34m]\u001b[0m\u001b[0;34m\u001b[0m\u001b[0;34m\u001b[0m\u001b[0m\n\u001b[0m\u001b[1;32m   1088\u001b[0m \u001b[0;34m\u001b[0m\u001b[0m\n\u001b[1;32m   1089\u001b[0m             \u001b[0;31m# Then pack it according to the dtype's nesting\u001b[0m\u001b[0;34m\u001b[0m\u001b[0;34m\u001b[0m\u001b[0;34m\u001b[0m\u001b[0m\n",
      "\u001b[0;32m/Library/Frameworks/Python.framework/Versions/3.7/lib/python3.7/site-packages/numpy/lib/npyio.py\u001b[0m in \u001b[0;36mfloatconv\u001b[0;34m(x)\u001b[0m\n\u001b[1;32m    789\u001b[0m \u001b[0;34m\u001b[0m\u001b[0m\n\u001b[1;32m    790\u001b[0m     \u001b[0;32mdef\u001b[0m \u001b[0mfloatconv\u001b[0m\u001b[0;34m(\u001b[0m\u001b[0mx\u001b[0m\u001b[0;34m)\u001b[0m\u001b[0;34m:\u001b[0m\u001b[0;34m\u001b[0m\u001b[0;34m\u001b[0m\u001b[0m\n\u001b[0;32m--> 791\u001b[0;31m         \u001b[0mx\u001b[0m\u001b[0;34m.\u001b[0m\u001b[0mlower\u001b[0m\u001b[0;34m(\u001b[0m\u001b[0;34m)\u001b[0m\u001b[0;34m\u001b[0m\u001b[0;34m\u001b[0m\u001b[0m\n\u001b[0m\u001b[1;32m    792\u001b[0m         \u001b[0;32mif\u001b[0m \u001b[0;34m'0x'\u001b[0m \u001b[0;32min\u001b[0m \u001b[0mx\u001b[0m\u001b[0;34m:\u001b[0m\u001b[0;34m\u001b[0m\u001b[0;34m\u001b[0m\u001b[0m\n\u001b[1;32m    793\u001b[0m             \u001b[0;32mreturn\u001b[0m \u001b[0mfloat\u001b[0m\u001b[0;34m.\u001b[0m\u001b[0mfromhex\u001b[0m\u001b[0;34m(\u001b[0m\u001b[0mx\u001b[0m\u001b[0;34m)\u001b[0m\u001b[0;34m\u001b[0m\u001b[0;34m\u001b[0m\u001b[0m\n",
      "\u001b[0;31mKeyboardInterrupt\u001b[0m: "
     ]
    }
   ],
   "source": [
    "X_train = np.loadtxt('./train_test_imbal/X_train.csv', delimiter=',')\n",
    "y_train = np.loadtxt('./train_test_imbal/y_train.csv', delimiter=',')\n",
    "X_test = np.loadtxt('./train_test_imbal/X_test.csv', delimiter=',')\n",
    "y_test = np.loadtxt('./train_test_imbal/y_test.csv', delimiter=',')"
   ]
  },
  {
   "cell_type": "code",
   "execution_count": null,
   "metadata": {},
   "outputs": [],
   "source": [
    "print(X_train.shape)\n",
    "print(X_test.shape)\n",
    "print(y_train.shape)\n",
    "print(y_test.shape)"
   ]
  },
  {
   "cell_type": "markdown",
   "metadata": {},
   "source": [
    "## SMOTE"
   ]
  },
  {
   "cell_type": "code",
   "execution_count": null,
   "metadata": {
    "id": "p_79bbny3pKm"
   },
   "outputs": [],
   "source": [
    "from imblearn.over_sampling import SMOTE\n",
    "from collections import Counter"
   ]
  },
  {
   "cell_type": "code",
   "execution_count": null,
   "metadata": {
    "colab": {
     "base_uri": "https://localhost:8080/"
    },
    "id": "1QXfoS_u1HFD",
    "outputId": "0a5c9862-cd16-44c8-9124-0c400e8cb82e"
   },
   "outputs": [
    {
     "name": "stdout",
     "output_type": "stream",
     "text": [
      "Counter({1.0: 76705, 8.0: 7306, 3.0: 6185, 2.0: 4759, 5.0: 3578, 4.0: 2360, 7.0: 1199, 6.0: 598})\n",
      "7306\n",
      "76705\n"
     ]
    }
   ],
   "source": [
    "label_count = Counter(y_train)\n",
    "print(label_count)\n",
    "classes, counts = np.unique(y_train, return_counts=True)\n",
    "imbalanced = counts[1:]\n",
    "imb_max = np.max(imbalanced)\n",
    "print(imb_max)\n",
    "normal_count = counts[0]\n",
    "print(normal_count)"
   ]
  },
  {
   "cell_type": "code",
   "execution_count": null,
   "metadata": {
    "colab": {
     "base_uri": "https://localhost:8080/"
    },
    "id": "88eMdjG06kMu",
    "outputId": "2e85b547-82bd-4c78-9440-d3037171f5cf"
   },
   "outputs": [
    {
     "name": "stderr",
     "output_type": "stream",
     "text": [
      "/usr/local/lib/python3.6/dist-packages/sklearn/utils/deprecation.py:87: FutureWarning: Function safe_indexing is deprecated; safe_indexing is deprecated in version 0.22 and will be removed in version 0.24.\n",
      "  warnings.warn(msg, category=FutureWarning)\n",
      "/usr/local/lib/python3.6/dist-packages/sklearn/utils/deprecation.py:87: FutureWarning: Function safe_indexing is deprecated; safe_indexing is deprecated in version 0.22 and will be removed in version 0.24.\n",
      "  warnings.warn(msg, category=FutureWarning)\n",
      "/usr/local/lib/python3.6/dist-packages/sklearn/utils/deprecation.py:87: FutureWarning: Function safe_indexing is deprecated; safe_indexing is deprecated in version 0.22 and will be removed in version 0.24.\n",
      "  warnings.warn(msg, category=FutureWarning)\n",
      "/usr/local/lib/python3.6/dist-packages/sklearn/utils/deprecation.py:87: FutureWarning: Function safe_indexing is deprecated; safe_indexing is deprecated in version 0.22 and will be removed in version 0.24.\n",
      "  warnings.warn(msg, category=FutureWarning)\n",
      "/usr/local/lib/python3.6/dist-packages/sklearn/utils/deprecation.py:87: FutureWarning: Function safe_indexing is deprecated; safe_indexing is deprecated in version 0.22 and will be removed in version 0.24.\n",
      "  warnings.warn(msg, category=FutureWarning)\n",
      "/usr/local/lib/python3.6/dist-packages/sklearn/utils/deprecation.py:87: FutureWarning: Function safe_indexing is deprecated; safe_indexing is deprecated in version 0.22 and will be removed in version 0.24.\n",
      "  warnings.warn(msg, category=FutureWarning)\n"
     ]
    },
    {
     "name": "stdout",
     "output_type": "stream",
     "text": [
      "Counter({1.0: 76705, 2.0: 7306, 5.0: 7306, 3.0: 7306, 4.0: 7306, 8.0: 7306, 7.0: 7306, 6.0: 7306})\n"
     ]
    }
   ],
   "source": [
    "samp_strat = {1:normal_count,2:imb_max,3:imb_max,4:imb_max,5:imb_max,6:imb_max,7:imb_max,8:imb_max}\n",
    "sm = SMOTE(random_state=42, sampling_strategy=samp_strat)\n",
    "X_bal, y_bal = sm.fit_resample(X_train,y_train)\n",
    "print(Counter(y_bal))"
   ]
  },
  {
   "cell_type": "code",
   "execution_count": null,
   "metadata": {
    "colab": {
     "base_uri": "https://localhost:8080/"
    },
    "id": "Xtwhlhlh5CJk",
    "outputId": "0c92cc7d-f222-4c2a-f187-3f1348579846"
   },
   "outputs": [
    {
     "name": "stdout",
     "output_type": "stream",
     "text": [
      "Counter({1.0: 7306, 2.0: 7306, 3.0: 7306, 4.0: 7306, 5.0: 7306, 6.0: 7306, 7.0: 7306, 8.0: 7306})\n"
     ]
    },
    {
     "name": "stderr",
     "output_type": "stream",
     "text": [
      "/usr/local/lib/python3.6/dist-packages/sklearn/utils/deprecation.py:87: FutureWarning: Function safe_indexing is deprecated; safe_indexing is deprecated in version 0.22 and will be removed in version 0.24.\n",
      "  warnings.warn(msg, category=FutureWarning)\n"
     ]
    }
   ],
   "source": [
    "from imblearn.under_sampling import RandomUnderSampler\n",
    "rus = RandomUnderSampler()\n",
    "X_u,y_u = rus.fit_resample(X_bal,y_bal)\n",
    "\n",
    "print(Counter(y_u))"
   ]
  },
  {
   "cell_type": "markdown",
   "metadata": {
    "id": "yz8qPok6_56V"
   },
   "source": [
    "## CF Matrix and Scores Functions"
   ]
  },
  {
   "cell_type": "code",
   "execution_count": null,
   "metadata": {
    "id": "WrnwjkkY_6ka"
   },
   "outputs": [],
   "source": [
    "from sklearn.metrics import *\n",
    "import seaborn as sns\n",
    "def cf_matrix_func(predictions, y_test):\n",
    "    cm = confusion_matrix(y_test, predictions)\n",
    "    categories=['N', 'L', 'R', 'A', 'V', 'F', 'f','P']\n",
    "    cm = cm.astype('float') / cm.sum(axis=1)[:, np.newaxis]\n",
    "    plt.figure(figsize=(10,10))\n",
    "    sns.heatmap(cm, annot=True, \n",
    "                fmt='.2%', cmap='Blues',xticklabels=categories,yticklabels=categories)\n",
    "    plt.xlabel('predicted label')\n",
    "    plt.ylabel('true label')\n",
    "    \n",
    "def scores(predictions, y_test):\n",
    "  accuracy = accuracy_score(y_test, predictions)\n",
    "  precision_micro = precision_score(y_test, predictions, average='micro', labels=[1.0, 2.0, 3.0, 4.0, 5.0, 6.0, 7.0,8.0])\n",
    "  precision_macro = precision_score(y_test, predictions, average='macro', labels=[1.0, 2.0, 3.0, 4.0, 5.0, 6.0, 7.0,8.0])\n",
    "  f1_macro = f1_score(y_test, predictions, average='macro', labels=[1.0, 2.0, 3.0, 4.0, 5.0, 6.0, 7.0,8.0])\n",
    "  f1_micro = f1_score(y_test, predictions, average='micro', labels=[1.0, 2.0, 3.0, 4.0, 5.0, 6.0, 7.0,8.0])\n",
    "  return accuracy, precision_macro, precision_micro, f1_macro, f1_micro"
   ]
  },
  {
   "cell_type": "code",
   "execution_count": null,
   "metadata": {
    "colab": {
     "base_uri": "https://localhost:8080/"
    },
    "id": "QY7ncv408p9L",
    "outputId": "31c44f9f-6bab-4e88-c43f-44456e26148f"
   },
   "outputs": [
    {
     "name": "stdout",
     "output_type": "stream",
     "text": [
      "XGBClassifier(base_score=0.5, booster='gbtree', colsample_bylevel=1,\n",
      "              colsample_bynode=1, colsample_bytree=1, gamma=0,\n",
      "              learning_rate=0.1, max_delta_step=0, max_depth=3,\n",
      "              min_child_weight=1, missing=None, n_estimators=100, n_jobs=1,\n",
      "              nthread=None, objective='multi:softprob', random_state=0,\n",
      "              reg_alpha=0, reg_lambda=1, scale_pos_weight=1, seed=None,\n",
      "              silent=None, subsample=1, verbosity=1)\n"
     ]
    }
   ],
   "source": [
    "from xgboost import XGBClassifier\n",
    "\n",
    "model = XGBClassifier()\n",
    "model.fit(X_u, y_u)\n",
    "# print(model.score(X_test, y_test))\n",
    "print(model)"
   ]
  },
  {
   "cell_type": "code",
   "execution_count": null,
   "metadata": {
    "id": "N13TKjo5BRSA"
   },
   "outputs": [],
   "source": [
    "pred_xgb = model.predict(X_test)"
   ]
  },
  {
   "cell_type": "code",
   "execution_count": null,
   "metadata": {
    "colab": {
     "base_uri": "https://localhost:8080/",
     "height": 643
    },
    "id": "kG-Pxl-RBg8o",
    "outputId": "33bfc6dc-39b5-4918-8b5c-ef31c1df2e6b"
   },
   "outputs": [
    {
     "name": "stdout",
     "output_type": "stream",
     "text": [
      "(0.7315298997984283, 0.49896891472281774, 0.7315298997984283, 0.574314895155899, 0.7315298997984283)\n"
     ]
    },
    {
     "data": {
      "image/png": "[encoded data removed]",
      "text/plain": [
       "<Figure size 720x720 with 2 Axes>"
      ]
     },
     "metadata": {
      "needs_background": "light",
      "tags": []
     },
     "output_type": "display_data"
    }
   ],
   "source": [
    "print(scores(pred_xgb, y_test))\n",
    "cf_matrix_func(pred_xgb, y_test)"
   ]
  },
  {
   "cell_type": "code",
   "execution_count": null,
   "metadata": {
    "id": "cGTbR-_3VzL7"
   },
   "outputs": [],
   "source": [
    "from keras.utils.np_utils import to_categorical\n",
    "from tensorflow.keras import layers\n",
    "from tensorflow.keras.models import Sequential\n",
    "from tensorflow.keras.layers import Dense\n",
    "from tensorflow.keras.models import Model, load_model\n",
    "from tensorflow.keras.utils import to_categorical\n",
    "from tensorflow.keras.layers import Dropout\n",
    "from tensorflow.keras.layers import Flatten\n",
    "from tensorflow.keras.layers import Conv1D\n",
    "from tensorflow.keras.layers import MaxPooling1D"
   ]
  },
  {
   "cell_type": "code",
   "execution_count": null,
   "metadata": {
    "colab": {
     "base_uri": "https://localhost:8080/"
    },
    "id": "k4T3Z7_dW4Jr",
    "outputId": "a210f97c-6880-4d1a-82ec-50136b47df6e"
   },
   "outputs": [
    {
     "name": "stdout",
     "output_type": "stream",
     "text": [
      "(58448, 430, 1)\n",
      "(34231, 430, 1)\n",
      "(58448, 9)\n",
      "(34231, 9)\n"
     ]
    }
   ],
   "source": [
    "X_train_3d = X_u.reshape(-1, X_u.shape[1],1)\n",
    "X_test_3d = X_test.reshape(-1, X_test.shape[1], 1)\n",
    "\n",
    "print(X_train_3d.shape)\n",
    "print(X_test_3d.shape)\n",
    "\n",
    "y_train_cat = to_categorical(y_u)\n",
    "y_test_cat = to_categorical(y_test)\n",
    "print(y_train_cat.shape)\n",
    "print(y_test_cat.shape)"
   ]
  },
  {
   "cell_type": "code",
   "execution_count": null,
   "metadata": {
    "colab": {
     "base_uri": "https://localhost:8080/"
    },
    "id": "rIf588s5W7W_",
    "outputId": "70151c68-0f4c-4519-afab-e04e77588a4c"
   },
   "outputs": [
    {
     "name": "stdout",
     "output_type": "stream",
     "text": [
      "Model: \"sequential\"\n",
      "_________________________________________________________________\n",
      "Layer (type)                 Output Shape              Param #   \n",
      "=================================================================\n",
      "conv1d (Conv1D)              (None, 429, 128)          384       \n",
      "_________________________________________________________________\n",
      "max_pooling1d (MaxPooling1D) (None, 214, 128)          0         \n",
      "_________________________________________________________________\n",
      "conv1d_1 (Conv1D)            (None, 213, 64)           16448     \n",
      "_________________________________________________________________\n",
      "max_pooling1d_1 (MaxPooling1 (None, 106, 64)           0         \n",
      "_________________________________________________________________\n",
      "conv1d_2 (Conv1D)            (None, 105, 32)           4128      \n",
      "_________________________________________________________________\n",
      "max_pooling1d_2 (MaxPooling1 (None, 52, 32)            0         \n",
      "_________________________________________________________________\n",
      "conv1d_3 (Conv1D)            (None, 51, 16)            1040      \n",
      "_________________________________________________________________\n",
      "max_pooling1d_3 (MaxPooling1 (None, 25, 16)            0         \n",
      "_________________________________________________________________\n",
      "dropout (Dropout)            (None, 25, 16)            0         \n",
      "_________________________________________________________________\n",
      "flatten (Flatten)            (None, 400)               0         \n",
      "_________________________________________________________________\n",
      "dense (Dense)                (None, 64)                25664     \n",
      "_________________________________________________________________\n",
      "dense_1 (Dense)              (None, 32)                2080      \n",
      "_________________________________________________________________\n",
      "dense_2 (Dense)              (None, 9)                 297       \n",
      "=================================================================\n",
      "Total params: 50,041\n",
      "Trainable params: 50,041\n",
      "Non-trainable params: 0\n",
      "_________________________________________________________________\n"
     ]
    }
   ],
   "source": [
    "verbose, epoch, batch_size = 1, 50, 128\n",
    "\n",
    "def getModel():\n",
    "    cnnmodel = Sequential()\n",
    "    cnnmodel.add(Conv1D(filters=128, kernel_size=2, activation='relu',input_shape=(X_train_3d.shape[1],X_train_3d.shape[2])))\n",
    "    cnnmodel.add(MaxPooling1D(pool_size=2))\n",
    "    cnnmodel.add(Conv1D(filters=64, kernel_size=2, activation='relu'))\n",
    "    cnnmodel.add(MaxPooling1D(pool_size=2))\n",
    "    cnnmodel.add(Conv1D(filters=32, kernel_size=2, activation='relu'))\n",
    "    cnnmodel.add(MaxPooling1D(pool_size=2))\n",
    "    cnnmodel.add(Conv1D(filters=16, kernel_size=2, activation='relu'))\n",
    "    cnnmodel.add(MaxPooling1D(pool_size=2))\n",
    "    cnnmodel.add(Dropout(rate=0.2))\n",
    "    cnnmodel.add(Flatten())\n",
    "    cnnmodel.add(Dense(64, activation='relu'))\n",
    "    cnnmodel.add(Dense(32, activation='relu'))\n",
    "    cnnmodel.add(Dense(9, activation='softmax'))\n",
    "    cnnmodel.compile(optimizer='adam', loss='categorical_crossentropy',metrics=['accuracy'])\n",
    "    cnnmodel.summary()\n",
    "    return cnnmodel\n",
    "\n",
    "cnnmodel = getModel()"
   ]
  },
  {
   "cell_type": "code",
   "execution_count": null,
   "metadata": {
    "colab": {
     "base_uri": "https://localhost:8080/"
    },
    "id": "3rnwRmyjXM_y",
    "outputId": "0da964a7-424f-4794-dd81-9e28fd963f24"
   },
   "outputs": [
    {
     "name": "stdout",
     "output_type": "stream",
     "text": [
      "Epoch 1/50\n",
      "457/457 [==============================] - 76s 167ms/step - loss: 0.6662 - accuracy: 0.7713\n",
      "Epoch 2/50\n",
      "457/457 [==============================] - 79s 174ms/step - loss: 0.2991 - accuracy: 0.9012\n",
      "Epoch 3/50\n",
      "457/457 [==============================] - 76s 167ms/step - loss: 0.2258 - accuracy: 0.9241\n",
      "Epoch 4/50\n",
      "457/457 [==============================] - 77s 168ms/step - loss: 0.1908 - accuracy: 0.9349\n",
      "Epoch 5/50\n",
      "457/457 [==============================] - 77s 168ms/step - loss: 0.1708 - accuracy: 0.9427\n",
      "Epoch 6/50\n",
      "457/457 [==============================] - 77s 169ms/step - loss: 0.1497 - accuracy: 0.9487\n",
      "Epoch 7/50\n",
      "457/457 [==============================] - 77s 169ms/step - loss: 0.1388 - accuracy: 0.9526\n",
      "Epoch 8/50\n",
      "457/457 [==============================] - 77s 169ms/step - loss: 0.1268 - accuracy: 0.9566\n",
      "Epoch 9/50\n",
      "457/457 [==============================] - 77s 169ms/step - loss: 0.1181 - accuracy: 0.9600\n",
      "Epoch 10/50\n",
      "457/457 [==============================] - 78s 170ms/step - loss: 0.1133 - accuracy: 0.9612\n",
      "Epoch 11/50\n",
      "457/457 [==============================] - 76s 167ms/step - loss: 0.1097 - accuracy: 0.9635\n",
      "Epoch 12/50\n",
      "457/457 [==============================] - 76s 167ms/step - loss: 0.1044 - accuracy: 0.9644\n",
      "Epoch 13/50\n",
      "457/457 [==============================] - 76s 167ms/step - loss: 0.0994 - accuracy: 0.9648\n",
      "Epoch 14/50\n",
      "457/457 [==============================] - 76s 166ms/step - loss: 0.0930 - accuracy: 0.9678\n",
      "Epoch 15/50\n",
      "457/457 [==============================] - 76s 167ms/step - loss: 0.0889 - accuracy: 0.9695\n",
      "Epoch 16/50\n",
      "457/457 [==============================] - 77s 167ms/step - loss: 0.0848 - accuracy: 0.9715\n",
      "Epoch 17/50\n",
      "457/457 [==============================] - 78s 172ms/step - loss: 0.0807 - accuracy: 0.9718\n",
      "Epoch 18/50\n",
      "457/457 [==============================] - 76s 167ms/step - loss: 0.0797 - accuracy: 0.9728\n",
      "Epoch 19/50\n",
      "457/457 [==============================] - 76s 167ms/step - loss: 0.0747 - accuracy: 0.9740\n",
      "Epoch 20/50\n",
      "457/457 [==============================] - 77s 168ms/step - loss: 0.0735 - accuracy: 0.9742\n",
      "Epoch 21/50\n",
      "457/457 [==============================] - 77s 168ms/step - loss: 0.0731 - accuracy: 0.9746\n",
      "Epoch 22/50\n",
      "457/457 [==============================] - 77s 168ms/step - loss: 0.0692 - accuracy: 0.9756\n",
      "Epoch 23/50\n",
      "457/457 [==============================] - 77s 168ms/step - loss: 0.0668 - accuracy: 0.9769\n",
      "Epoch 24/50\n",
      "457/457 [==============================] - 77s 169ms/step - loss: 0.0669 - accuracy: 0.9769\n",
      "Epoch 25/50\n",
      "457/457 [==============================] - 80s 175ms/step - loss: 0.0653 - accuracy: 0.9773\n",
      "Epoch 26/50\n",
      "457/457 [==============================] - 76s 167ms/step - loss: 0.0650 - accuracy: 0.9774\n",
      "Epoch 27/50\n",
      "457/457 [==============================] - 76s 167ms/step - loss: 0.0640 - accuracy: 0.9780\n",
      "Epoch 28/50\n",
      "457/457 [==============================] - 77s 168ms/step - loss: 0.0594 - accuracy: 0.9798\n",
      "Epoch 29/50\n",
      "457/457 [==============================] - 77s 168ms/step - loss: 0.0588 - accuracy: 0.9795\n",
      "Epoch 30/50\n",
      "457/457 [==============================] - 77s 168ms/step - loss: 0.0592 - accuracy: 0.9790\n",
      "Epoch 31/50\n",
      "457/457 [==============================] - 77s 167ms/step - loss: 0.0560 - accuracy: 0.9803\n",
      "Epoch 32/50\n",
      "457/457 [==============================] - 77s 168ms/step - loss: 0.0556 - accuracy: 0.9807\n",
      "Epoch 33/50\n",
      "457/457 [==============================] - 79s 173ms/step - loss: 0.0553 - accuracy: 0.9798\n",
      "Epoch 34/50\n",
      "457/457 [==============================] - 77s 168ms/step - loss: 0.0554 - accuracy: 0.9803\n",
      "Epoch 35/50\n",
      "457/457 [==============================] - 77s 168ms/step - loss: 0.0533 - accuracy: 0.9817\n",
      "Epoch 36/50\n",
      "457/457 [==============================] - 77s 168ms/step - loss: 0.0507 - accuracy: 0.9824\n",
      "Epoch 37/50\n",
      "457/457 [==============================] - 77s 168ms/step - loss: 0.0514 - accuracy: 0.9815\n",
      "Epoch 38/50\n",
      "457/457 [==============================] - 77s 169ms/step - loss: 0.0518 - accuracy: 0.9821\n",
      "Epoch 39/50\n",
      "457/457 [==============================] - 77s 168ms/step - loss: 0.0493 - accuracy: 0.9826\n",
      "Epoch 40/50\n",
      "457/457 [==============================] - 76s 167ms/step - loss: 0.0507 - accuracy: 0.9828\n",
      "Epoch 41/50\n",
      "457/457 [==============================] - 79s 172ms/step - loss: 0.0481 - accuracy: 0.9830\n",
      "Epoch 42/50\n",
      "457/457 [==============================] - 76s 167ms/step - loss: 0.0489 - accuracy: 0.9825\n",
      "Epoch 43/50\n",
      "457/457 [==============================] - 76s 166ms/step - loss: 0.0467 - accuracy: 0.9840\n",
      "Epoch 44/50\n",
      "457/457 [==============================] - 76s 167ms/step - loss: 0.0483 - accuracy: 0.9839\n",
      "Epoch 45/50\n",
      "457/457 [==============================] - 76s 167ms/step - loss: 0.0462 - accuracy: 0.9842\n",
      "Epoch 46/50\n",
      "457/457 [==============================] - 76s 167ms/step - loss: 0.0470 - accuracy: 0.9837\n",
      "Epoch 47/50\n",
      "457/457 [==============================] - 76s 167ms/step - loss: 0.0455 - accuracy: 0.9840\n",
      "Epoch 48/50\n",
      "457/457 [==============================] - 76s 167ms/step - loss: 0.0453 - accuracy: 0.9842\n",
      "Epoch 49/50\n",
      "457/457 [==============================] - 78s 171ms/step - loss: 0.0426 - accuracy: 0.9847\n",
      "Epoch 50/50\n",
      "457/457 [==============================] - 76s 166ms/step - loss: 0.0443 - accuracy: 0.9848\n"
     ]
    }
   ],
   "source": [
    "model = cnnmodel.fit(X_train_3d, y_train_cat, epochs=epoch, verbose=verbose,batch_size=batch_size)"
   ]
  },
  {
   "cell_type": "code",
   "execution_count": null,
   "metadata": {
    "colab": {
     "base_uri": "https://localhost:8080/"
    },
    "id": "iCWzSWXHXQXe",
    "outputId": "27ae8263-9f9d-4ae0-ae9e-ba99870f5c81"
   },
   "outputs": [
    {
     "name": "stdout",
     "output_type": "stream",
     "text": [
      "1070/1070 [==============================] - 14s 13ms/step\n"
     ]
    }
   ],
   "source": [
    "cnnpredictions = cnnmodel.predict(X_test_3d, verbose=1)"
   ]
  },
  {
   "cell_type": "code",
   "execution_count": null,
   "metadata": {
    "id": "t4uAlNmGXTxi"
   },
   "outputs": [],
   "source": [
    "cnn_predict = np.argmax(cnnpredictions, axis=1)\n",
    "true_value = np.argmax(y_test_cat,axis=1)"
   ]
  },
  {
   "cell_type": "code",
   "execution_count": null,
   "metadata": {
    "colab": {
     "base_uri": "https://localhost:8080/",
     "height": 643
    },
    "id": "0AkRvY0WXWnA",
    "outputId": "62492ba9-9244-4590-fbb8-e5b4e7d5ed36"
   },
   "outputs": [
    {
     "name": "stdout",
     "output_type": "stream",
     "text": [
      "(0.9600654377610938, 0.9439720061559647, 0.9600654377610938, 0.8704688858349104, 0.9600654377610938)\n"
     ]
    },
    {
     "data": {
      "image/png": "[encoded data removed]",
      "text/plain": [
       "<Figure size 720x720 with 2 Axes>"
      ]
     },
     "metadata": {
      "needs_background": "light",
      "tags": []
     },
     "output_type": "display_data"
    }
   ],
   "source": [
    "score = scores(true_value, cnn_predict)\n",
    "print(score)\n",
    "cf_matrix_func(cnn_predict,true_value)"
   ]
  },
  {
   "cell_type": "code",
   "execution_count": null,
   "metadata": {
    "id": "5IEvYiXimWn1"
   },
   "outputs": [],
   "source": []
  }
 ],
 "metadata": {
  "colab": {
   "collapsed_sections": [],
   "name": "ECG Classification to Detect Arrhythmia - Beat Train Test Split.ipynb",
   "provenance": [],
   "toc_visible": true
  },
  "kernelspec": {
   "display_name": "Python 3",
   "language": "python",
   "name": "python3"
  },
  "language_info": {
   "codemirror_mode": {
    "name": "ipython",
    "version": 3
   },
   "file_extension": ".py",
   "mimetype": "text/x-python",
   "name": "python",
   "nbconvert_exporter": "python",
   "pygments_lexer": "ipython3",
   "version": "3.7.1"
  }
 },
 "nbformat": 4,
 "nbformat_minor": 1
}
