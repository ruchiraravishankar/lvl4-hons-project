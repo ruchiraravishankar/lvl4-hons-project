{
 "cells": [
  {
   "cell_type": "markdown",
   "metadata": {
    "id": "z3i_IytO1JBD"
   },
   "source": [
    "# Only required to run from here using sampled_data.csv"
   ]
  },
  {
   "cell_type": "code",
   "execution_count": null,
   "metadata": {
    "colab": {
     "base_uri": "https://localhost:8080/"
    },
    "id": "BoK606hW2leG",
    "outputId": "ead5c4fc-3c30-4a51-93d9-e10e5e725be2"
   },
   "outputs": [
    {
     "name": "stdout",
     "output_type": "stream",
     "text": [
      "Mounted at /content/drive\n"
     ]
    }
   ],
   "source": [
    "from google.colab import drive\n",
    "drive.mount('/content/drive')"
   ]
  },
  {
   "cell_type": "code",
   "execution_count": null,
   "metadata": {
    "colab": {
     "base_uri": "https://localhost:8080/"
    },
    "id": "BU5xW689eMBe",
    "outputId": "c681c687-5f3d-494a-9b62-dfff96af6369"
   },
   "outputs": [
    {
     "name": "stdout",
     "output_type": "stream",
     "text": [
      "Loading ./drive/My Drive/ecg/sampled_data.csv\n",
      "(39640, 433)\n"
     ]
    }
   ],
   "source": [
    "#sampled = np.empty(shape=[0,433])\n",
    "sampled_csv = './drive/My Drive/ecg/sampled_data.csv'\n",
    "#with open('./sampled_data.csv', 'rb') as sampled_csv:\n",
    "# for i in sampled_csv:\n",
    "#     print('Loading', i)\n",
    "#     row = np.loadtxt(i, delimiter=',')\n",
    "#     sampled = np.append(sampled, row, axis=0)\n",
    "# print(sampled.shape)\n",
    "print('Loading', sampled_csv)\n",
    "sampled = np.genfromtxt(sampled_csv, delimiter=',')\n",
    "print(sampled.shape)"
   ]
  },
  {
   "cell_type": "markdown",
   "metadata": {
    "id": "xn_xgHPheMBh"
   },
   "source": [
    "## Segmenting the data for training and testing using LOOCV Dataset A  \n",
    "### Intra-patient"
   ]
  },
  {
   "cell_type": "code",
   "execution_count": null,
   "metadata": {
    "id": "46c5eAyweMBh",
    "scrolled": true
   },
   "outputs": [],
   "source": [
    "#LOOCV within one patient, choose patient number\n",
    "# patient = 100\n",
    "# patient_sample = sampled[sampled[:,-1] == patient]\n",
    "# print(patient_sample.shape)"
   ]
  },
  {
   "cell_type": "code",
   "execution_count": null,
   "metadata": {
    "id": "U3Dv0kT1eMBl",
    "scrolled": true
   },
   "outputs": [],
   "source": [
    "# # LOOCV function to split into train and test for one patient\n",
    "# # need to figure out average\n",
    "# def loocv(patient_sample):\n",
    "#     x = patient_sample[:,:-2]\n",
    "#     y = patient_sample[:,-2]\n",
    "#     group = patient_sample[:,-1]\n",
    "\n",
    "#     cv = LeaveOneOut()\n",
    "#     n = cv.get_n_splits(x,y=y,groups=group)\n",
    "#     #print(n)\n",
    "\n",
    "#     split = cv.split(X=x,y=y,groups=group)\n",
    "\n",
    "#     train = []\n",
    "#     test = []\n",
    "#     for train_index, test_index in split:\n",
    "#         train.append(train_index)\n",
    "#         test.append(test_index)\n",
    "\n",
    "#     train = np.array(train)\n",
    "#     test = np.array(test)\n",
    "#     x_train_data = x[train]\n",
    "#     x_test_data = x[test]\n",
    "#     y_train_data = y[train]\n",
    "#     y_test_data = y[test]\n",
    "    \n",
    "#     return x_train_data, x_test_data, y_train_data, y_test_data\n",
    "\n",
    "\n",
    "# x_train_data, x_test_data, y_train_data, y_test_data = loocv(patient_sample)"
   ]
  },
  {
   "cell_type": "code",
   "execution_count": 1,
   "metadata": {
    "id": "K1IWKjaveMBn",
    "outputId": "b341dd2f-5214-4d0f-dd52-c3dd91740847"
   },
   "outputs": [],
   "source": [
    "#Leave one patient out and store each segment in train test arrays\n",
    "# from sklearn.model_selection import LeaveOneGroupOut\n",
    "# def leave_one_patient():\n",
    "#     x = sampled[:,:-2]\n",
    "#     y = sampled[:,-2]\n",
    "#     groups = sampled[:,-1]\n",
    "#     lopo = LeaveOneGroupOut()\n",
    "#     lopo.get_n_splits(x,y,groups)\n",
    "#     x_train = []\n",
    "#     x_test = []\n",
    "#     y_train = []\n",
    "#     y_test = []\n",
    "#     for train_index, test_index in lopo.split(x,y,groups):\n",
    "#         x_tr, x_te = x[train_index], x[test_index]\n",
    "#         y_tr, y_te = y[train_index], y[test_index]\n",
    "#         x_train.append(x_tr)\n",
    "#         x_test.append(x_te)\n",
    "#         y_train.append(y_tr)\n",
    "#         y_test.append(y_te)\n",
    "#     x_train = np.array(x_train)\n",
    "#     x_test = np.array(x_test)\n",
    "#     y_train = np.array(y_train)\n",
    "#     y_test = np.array(y_test)\n",
    "#     return x_train, x_test, y_train, y_test\n",
    "\n",
    "# x_train, x_test, y_train, y_test = leave_one_patient()"
   ]
  },
  {
   "cell_type": "code",
   "execution_count": 2,
   "metadata": {
    "id": "j_bE26P4eMBq"
   },
   "outputs": [],
   "source": [
    "# #calculates average for lopo and trains model, returns score\n",
    "# def score_calculator(model, X_train_arr, y_train_arr, x_test_arr, y_test_arr):\n",
    "#     score_arr = []\n",
    "#     for xtr, ytr, xt, yt in zip(X_train_arr, y_train_arr, x_test_arr, y_test_arr):\n",
    "#         model.fit(xtr, ytr)\n",
    "#         model_pred = model.predict(xt)\n",
    "#         score = accuracy_score(yt, model_pred)\n",
    "#         score_arr.append(score)\n",
    "    \n",
    "#     mean_score = np.mean(score_arr)\n",
    "#     return score_arr, mean_score\n",
    "    "
   ]
  },
  {
   "cell_type": "markdown",
   "metadata": {
    "id": "8I_x7OBLeMB_"
   },
   "source": [
    "# 75/25 Train Test Split - Dataset B"
   ]
  },
  {
   "cell_type": "code",
   "execution_count": 3,
   "metadata": {
    "colab": {
     "base_uri": "https://localhost:8080/"
    },
    "id": "mDRi6bnjeMCA",
    "outputId": "42856ef0-84c0-4b67-e20d-f6457766f347"
   },
   "outputs": [
    {
     "ename": "NameError",
     "evalue": "name 'sampled' is not defined",
     "output_type": "error",
     "traceback": [
      "\u001b[0;31m---------------------------------------------------------------------------\u001b[0m",
      "\u001b[0;31mNameError\u001b[0m                                 Traceback (most recent call last)",
      "\u001b[0;32m<ipython-input-3-e81d7312a822>\u001b[0m in \u001b[0;36m<module>\u001b[0;34m\u001b[0m\n\u001b[1;32m      1\u001b[0m \u001b[0;32mfrom\u001b[0m \u001b[0msklearn\u001b[0m\u001b[0;34m.\u001b[0m\u001b[0mmodel_selection\u001b[0m \u001b[0;32mimport\u001b[0m \u001b[0mtrain_test_split\u001b[0m\u001b[0;34m\u001b[0m\u001b[0;34m\u001b[0m\u001b[0m\n\u001b[0;32m----> 2\u001b[0;31m \u001b[0mX_train\u001b[0m\u001b[0;34m,\u001b[0m \u001b[0mX_test\u001b[0m\u001b[0;34m,\u001b[0m \u001b[0my_train\u001b[0m\u001b[0;34m,\u001b[0m \u001b[0my_test\u001b[0m \u001b[0;34m=\u001b[0m \u001b[0mtrain_test_split\u001b[0m\u001b[0;34m(\u001b[0m\u001b[0msampled\u001b[0m\u001b[0;34m[\u001b[0m\u001b[0;34m:\u001b[0m\u001b[0;34m,\u001b[0m\u001b[0;34m:\u001b[0m\u001b[0;34m-\u001b[0m\u001b[0;36m3\u001b[0m\u001b[0;34m]\u001b[0m\u001b[0;34m,\u001b[0m \u001b[0msampled\u001b[0m\u001b[0;34m[\u001b[0m\u001b[0;34m:\u001b[0m\u001b[0;34m,\u001b[0m\u001b[0;34m-\u001b[0m\u001b[0;36m3\u001b[0m\u001b[0;34m]\u001b[0m\u001b[0;34m,\u001b[0m \u001b[0mtest_size\u001b[0m\u001b[0;34m=\u001b[0m\u001b[0;36m0.25\u001b[0m\u001b[0;34m,\u001b[0m \u001b[0mrandom_state\u001b[0m\u001b[0;34m=\u001b[0m\u001b[0;36m42\u001b[0m\u001b[0;34m)\u001b[0m\u001b[0;34m\u001b[0m\u001b[0;34m\u001b[0m\u001b[0m\n\u001b[0m\u001b[1;32m      3\u001b[0m \u001b[0;34m\u001b[0m\u001b[0m\n\u001b[1;32m      4\u001b[0m \u001b[0mprint\u001b[0m\u001b[0;34m(\u001b[0m\u001b[0mX_train\u001b[0m\u001b[0;34m.\u001b[0m\u001b[0mshape\u001b[0m\u001b[0;34m,\u001b[0m \u001b[0mX_test\u001b[0m\u001b[0;34m.\u001b[0m\u001b[0mshape\u001b[0m\u001b[0;34m,\u001b[0m \u001b[0my_train\u001b[0m\u001b[0;34m.\u001b[0m\u001b[0mshape\u001b[0m\u001b[0;34m,\u001b[0m \u001b[0my_test\u001b[0m\u001b[0;34m.\u001b[0m\u001b[0mshape\u001b[0m\u001b[0;34m)\u001b[0m\u001b[0;34m\u001b[0m\u001b[0;34m\u001b[0m\u001b[0m\n",
      "\u001b[0;31mNameError\u001b[0m: name 'sampled' is not defined"
     ]
    }
   ],
   "source": [
    "from sklearn.model_selection import train_test_split\n",
    "X_train, X_test, y_train, y_test = train_test_split(sampled[:,:-3], sampled[:,-3], test_size=0.25, random_state=42)\n",
    "\n",
    "print(X_train.shape, X_test.shape, y_train.shape, y_test.shape)"
   ]
  },
  {
   "cell_type": "markdown",
   "metadata": {
    "id": "9-r0fe4teMCC"
   },
   "source": [
    "#### Confusion Matrix Function"
   ]
  },
  {
   "cell_type": "code",
   "execution_count": null,
   "metadata": {
    "id": "wiuLqggWTCYn"
   },
   "outputs": [],
   "source": [
    "def scores(y_test, predictions):\n",
    "  accuracy = accuracy_score(y_test, predictions)\n",
    "  precision_micro = precision_score(y_test, predictions, average='micro', labels=[1.0, 2.0, 3.0, 4.0, 5.0, 6.0, 7.0,8.0])\n",
    "  precision_macro = precision_score(y_test, predictions, average='macro', labels=[1.0, 2.0, 3.0, 4.0, 5.0, 6.0, 7.0,8.0])\n",
    "  f1_macro = f1_score(y_test, predictions, average='macro', labels=[1.0, 2.0, 3.0, 4.0, 5.0, 6.0, 7.0,8.0])\n",
    "  f1_micro = f1_score(y_test, predictions, average='micro', labels=[1.0, 2.0, 3.0, 4.0, 5.0, 6.0, 7.0,8.0])\n",
    "  return accuracy, precision_macro, precision_micro, f1_macro, f1_micro"
   ]
  },
  {
   "cell_type": "code",
   "execution_count": null,
   "metadata": {
    "id": "Z109hqisTzjg"
   },
   "outputs": [],
   "source": [
    "def cf_matrix_func(y_test, predictions):\n",
    "    cm = confusion_matrix(y_test, predictions)\n",
    "    categories=['N', 'L', 'R', 'A', 'V', 'F', 'f','P']\n",
    "    cm = cm.astype('float') / cm.sum(axis=1)[:, np.newaxis]\n",
    "    plt.figure(figsize=(10,10))\n",
    "    sns.heatmap(cm, annot=True, \n",
    "                fmt='.2%', cmap='Blues',xticklabels=categories,yticklabels=categories)    "
   ]
  },
  {
   "cell_type": "markdown",
   "metadata": {},
   "source": [
    "## KERAS CNN"
   ]
  },
  {
   "cell_type": "code",
   "execution_count": null,
   "metadata": {
    "id": "7zw9yuJD1JDk"
   },
   "outputs": [],
   "source": [
    "from keras.utils.np_utils import to_categorical\n",
    "from tensorflow.keras import layers\n",
    "from tensorflow.keras.models import Sequential\n",
    "from tensorflow.keras.layers import Dense\n",
    "from tensorflow.keras.models import Model, load_model\n",
    "from tensorflow.keras.utils import to_categorical\n",
    "from tensorflow.keras.layers import Dropout\n",
    "from tensorflow.keras.layers import Flatten\n",
    "from tensorflow.keras.layers import Conv1D\n",
    "from tensorflow.keras.layers import MaxPooling1D"
   ]
  },
  {
   "cell_type": "code",
   "execution_count": null,
   "metadata": {
    "colab": {
     "base_uri": "https://localhost:8080/"
    },
    "id": "VC8n9ICe1JDm",
    "outputId": "5a6ef317-979c-4760-a715-421df7a5f62e"
   },
   "outputs": [
    {
     "name": "stdout",
     "output_type": "stream",
     "text": [
      "(29730, 430, 1)\n",
      "(9910, 430, 1)\n"
     ]
    }
   ],
   "source": [
    "X_train_3d = X_train.reshape(-1, X_train.shape[1],1)\n",
    "X_test_3d = X_test.reshape(-1, X_test.shape[1], 1)\n",
    "\n",
    "print(X_train_3d.shape)\n",
    "print(X_test_3d.shape)"
   ]
  },
  {
   "cell_type": "code",
   "execution_count": null,
   "metadata": {
    "id": "qt1tR4Rn1JDq"
   },
   "outputs": [],
   "source": [
    "y_train_cat = to_categorical(y_train)\n",
    "y_test_cat = to_categorical(y_test)"
   ]
  },
  {
   "cell_type": "code",
   "execution_count": null,
   "metadata": {
    "colab": {
     "base_uri": "https://localhost:8080/"
    },
    "id": "Rh832jpm6b0O",
    "outputId": "5f6da57e-0326-45a4-c7b9-42d20b35d2be"
   },
   "outputs": [
    {
     "name": "stdout",
     "output_type": "stream",
     "text": [
      "(29730, 9)\n",
      "(9910, 9)\n"
     ]
    }
   ],
   "source": [
    "print(y_train_cat.shape)\n",
    "print(y_test_cat.shape)"
   ]
  },
  {
   "cell_type": "code",
   "execution_count": null,
   "metadata": {
    "colab": {
     "base_uri": "https://localhost:8080/"
    },
    "id": "m8E6xPOD6eP-",
    "outputId": "7b69fc3e-1032-41f7-e511-5956e4f16499"
   },
   "outputs": [
    {
     "name": "stdout",
     "output_type": "stream",
     "text": [
      "Model: \"sequential_5\"\n",
      "_________________________________________________________________\n",
      "Layer (type)                 Output Shape              Param #   \n",
      "=================================================================\n",
      "conv1d_16 (Conv1D)           (None, 429, 128)          384       \n",
      "_________________________________________________________________\n",
      "max_pooling1d_16 (MaxPooling (None, 214, 128)          0         \n",
      "_________________________________________________________________\n",
      "conv1d_17 (Conv1D)           (None, 213, 64)           16448     \n",
      "_________________________________________________________________\n",
      "max_pooling1d_17 (MaxPooling (None, 106, 64)           0         \n",
      "_________________________________________________________________\n",
      "conv1d_18 (Conv1D)           (None, 105, 32)           4128      \n",
      "_________________________________________________________________\n",
      "max_pooling1d_18 (MaxPooling (None, 52, 32)            0         \n",
      "_________________________________________________________________\n",
      "conv1d_19 (Conv1D)           (None, 51, 16)            1040      \n",
      "_________________________________________________________________\n",
      "max_pooling1d_19 (MaxPooling (None, 25, 16)            0         \n",
      "_________________________________________________________________\n",
      "dropout_4 (Dropout)          (None, 25, 16)            0         \n",
      "_________________________________________________________________\n",
      "flatten_4 (Flatten)          (None, 400)               0         \n",
      "_________________________________________________________________\n",
      "dense_12 (Dense)             (None, 64)                25664     \n",
      "_________________________________________________________________\n",
      "dense_13 (Dense)             (None, 32)                2080      \n",
      "_________________________________________________________________\n",
      "dense_14 (Dense)             (None, 9)                 297       \n",
      "=================================================================\n",
      "Total params: 50,041\n",
      "Trainable params: 50,041\n",
      "Non-trainable params: 0\n",
      "_________________________________________________________________\n"
     ]
    }
   ],
   "source": [
    "verbose, epoch, batch_size = 1, 100, 32\n",
    "\n",
    "def getModel():\n",
    "    cnnmodel = Sequential()\n",
    "    cnnmodel.add(Conv1D(filters=128, kernel_size=2, activation='relu',input_shape=(X_train_3d.shape[1],X_train_3d.shape[2])))\n",
    "    cnnmodel.add(MaxPooling1D(pool_size=2))\n",
    "    cnnmodel.add(Conv1D(filters=64, kernel_size=2, activation='relu'))\n",
    "    cnnmodel.add(MaxPooling1D(pool_size=2))\n",
    "    cnnmodel.add(Conv1D(filters=32, kernel_size=2, activation='relu'))\n",
    "    cnnmodel.add(MaxPooling1D(pool_size=2))\n",
    "    cnnmodel.add(Conv1D(filters=16, kernel_size=2, activation='relu'))\n",
    "    cnnmodel.add(MaxPooling1D(pool_size=2))\n",
    "    cnnmodel.add(Dropout(rate=0.2))\n",
    "    cnnmodel.add(Flatten())\n",
    "    cnnmodel.add(Dense(64, activation='relu'))\n",
    "    cnnmodel.add(Dense(32, activation='relu'))\n",
    "    cnnmodel.add(Dense(9, activation='softmax'))\n",
    "    cnnmodel.compile(optimizer='adam', loss='categorical_crossentropy',metrics=['accuracy'])\n",
    "    cnnmodel.summary()\n",
    "    return cnnmodel\n",
    "\n",
    "cnnmodel = getModel()"
   ]
  },
  {
   "cell_type": "code",
   "execution_count": null,
   "metadata": {
    "colab": {
     "base_uri": "https://localhost:8080/"
    },
    "id": "yaXpmx5n-l1u",
    "outputId": "a4aa40d4-1584-4dbc-f172-b88ec9b6be35"
   },
   "outputs": [
    {
     "name": "stdout",
     "output_type": "stream",
     "text": [
      "Epoch 1/100\n",
      "930/930 [==============================] - 46s 49ms/step - loss: 0.4977 - accuracy: 0.8349\n",
      "Epoch 2/100\n",
      "930/930 [==============================] - 46s 50ms/step - loss: 0.3371 - accuracy: 0.8893\n",
      "Epoch 3/100\n",
      "930/930 [==============================] - 47s 50ms/step - loss: 0.2711 - accuracy: 0.9090\n",
      "Epoch 4/100\n",
      "930/930 [==============================] - 47s 50ms/step - loss: 0.2364 - accuracy: 0.9197\n",
      "Epoch 5/100\n",
      "930/930 [==============================] - 47s 51ms/step - loss: 0.2064 - accuracy: 0.9316\n",
      "Epoch 6/100\n",
      "930/930 [==============================] - 47s 51ms/step - loss: 0.1882 - accuracy: 0.9358\n",
      "Epoch 7/100\n",
      "930/930 [==============================] - 47s 51ms/step - loss: 0.1733 - accuracy: 0.9411\n",
      "Epoch 8/100\n",
      "930/930 [==============================] - 47s 50ms/step - loss: 0.1551 - accuracy: 0.9466\n",
      "Epoch 9/100\n",
      "930/930 [==============================] - 47s 50ms/step - loss: 0.1468 - accuracy: 0.9499\n",
      "Epoch 10/100\n",
      "930/930 [==============================] - 46s 49ms/step - loss: 0.1450 - accuracy: 0.9514\n",
      "Epoch 11/100\n",
      "930/930 [==============================] - 46s 49ms/step - loss: 0.1298 - accuracy: 0.9556\n",
      "Epoch 12/100\n",
      "930/930 [==============================] - 53s 57ms/step - loss: 0.1256 - accuracy: 0.9573\n",
      "Epoch 13/100\n",
      "930/930 [==============================] - 53s 57ms/step - loss: 0.1183 - accuracy: 0.9593\n",
      "Epoch 14/100\n",
      "930/930 [==============================] - 54s 58ms/step - loss: 0.1127 - accuracy: 0.9631\n",
      "Epoch 15/100\n",
      "930/930 [==============================] - 54s 58ms/step - loss: 0.1094 - accuracy: 0.9617\n",
      "Epoch 16/100\n",
      "930/930 [==============================] - 54s 58ms/step - loss: 0.1015 - accuracy: 0.9650\n",
      "Epoch 17/100\n",
      "930/930 [==============================] - 54s 58ms/step - loss: 0.1021 - accuracy: 0.9646\n",
      "Epoch 18/100\n",
      "930/930 [==============================] - 55s 59ms/step - loss: 0.0928 - accuracy: 0.9679\n",
      "Epoch 19/100\n",
      "930/930 [==============================] - 54s 58ms/step - loss: 0.0956 - accuracy: 0.9655\n",
      "Epoch 20/100\n",
      "930/930 [==============================] - 55s 59ms/step - loss: 0.0908 - accuracy: 0.9683\n",
      "Epoch 21/100\n",
      "930/930 [==============================] - 54s 58ms/step - loss: 0.0883 - accuracy: 0.9694\n",
      "Epoch 22/100\n",
      "930/930 [==============================] - 54s 58ms/step - loss: 0.0856 - accuracy: 0.9693\n",
      "Epoch 23/100\n",
      "930/930 [==============================] - 54s 58ms/step - loss: 0.0804 - accuracy: 0.9716\n",
      "Epoch 24/100\n",
      "930/930 [==============================] - 54s 58ms/step - loss: 0.0809 - accuracy: 0.9714\n",
      "Epoch 25/100\n",
      "930/930 [==============================] - 54s 58ms/step - loss: 0.0757 - accuracy: 0.9735\n",
      "Epoch 26/100\n",
      "930/930 [==============================] - 54s 59ms/step - loss: 0.0759 - accuracy: 0.9746\n",
      "Epoch 27/100\n",
      "930/930 [==============================] - 54s 58ms/step - loss: 0.0756 - accuracy: 0.9753\n",
      "Epoch 28/100\n",
      "930/930 [==============================] - 54s 58ms/step - loss: 0.0701 - accuracy: 0.9748\n",
      "Epoch 29/100\n",
      "930/930 [==============================] - 54s 58ms/step - loss: 0.0730 - accuracy: 0.9747\n",
      "Epoch 30/100\n",
      "930/930 [==============================] - 57s 62ms/step - loss: 0.0747 - accuracy: 0.9744\n",
      "Epoch 31/100\n",
      "930/930 [==============================] - 55s 60ms/step - loss: 0.0676 - accuracy: 0.9763\n",
      "Epoch 32/100\n",
      "930/930 [==============================] - 55s 59ms/step - loss: 0.0651 - accuracy: 0.9775\n",
      "Epoch 33/100\n",
      "930/930 [==============================] - 54s 58ms/step - loss: 0.0664 - accuracy: 0.9771\n",
      "Epoch 34/100\n",
      "930/930 [==============================] - 54s 58ms/step - loss: 0.0677 - accuracy: 0.9763\n",
      "Epoch 35/100\n",
      "930/930 [==============================] - 54s 58ms/step - loss: 0.0627 - accuracy: 0.9776\n",
      "Epoch 36/100\n",
      "930/930 [==============================] - 56s 60ms/step - loss: 0.0641 - accuracy: 0.9773\n",
      "Epoch 37/100\n",
      "930/930 [==============================] - 55s 59ms/step - loss: 0.0645 - accuracy: 0.9780\n",
      "Epoch 38/100\n",
      "930/930 [==============================] - 54s 58ms/step - loss: 0.0595 - accuracy: 0.9792\n",
      "Epoch 39/100\n",
      "930/930 [==============================] - 57s 61ms/step - loss: 0.0630 - accuracy: 0.9787\n",
      "Epoch 40/100\n",
      "930/930 [==============================] - 60s 65ms/step - loss: 0.0573 - accuracy: 0.9797\n",
      "Epoch 41/100\n",
      "930/930 [==============================] - 74s 80ms/step - loss: 0.0566 - accuracy: 0.9795\n",
      "Epoch 42/100\n",
      "930/930 [==============================] - 55s 59ms/step - loss: 0.0560 - accuracy: 0.9810\n",
      "Epoch 43/100\n",
      "930/930 [==============================] - 57s 61ms/step - loss: 0.0574 - accuracy: 0.9807\n",
      "Epoch 44/100\n",
      "930/930 [==============================] - 55s 59ms/step - loss: 0.0545 - accuracy: 0.9807\n",
      "Epoch 45/100\n",
      "930/930 [==============================] - 56s 60ms/step - loss: 0.0566 - accuracy: 0.9803\n",
      "Epoch 46/100\n",
      "930/930 [==============================] - 57s 61ms/step - loss: 0.0544 - accuracy: 0.9804\n",
      "Epoch 47/100\n",
      "930/930 [==============================] - 55s 60ms/step - loss: 0.0514 - accuracy: 0.9828\n",
      "Epoch 48/100\n",
      "930/930 [==============================] - 54s 58ms/step - loss: 0.0513 - accuracy: 0.9817\n",
      "Epoch 49/100\n",
      "930/930 [==============================] - 53s 57ms/step - loss: 0.0492 - accuracy: 0.9826\n",
      "Epoch 50/100\n",
      "930/930 [==============================] - 53s 57ms/step - loss: 0.0506 - accuracy: 0.9825\n",
      "Epoch 51/100\n",
      "930/930 [==============================] - 54s 58ms/step - loss: 0.0498 - accuracy: 0.9816\n",
      "Epoch 52/100\n",
      "930/930 [==============================] - 58s 62ms/step - loss: 0.0518 - accuracy: 0.9833\n",
      "Epoch 53/100\n",
      "930/930 [==============================] - 54s 58ms/step - loss: 0.0516 - accuracy: 0.9828\n",
      "Epoch 54/100\n",
      "930/930 [==============================] - 53s 57ms/step - loss: 0.0467 - accuracy: 0.9839\n",
      "Epoch 55/100\n",
      "930/930 [==============================] - 54s 58ms/step - loss: 0.0463 - accuracy: 0.9834\n",
      "Epoch 56/100\n",
      "930/930 [==============================] - 53s 57ms/step - loss: 0.0495 - accuracy: 0.9825\n",
      "Epoch 57/100\n",
      "930/930 [==============================] - 54s 58ms/step - loss: 0.0470 - accuracy: 0.9826\n",
      "Epoch 58/100\n",
      "930/930 [==============================] - 53s 57ms/step - loss: 0.0479 - accuracy: 0.9832\n",
      "Epoch 59/100\n",
      "930/930 [==============================] - 54s 58ms/step - loss: 0.0462 - accuracy: 0.9844\n",
      "Epoch 60/100\n",
      "930/930 [==============================] - 54s 58ms/step - loss: 0.0442 - accuracy: 0.9850\n",
      "Epoch 61/100\n",
      "930/930 [==============================] - 54s 58ms/step - loss: 0.0454 - accuracy: 0.9849\n",
      "Epoch 62/100\n",
      "930/930 [==============================] - 54s 58ms/step - loss: 0.0437 - accuracy: 0.9840\n",
      "Epoch 63/100\n",
      "930/930 [==============================] - 56s 60ms/step - loss: 0.0472 - accuracy: 0.9838\n",
      "Epoch 64/100\n",
      "930/930 [==============================] - 55s 59ms/step - loss: 0.0425 - accuracy: 0.9848\n",
      "Epoch 65/100\n",
      "930/930 [==============================] - 54s 58ms/step - loss: 0.0455 - accuracy: 0.9844\n",
      "Epoch 66/100\n",
      "930/930 [==============================] - 54s 58ms/step - loss: 0.0398 - accuracy: 0.9866\n",
      "Epoch 67/100\n",
      "930/930 [==============================] - 53s 57ms/step - loss: 0.0482 - accuracy: 0.9836\n",
      "Epoch 68/100\n",
      "930/930 [==============================] - 53s 57ms/step - loss: 0.0435 - accuracy: 0.9849\n",
      "Epoch 69/100\n",
      "930/930 [==============================] - 54s 58ms/step - loss: 0.0430 - accuracy: 0.9852\n",
      "Epoch 70/100\n",
      "930/930 [==============================] - 53s 57ms/step - loss: 0.0424 - accuracy: 0.9852\n",
      "Epoch 71/100\n",
      "930/930 [==============================] - 53s 57ms/step - loss: 0.0409 - accuracy: 0.9861\n",
      "Epoch 72/100\n",
      "930/930 [==============================] - 53s 57ms/step - loss: 0.0433 - accuracy: 0.9843\n",
      "Epoch 73/100\n",
      "930/930 [==============================] - 53s 57ms/step - loss: 0.0397 - accuracy: 0.9863\n",
      "Epoch 74/100\n",
      "930/930 [==============================] - 54s 58ms/step - loss: 0.0404 - accuracy: 0.9862\n",
      "Epoch 75/100\n",
      "930/930 [==============================] - 54s 58ms/step - loss: 0.0425 - accuracy: 0.9853\n",
      "Epoch 76/100\n",
      "930/930 [==============================] - 54s 58ms/step - loss: 0.0387 - accuracy: 0.9869\n",
      "Epoch 77/100\n",
      "930/930 [==============================] - 53s 58ms/step - loss: 0.0425 - accuracy: 0.9857\n",
      "Epoch 78/100\n",
      "930/930 [==============================] - 53s 57ms/step - loss: 0.0381 - accuracy: 0.9864\n",
      "Epoch 79/100\n",
      "930/930 [==============================] - 53s 57ms/step - loss: 0.0399 - accuracy: 0.9858\n",
      "Epoch 80/100\n",
      "930/930 [==============================] - 54s 58ms/step - loss: 0.0408 - accuracy: 0.9857\n",
      "Epoch 81/100\n",
      "930/930 [==============================] - 53s 57ms/step - loss: 0.0409 - accuracy: 0.9858\n",
      "Epoch 82/100\n",
      "930/930 [==============================] - 53s 57ms/step - loss: 0.0393 - accuracy: 0.9857\n",
      "Epoch 83/100\n",
      "930/930 [==============================] - 53s 57ms/step - loss: 0.0389 - accuracy: 0.9868\n",
      "Epoch 84/100\n",
      "930/930 [==============================] - 53s 57ms/step - loss: 0.0368 - accuracy: 0.9876\n",
      "Epoch 85/100\n",
      "930/930 [==============================] - 52s 56ms/step - loss: 0.0401 - accuracy: 0.9867\n",
      "Epoch 86/100\n",
      "930/930 [==============================] - 53s 57ms/step - loss: 0.0363 - accuracy: 0.9883\n",
      "Epoch 87/100\n",
      "930/930 [==============================] - 54s 58ms/step - loss: 0.0378 - accuracy: 0.9867\n",
      "Epoch 88/100\n",
      "930/930 [==============================] - 54s 58ms/step - loss: 0.0381 - accuracy: 0.9869\n",
      "Epoch 89/100\n",
      "930/930 [==============================] - 54s 58ms/step - loss: 0.0376 - accuracy: 0.9861\n",
      "Epoch 90/100\n",
      "930/930 [==============================] - 55s 59ms/step - loss: 0.0371 - accuracy: 0.9869\n",
      "Epoch 91/100\n",
      "930/930 [==============================] - 54s 58ms/step - loss: 0.0376 - accuracy: 0.9878\n",
      "Epoch 92/100\n",
      "930/930 [==============================] - 56s 60ms/step - loss: 0.0354 - accuracy: 0.9880\n",
      "Epoch 93/100\n",
      "930/930 [==============================] - 55s 60ms/step - loss: 0.0345 - accuracy: 0.9877\n",
      "Epoch 94/100\n",
      "930/930 [==============================] - 55s 59ms/step - loss: 0.0323 - accuracy: 0.9887\n",
      "Epoch 95/100\n",
      "930/930 [==============================] - 55s 59ms/step - loss: 0.0370 - accuracy: 0.9870\n",
      "Epoch 96/100\n",
      "930/930 [==============================] - 54s 58ms/step - loss: 0.0352 - accuracy: 0.9877\n",
      "Epoch 97/100\n",
      "930/930 [==============================] - 54s 58ms/step - loss: 0.0382 - accuracy: 0.9867\n",
      "Epoch 98/100\n",
      "930/930 [==============================] - 55s 59ms/step - loss: 0.0348 - accuracy: 0.9880\n",
      "Epoch 99/100\n",
      "930/930 [==============================] - 60s 64ms/step - loss: 0.0360 - accuracy: 0.9880\n",
      "Epoch 100/100\n",
      "930/930 [==============================] - 56s 60ms/step - loss: 0.0308 - accuracy: 0.9890\n"
     ]
    }
   ],
   "source": [
    "model = cnnmodel.fit(X_train_3d, y_train_cat, epochs=epoch, verbose=verbose,batch_size=batch_size)"
   ]
  },
  {
   "cell_type": "code",
   "execution_count": null,
   "metadata": {
    "colab": {
     "base_uri": "https://localhost:8080/"
    },
    "id": "qCZlx75s_RE4",
    "outputId": "66895274-b862-41ea-be20-9e938b63133c"
   },
   "outputs": [
    {
     "name": "stdout",
     "output_type": "stream",
     "text": [
      "310/310 [==============================] - 5s 17ms/step\n"
     ]
    }
   ],
   "source": [
    "cnnpredictions = cnnmodel.predict(X_test_3d, verbose=1)"
   ]
  },
  {
   "cell_type": "code",
   "execution_count": null,
   "metadata": {
    "id": "EHTpDzWbUang"
   },
   "outputs": [],
   "source": [
    "#print(cnnpredictions)\n",
    "\n",
    "cnn_predict = np.argmax(cnnpredictions, axis=1)\n",
    "true_value = np.argmax(y_test_cat,axis=1)"
   ]
  },
  {
   "cell_type": "code",
   "execution_count": null,
   "metadata": {
    "colab": {
     "base_uri": "https://localhost:8080/"
    },
    "id": "hEERnSqZUpAL",
    "outputId": "b84da7b0-9488-4dd4-f977-23c20b5e8d4d"
   },
   "outputs": [
    {
     "name": "stdout",
     "output_type": "stream",
     "text": [
      "(0.981029263370333, 0.9809929172462879, 0.981029263370333, 0.9809000038753486, 0.981029263370333)\n"
     ]
    }
   ],
   "source": [
    "from sklearn.metrics import *\n",
    "score = scores(true_value, cnn_predict)\n",
    "print(score)"
   ]
  },
  {
   "cell_type": "markdown",
   "metadata": {},
   "source": [
    "### Saving the Model"
   ]
  },
  {
   "cell_type": "code",
   "execution_count": null,
   "metadata": {
    "id": "PH4pY_CeVog0"
   },
   "outputs": [],
   "source": [
    "cnnmodel.save('./drive/My Drive/ecg/cnnmodel.h5')\n",
    "cnnmodel.save_weights('./drive/My Drive/ecg/cnnmodelweights.h5')"
   ]
  },
  {
   "cell_type": "code",
   "execution_count": null,
   "metadata": {
    "id": "08-EZBqxaoXp"
   },
   "outputs": [],
   "source": [
    "model_json = cnnmodel.to_json()\n",
    "with open (\"./drive/My Drive/ecg/cnnmodel.json\", \"w\") as jf:\n",
    "  jf.write(model_json)"
   ]
  },
  {
   "cell_type": "markdown",
   "metadata": {},
   "source": [
    "### Reading the model"
   ]
  },
  {
   "cell_type": "code",
   "execution_count": null,
   "metadata": {
    "colab": {
     "base_uri": "https://localhost:8080/"
    },
    "id": "BaTsek1abgo0",
    "outputId": "d284bef9-38d8-48af-c172-08ecf18defcd"
   },
   "outputs": [
    {
     "name": "stdout",
     "output_type": "stream",
     "text": [
      "(0.981029263370333, 0.9809929172462879, 0.981029263370333, 0.9809000038753486, 0.981029263370333)\n"
     ]
    }
   ],
   "source": [
    "from keras.models import model_from_json\n",
    "\n",
    "jf = open(\"./drive/My Drive/ecg/cnnmodel.json\", \"r\")\n",
    "loaded_model = jf.read()\n",
    "jf.close()\n",
    "\n",
    "lm = model_from_json(loaded_model)\n",
    "\n",
    "lm.load_weights(\"./drive/My Drive/ecg/cnnmodelweights.h5\")\n",
    "\n",
    "lm.compile(optimizer='adam', loss='categorical_crossentropy',metrics=['accuracy'])\n",
    "\n",
    "score_cnn = scores(true_value, cnn_predict)\n",
    "print(score_cnn)\n"
   ]
  },
  {
   "cell_type": "markdown",
   "metadata": {
    "id": "HJWBCSOatC6G"
   },
   "source": [
    "# Resnet"
   ]
  },
  {
   "cell_type": "code",
   "execution_count": null,
   "metadata": {},
   "outputs": [],
   "source": []
  }
 ],
 "metadata": {
  "colab": {
   "collapsed_sections": [
    "fdowgESKeMBY",
    "zfnFiQs5eMCQ",
    "E7JURHbaeMCT",
    "A6xxjmVieMCW",
    "yP7QfgIteMCa",
    "NiApsvmseMCf"
   ],
   "name": "ECG Classification to Detect Arrhythmia.ipynb",
   "provenance": []
  },
  "kernelspec": {
   "display_name": "Python 3",
   "language": "python",
   "name": "python3"
  },
  "language_info": {
   "codemirror_mode": {
    "name": "ipython",
    "version": 3
   },
   "file_extension": ".py",
   "mimetype": "text/x-python",
   "name": "python",
   "nbconvert_exporter": "python",
   "pygments_lexer": "ipython3",
   "version": "3.7.1"
  }
 },
 "nbformat": 4,
 "nbformat_minor": 1
}
