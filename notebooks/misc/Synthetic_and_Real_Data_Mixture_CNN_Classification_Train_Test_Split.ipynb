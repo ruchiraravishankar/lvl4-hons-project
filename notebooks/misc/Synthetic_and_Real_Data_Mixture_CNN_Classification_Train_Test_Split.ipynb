{
  "nbformat": 4,
  "nbformat_minor": 0,
  "metadata": {
    "colab": {
      "name": "Synthetic and Real Data Mixture CNN Classification Train Test Split.ipynb",
      "provenance": []
    },
    "kernelspec": {
      "name": "python3",
      "display_name": "Python 3"
    }
  },
  "cells": [
    {
      "cell_type": "code",
      "metadata": {
        "id": "1VOaa6V9VlMv"
      },
      "source": [
        "import numpy as np\n",
        "import os\n",
        "import sys\n",
        "from glob import glob\n",
        "import numpy as np\n",
        "import pandas as pd\n",
        "# import wfdb\n",
        "# import biosignalsnotebooks as bsnb\n",
        "# from wfdb import processing\n",
        "from matplotlib import pyplot as plt\n",
        "# from scipy import signal\n",
        "# from biosppy.signals import ecg\n",
        "np.set_printoptions(threshold=sys.maxsize)\n",
        "import umap\n",
        "import sklearn.utils as slu\n",
        "from sklearn.model_selection import LeaveOneOut\n",
        "import seaborn as sns\n",
        "from sklearn.metrics import *\n",
        "\n",
        "\n",
        "from keras.utils.np_utils import to_categorical\n",
        "from tensorflow.keras import layers\n",
        "from tensorflow.keras.models import Sequential\n",
        "from tensorflow.keras.layers import Dense\n",
        "from tensorflow.keras.models import Model, load_model\n",
        "from tensorflow.keras.utils import to_categorical\n",
        "from tensorflow.keras.layers import Dropout\n",
        "from tensorflow.keras.layers import Flatten\n",
        "from tensorflow.keras.layers import Conv1D\n",
        "from tensorflow.keras.layers import MaxPooling1D"
      ],
      "execution_count": null,
      "outputs": []
    },
    {
      "cell_type": "code",
      "metadata": {
        "id": "r-_C5DMNfe8S"
      },
      "source": [
        "path = '/content/drive/MyDrive/ecg/'\n"
      ],
      "execution_count": null,
      "outputs": []
    },
    {
      "cell_type": "code",
      "metadata": {
        "id": "JpQJerwDby-d"
      },
      "source": [
        "# path = '/content/drive/MyDrive/ecg/synthetic_data/lstm_sparse_vae'\n",
        "\n",
        "def synthetic_data(file_name):\n",
        "    path = '/content/drive/MyDrive/ecg/synthetic_data/' + file_name\n",
        "    file_list = glob(path + '/*.csv')\n",
        "    data = []\n",
        "    # labels = np.full((960,1),label)\n",
        "    labels = [1.0, 2.0, 3.0, 4.0, 5.0, 6.0, 7.0,8.0]\n",
        "    for i in range(len(file_list)):\n",
        "    # for file_path in file_list:\n",
        "        lbl = np.full((2944,1),labels[i])\n",
        "        arr = np.genfromtxt(file_list[i], delimiter=',')\n",
        "        arr = np.hstack((arr,lbl))\n",
        "        data.append( arr )\n",
        "    all_data = np.concatenate(data, axis=0)\n",
        "    return all_data"
      ],
      "execution_count": null,
      "outputs": []
    },
    {
      "cell_type": "code",
      "metadata": {
        "id": "5c29iheKXKHB"
      },
      "source": [
        "cnn_vae = synthetic_data('conv_vae')\n",
        "cnn_sparse_vae = synthetic_data('sparse_conv_vae')\n",
        "lstm_vae = synthetic_data('lstm_vae')\n",
        "lstm_sparse_vae = synthetic_data('lstm_sparse_vae')"
      ],
      "execution_count": null,
      "outputs": []
    },
    {
      "cell_type": "code",
      "metadata": {
        "colab": {
          "base_uri": "https://localhost:8080/"
        },
        "id": "GeTU-5NMvVtW",
        "outputId": "93e7ba16-6d2c-4eb1-dc2e-7161e6ff9e33"
      },
      "source": [
        "mlii = np.loadtxt(path+'train_unsampled_mlii/mlii.csv', delimiter=',')\n",
        "print(mlii.shape)"
      ],
      "execution_count": null,
      "outputs": [
        {
          "output_type": "stream",
          "text": [
            "(108828, 259)\n"
          ],
          "name": "stdout"
        }
      ]
    },
    {
      "cell_type": "code",
      "metadata": {
        "id": "NgjPA9vlz0AY"
      },
      "source": [
        "mlii_shuffled = mlii\n",
        "np.random.shuffle(mlii_shuffled)\n",
        "from sklearn.model_selection import train_test_split\n",
        "train, test = train_test_split(mlii_shuffled, test_size=0.25)"
      ],
      "execution_count": null,
      "outputs": []
    },
    {
      "cell_type": "code",
      "metadata": {
        "colab": {
          "base_uri": "https://localhost:8080/"
        },
        "id": "9L-Z6Yhn6J-k",
        "outputId": "0d9b1f46-343d-4835-d06c-f0f7976caa1c"
      },
      "source": [
        "anno = train[:,-3]\n",
        "normal = train[anno == 1.0]\n",
        "lbbb = train[anno == 2.0]\n",
        "rbbb = train[anno == 3.0]\n",
        "apb = train[anno == 4.0]\n",
        "pvc = train[anno == 5.0]\n",
        "fvn = train[anno == 6.0]\n",
        "fpn = train[anno == 7.0]\n",
        "paced = train[anno == 8.0]\n",
        "\n",
        "abnormal = [lbbb,rbbb,apb,pvc,fvn,fpn,paced]\n",
        "list_len = [len(i) for i in abnormal]\n",
        "print(list_len)\n",
        "\n",
        "all_classes = [normal,lbbb,rbbb,apb,pvc,fvn,fpn,paced]\n",
        "\n",
        "num_of_vals = np.mean(list_len, dtype=int)\n",
        "print(num_of_vals)"
      ],
      "execution_count": null,
      "outputs": [
        {
          "output_type": "stream",
          "text": [
            "[6063, 5486, 1874, 5299, 616, 742, 5279]\n",
            "3622\n"
          ],
          "name": "stdout"
        }
      ]
    },
    {
      "cell_type": "code",
      "metadata": {
        "id": "VqeLJ9CsP_9V"
      },
      "source": [
        "def downsample(arr,n,seed):\n",
        "    downsampled = slu.resample(arr,replace=False,n_samples=n,random_state=seed)\n",
        "    return downsampled"
      ],
      "execution_count": null,
      "outputs": []
    },
    {
      "cell_type": "code",
      "metadata": {
        "colab": {
          "base_uri": "https://localhost:8080/"
        },
        "id": "NDCxLrcbAQ-G",
        "outputId": "87513b30-5488-4fba-e6ae-4563d7fa12e6"
      },
      "source": [
        "sampled_data = []\n",
        "for i in all_classes:\n",
        "  # print(i.shape[0])\n",
        "  if i.shape[0] > num_of_vals//2:\n",
        "      i = downsample(i, num_of_vals//2,42)\n",
        "  sampled_data.append(i)\n",
        "\n",
        "print(len(sampled_data))"
      ],
      "execution_count": null,
      "outputs": [
        {
          "output_type": "stream",
          "text": [
            "8\n"
          ],
          "name": "stdout"
        }
      ]
    },
    {
      "cell_type": "code",
      "metadata": {
        "colab": {
          "base_uri": "https://localhost:8080/"
        },
        "id": "-1tOr0iaG7hI",
        "outputId": "06cee34b-2491-4006-b4a8-5cbcc46a6485"
      },
      "source": [
        "sampled_data_new = []\n",
        "for i in sampled_data:\n",
        "  i = np.delete(i, [-1,-2],axis=1)\n",
        "  sampled_data_new.append(i)\n",
        "\n",
        "print(sampled_data_new[0].shape)"
      ],
      "execution_count": null,
      "outputs": [
        {
          "output_type": "stream",
          "text": [
            "(1811, 257)\n"
          ],
          "name": "stdout"
        }
      ]
    },
    {
      "cell_type": "code",
      "metadata": {
        "colab": {
          "base_uri": "https://localhost:8080/"
        },
        "id": "Ldlks_DIA9jm",
        "outputId": "07758481-9b2f-4993-e055-6096fde21c2d"
      },
      "source": [
        "print(sampled_data_new[0].shape)"
      ],
      "execution_count": null,
      "outputs": [
        {
          "output_type": "stream",
          "text": [
            "(1811, 257)\n"
          ],
          "name": "stdout"
        }
      ]
    },
    {
      "cell_type": "code",
      "metadata": {
        "id": "21xXN9QHav3a"
      },
      "source": [
        "synth_model = lstm_sparse_vae"
      ],
      "execution_count": null,
      "outputs": []
    },
    {
      "cell_type": "code",
      "metadata": {
        "id": "I9tx9TVdDVw8"
      },
      "source": [
        "anno = synth_model[:,-1]\n",
        "normal_synth = synth_model[anno == 1.0]\n",
        "lbbb_synth = synth_model[anno == 2.0]\n",
        "rbbb_synth = synth_model[anno == 3.0]\n",
        "apb_synth = synth_model[anno == 4.0]\n",
        "pvc_synth = synth_model[anno == 5.0]\n",
        "fvn_synth = synth_model[anno == 6.0]\n",
        "fpn_synth = synth_model[anno == 7.0]\n",
        "paced_synth = synth_model[anno == 8.0]\n",
        "\n",
        "all_classes_synth = [normal_synth,lbbb_synth,rbbb_synth,apb_synth,pvc_synth,fvn_synth,fpn_synth,paced_synth]"
      ],
      "execution_count": null,
      "outputs": []
    },
    {
      "cell_type": "code",
      "metadata": {
        "colab": {
          "base_uri": "https://localhost:8080/"
        },
        "id": "nom16dqnDxKJ",
        "outputId": "22c8e96f-7f83-418c-fd00-268c80c2ee86"
      },
      "source": [
        "synth_real_data = []\n",
        "for i in range(len(sampled_data_new)):\n",
        "  diff = num_of_vals - sampled_data_new[i].shape[0]\n",
        "  # print(diff)\n",
        "  # synth_samps = np.random.choice(all_classes_synth[i], diff, replace=False)\n",
        "  synth_samps = all_classes_synth[i][:diff]\n",
        "  sampled_data[i] = np.concatenate((sampled_data_new[i], synth_samps))\n",
        "  # print(sampled_data[i].shape)\n",
        "  synth_real_data.append(sampled_data[i])\n",
        "\n",
        "print(len(synth_real_data))"
      ],
      "execution_count": null,
      "outputs": [
        {
          "output_type": "stream",
          "text": [
            "8\n"
          ],
          "name": "stdout"
        }
      ]
    },
    {
      "cell_type": "code",
      "metadata": {
        "colab": {
          "base_uri": "https://localhost:8080/"
        },
        "id": "bJa6LyynQv5Z",
        "outputId": "b22703a8-4488-403c-f3f2-7dc06d8aa10d"
      },
      "source": [
        "synth_real_arr = np.concatenate(synth_real_data, axis=0)\n",
        "np.random.shuffle(synth_real_arr)\n",
        "print(synth_real_arr.shape)"
      ],
      "execution_count": null,
      "outputs": [
        {
          "output_type": "stream",
          "text": [
            "(28914, 257)\n"
          ],
          "name": "stdout"
        }
      ]
    },
    {
      "cell_type": "code",
      "metadata": {
        "id": "BEGjHSaAQ65r"
      },
      "source": [
        "X_train = synth_real_arr[:,:-1]\n",
        "y_train = synth_real_arr[:,-1]"
      ],
      "execution_count": null,
      "outputs": []
    },
    {
      "cell_type": "code",
      "metadata": {
        "colab": {
          "base_uri": "https://localhost:8080/"
        },
        "id": "Tt__oxDnmNmT",
        "outputId": "1a3a7c71-9474-4030-f988-615a5e63d024"
      },
      "source": [
        "# np.random.shuffle(cnn_vae)\n",
        "# X_train_synth = lstm_sparse_vae[:,:-1]\n",
        "# y_train_synth = lstm_sparse_vae[:,-1]\n",
        "\n",
        "X_test = test[:,:-3]\n",
        "y_test = test[:, -3]\n",
        "print(X_train.shape)\n",
        "print(y_train.shape)\n",
        "print(test.shape)\n",
        "print(X_test.shape)\n",
        "print(y_test.shape)"
      ],
      "execution_count": null,
      "outputs": [
        {
          "output_type": "stream",
          "text": [
            "(28914, 256)\n",
            "(28914,)\n",
            "(27207, 259)\n",
            "(27207, 256)\n",
            "(27207,)\n"
          ],
          "name": "stdout"
        }
      ]
    },
    {
      "cell_type": "code",
      "metadata": {
        "colab": {
          "base_uri": "https://localhost:8080/"
        },
        "id": "5jNdtf9kV1CU",
        "outputId": "ecf3ccfd-7503-48e1-f348-2cee65466edc"
      },
      "source": [
        "X_train_3d = X_train.reshape(-1, X_train.shape[1],1)\n",
        "X_test_3d = X_test.reshape(-1, X_test.shape[1], 1)\n",
        "\n",
        "print(X_train_3d.shape)\n",
        "print(X_test_3d.shape)\n",
        "\n",
        "y_train_cat = to_categorical(y_train)\n",
        "y_test_cat = to_categorical(y_test)\n",
        "print(y_train_cat.shape)\n",
        "print(y_test_cat.shape)"
      ],
      "execution_count": null,
      "outputs": [
        {
          "output_type": "stream",
          "text": [
            "(28914, 256, 1)\n",
            "(27207, 256, 1)\n",
            "(28914, 9)\n",
            "(27207, 9)\n"
          ],
          "name": "stdout"
        }
      ]
    },
    {
      "cell_type": "code",
      "metadata": {
        "colab": {
          "base_uri": "https://localhost:8080/"
        },
        "id": "niq3DQlwV8sA",
        "outputId": "61b399f0-0759-484c-b938-15a4672e6163"
      },
      "source": [
        "verbose, epoch, batch_size = 1, 10, 128\n",
        "\n",
        "def getModel():\n",
        "    cnnmodel = Sequential()\n",
        "    cnnmodel.add(Conv1D(filters=128, kernel_size=2, activation='relu',input_shape=(X_train_3d.shape[1],X_train_3d.shape[2])))\n",
        "    cnnmodel.add(MaxPooling1D(pool_size=2))\n",
        "    cnnmodel.add(Conv1D(filters=64, kernel_size=2, activation='relu'))\n",
        "    cnnmodel.add(MaxPooling1D(pool_size=2))\n",
        "    cnnmodel.add(Conv1D(filters=32, kernel_size=2, activation='relu'))\n",
        "    cnnmodel.add(MaxPooling1D(pool_size=2))\n",
        "    cnnmodel.add(Conv1D(filters=16, kernel_size=2, activation='relu'))\n",
        "    cnnmodel.add(MaxPooling1D(pool_size=2))\n",
        "    cnnmodel.add(Dropout(rate=0.2))\n",
        "    cnnmodel.add(Flatten())\n",
        "    cnnmodel.add(Dense(64, activation='relu'))\n",
        "    cnnmodel.add(Dense(32, activation='relu'))\n",
        "    cnnmodel.add(Dense(9, activation='softmax'))\n",
        "    cnnmodel.compile(optimizer='adam', loss='categorical_crossentropy',metrics=['accuracy'])\n",
        "    cnnmodel.summary()\n",
        "    return cnnmodel\n",
        "\n",
        "cnnmodel = getModel()"
      ],
      "execution_count": null,
      "outputs": [
        {
          "output_type": "stream",
          "text": [
            "Model: \"sequential\"\n",
            "_________________________________________________________________\n",
            "Layer (type)                 Output Shape              Param #   \n",
            "=================================================================\n",
            "conv1d (Conv1D)              (None, 255, 128)          384       \n",
            "_________________________________________________________________\n",
            "max_pooling1d (MaxPooling1D) (None, 127, 128)          0         \n",
            "_________________________________________________________________\n",
            "conv1d_1 (Conv1D)            (None, 126, 64)           16448     \n",
            "_________________________________________________________________\n",
            "max_pooling1d_1 (MaxPooling1 (None, 63, 64)            0         \n",
            "_________________________________________________________________\n",
            "conv1d_2 (Conv1D)            (None, 62, 32)            4128      \n",
            "_________________________________________________________________\n",
            "max_pooling1d_2 (MaxPooling1 (None, 31, 32)            0         \n",
            "_________________________________________________________________\n",
            "conv1d_3 (Conv1D)            (None, 30, 16)            1040      \n",
            "_________________________________________________________________\n",
            "max_pooling1d_3 (MaxPooling1 (None, 15, 16)            0         \n",
            "_________________________________________________________________\n",
            "dropout (Dropout)            (None, 15, 16)            0         \n",
            "_________________________________________________________________\n",
            "flatten (Flatten)            (None, 240)               0         \n",
            "_________________________________________________________________\n",
            "dense (Dense)                (None, 64)                15424     \n",
            "_________________________________________________________________\n",
            "dense_1 (Dense)              (None, 32)                2080      \n",
            "_________________________________________________________________\n",
            "dense_2 (Dense)              (None, 9)                 297       \n",
            "=================================================================\n",
            "Total params: 39,801\n",
            "Trainable params: 39,801\n",
            "Non-trainable params: 0\n",
            "_________________________________________________________________\n"
          ],
          "name": "stdout"
        }
      ]
    },
    {
      "cell_type": "code",
      "metadata": {
        "colab": {
          "base_uri": "https://localhost:8080/"
        },
        "id": "9NFl_Z-tV_Pl",
        "outputId": "eaa8ee67-db70-4e5c-c4c9-14f12fb0b3b1"
      },
      "source": [
        "model = cnnmodel.fit(X_train_3d, y_train_cat, epochs=epoch, validation_split=0.2, verbose=verbose,batch_size=batch_size)"
      ],
      "execution_count": null,
      "outputs": [
        {
          "output_type": "stream",
          "text": [
            "Epoch 1/10\n",
            "181/181 [==============================] - 21s 110ms/step - loss: 1.1973 - accuracy: 0.5751 - val_loss: 0.2282 - val_accuracy: 0.9403\n",
            "Epoch 2/10\n",
            "181/181 [==============================] - 19s 107ms/step - loss: 0.2616 - accuracy: 0.9248 - val_loss: 0.1576 - val_accuracy: 0.9552\n",
            "Epoch 3/10\n",
            "181/181 [==============================] - 19s 107ms/step - loss: 0.1813 - accuracy: 0.9462 - val_loss: 0.1337 - val_accuracy: 0.9599\n",
            "Epoch 4/10\n",
            "181/181 [==============================] - 19s 107ms/step - loss: 0.1529 - accuracy: 0.9560 - val_loss: 0.0980 - val_accuracy: 0.9694\n",
            "Epoch 5/10\n",
            "181/181 [==============================] - 20s 108ms/step - loss: 0.1187 - accuracy: 0.9627 - val_loss: 0.0871 - val_accuracy: 0.9729\n",
            "Epoch 6/10\n",
            "181/181 [==============================] - 19s 107ms/step - loss: 0.1047 - accuracy: 0.9682 - val_loss: 0.0885 - val_accuracy: 0.9741\n",
            "Epoch 7/10\n",
            "181/181 [==============================] - 20s 113ms/step - loss: 0.0946 - accuracy: 0.9700 - val_loss: 0.0788 - val_accuracy: 0.9749\n",
            "Epoch 8/10\n",
            "181/181 [==============================] - 20s 113ms/step - loss: 0.0820 - accuracy: 0.9754 - val_loss: 0.0701 - val_accuracy: 0.9789\n",
            "Epoch 9/10\n",
            "181/181 [==============================] - 20s 110ms/step - loss: 0.0741 - accuracy: 0.9767 - val_loss: 0.0632 - val_accuracy: 0.9796\n",
            "Epoch 10/10\n",
            "181/181 [==============================] - 21s 115ms/step - loss: 0.0682 - accuracy: 0.9785 - val_loss: 0.0674 - val_accuracy: 0.9780\n"
          ],
          "name": "stdout"
        }
      ]
    },
    {
      "cell_type": "code",
      "metadata": {
        "colab": {
          "base_uri": "https://localhost:8080/"
        },
        "id": "mY4WyJ5WWBbj",
        "outputId": "b5481c73-a6ba-4d8b-fe1b-8d9bd59e8bf7"
      },
      "source": [
        "cnnpredictions = cnnmodel.predict(X_test_3d, verbose=1)"
      ],
      "execution_count": null,
      "outputs": [
        {
          "output_type": "stream",
          "text": [
            "851/851 [==============================] - 7s 8ms/step\n"
          ],
          "name": "stdout"
        }
      ]
    },
    {
      "cell_type": "code",
      "metadata": {
        "id": "MY5Fi2xZWDcw"
      },
      "source": [
        "cnn_predict = np.argmax(cnnpredictions, axis=1)\n",
        "true_value = np.argmax(y_test_cat,axis=1)"
      ],
      "execution_count": null,
      "outputs": []
    },
    {
      "cell_type": "code",
      "metadata": {
        "id": "Y_GOCVV9WKmW"
      },
      "source": [
        "def cf_matrix_func(predictions, y_test):\n",
        "    cm = confusion_matrix(y_test, predictions)\n",
        "    categories=['N', 'L', 'R', 'A', 'V', 'F', 'f','P']\n",
        "    cm = cm.astype('float') / cm.sum(axis=1)[:, np.newaxis]\n",
        "    plt.figure(figsize=(10,10))\n",
        "    sns.heatmap(cm, annot=True, \n",
        "                fmt='.2%', cmap='Blues',xticklabels=categories,yticklabels=categories)\n",
        "    plt.xlabel('predicted label')\n",
        "    plt.ylabel('true label')"
      ],
      "execution_count": null,
      "outputs": []
    },
    {
      "cell_type": "code",
      "metadata": {
        "colab": {
          "base_uri": "https://localhost:8080/",
          "height": 606
        },
        "id": "GEx8bK6IWFX_",
        "outputId": "2e86d8c5-71cd-4feb-a887-45423c745188"
      },
      "source": [
        "cf_matrix_func(cnn_predict,true_value)"
      ],
      "execution_count": null,
      "outputs": [
        {
          "output_type": "display_data",
          "data": {
            "image/png": "[encoded data removed]",
            "text/plain": [
              "<Figure size 720x720 with 2 Axes>"
            ]
          },
          "metadata": {
            "tags": [],
            "needs_background": "light"
          }
        }
      ]
    },
    {
      "cell_type": "code",
      "metadata": {
        "id": "CXIW59uZWiYn"
      },
      "source": [
        "c_r = classification_report(true_value, cnn_predict, labels=[1.0, 2.0, 3.0, 4.0, 5.0, 6.0, 7.0,8.0], output_dict=True)"
      ],
      "execution_count": null,
      "outputs": []
    },
    {
      "cell_type": "code",
      "metadata": {
        "id": "pN0NPptqSh1X"
      },
      "source": [
        "import pandas as pd\n",
        "df = pd.DataFrame(c_r).transpose()\n",
        "df.to_csv(path + 'report_cnn_vae_mixed.csv')"
      ],
      "execution_count": null,
      "outputs": []
    },
    {
      "cell_type": "code",
      "metadata": {
        "id": "nhNXMKBDSzSs"
      },
      "source": [
        ""
      ],
      "execution_count": null,
      "outputs": []
    }
  ]
}