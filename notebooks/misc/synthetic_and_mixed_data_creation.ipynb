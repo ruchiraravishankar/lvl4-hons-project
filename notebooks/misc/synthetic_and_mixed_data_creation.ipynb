{
  "nbformat": 4,
  "nbformat_minor": 0,
  "metadata": {
    "colab": {
      "name": "synthetic and mixed data creation.ipynb",
      "provenance": []
    },
    "kernelspec": {
      "name": "python3",
      "display_name": "Python 3"
    },
    "language_info": {
      "name": "python"
    }
  },
  "cells": [
    {
      "cell_type": "code",
      "metadata": {
        "id": "YHIzGzGYmliZ"
      },
      "source": [
        "import numpy as np\n",
        "import os\n",
        "import sys\n",
        "from glob import glob\n",
        "import numpy as np\n",
        "import pandas as pd\n",
        "# import wfdb\n",
        "# import biosignalsnotebooks as bsnb\n",
        "# from wfdb import processing\n",
        "from matplotlib import pyplot as plt\n",
        "# from scipy import signal\n",
        "# from biosppy.signals import ecg\n",
        "np.set_printoptions(threshold=sys.maxsize)\n",
        "import umap\n",
        "import sklearn.utils as slu\n",
        "from sklearn.model_selection import LeaveOneOut\n",
        "import seaborn as sns\n",
        "from sklearn.metrics import *"
      ],
      "execution_count": 30,
      "outputs": []
    },
    {
      "cell_type": "code",
      "metadata": {
        "id": "ZL-Z2WbjDNjq"
      },
      "source": [
        ""
      ],
      "execution_count": 30,
      "outputs": []
    },
    {
      "cell_type": "code",
      "metadata": {
        "id": "j1DVNvl_mubW"
      },
      "source": [
        "path = '/content/drive/MyDrive/ecg/'"
      ],
      "execution_count": 31,
      "outputs": []
    },
    {
      "cell_type": "code",
      "metadata": {
        "id": "g3yQSMlOneyb"
      },
      "source": [
        "def synthetic_data(file_name):\n",
        "    path = '/content/drive/MyDrive/ecg/synthetic_data/' + file_name\n",
        "    file_list = glob(path + '/*.csv')\n",
        "    data = []\n",
        "    # labels = np.full((960,1),label)\n",
        "    labels = [1.0, 2.0, 3.0, 4.0, 5.0, 6.0, 7.0,8.0]\n",
        "    for i in range(len(file_list)):\n",
        "      arr = np.genfromtxt(file_list[i], delimiter=',')\n",
        "      lbl = np.full((arr.shape[0],1),labels[i])\n",
        "      arr = np.hstack((arr,lbl))\n",
        "      data.append( arr )\n",
        "    all_data = np.concatenate(data, axis=0)\n",
        "    return all_data"
      ],
      "execution_count": 32,
      "outputs": []
    },
    {
      "cell_type": "code",
      "metadata": {
        "colab": {
          "base_uri": "https://localhost:8080/"
        },
        "id": "XYJU_23unmts",
        "outputId": "6286635a-9881-4429-8acb-03138c6a7fd8"
      },
      "source": [
        "cnn_vae = synthetic_data('conv_vae')\n",
        "cnn_sparse_vae = synthetic_data('sparse_conv_vae')\n",
        "lstm_vae = synthetic_data('lstm_vae')\n",
        "lstm_sparse_vae = synthetic_data('lstm_sparse_vae')\n",
        "\n",
        "print(cnn_vae.shape)\n",
        "print(cnn_sparse_vae.shape)\n",
        "print(lstm_vae.shape)\n",
        "print(lstm_sparse_vae.shape)"
      ],
      "execution_count": 33,
      "outputs": [
        {
          "output_type": "stream",
          "text": [
            "(47616, 257)\n",
            "(47616, 257)\n",
            "(47616, 257)\n",
            "(47616, 257)\n"
          ],
          "name": "stdout"
        }
      ]
    },
    {
      "cell_type": "code",
      "metadata": {
        "id": "76lOLbOBBaAN"
      },
      "source": [
        "comb = 'synthetic_data/combined/'\n",
        "if not os.path.exists(path + comb):\n",
        "  os.makedirs(path + comb)"
      ],
      "execution_count": 34,
      "outputs": []
    },
    {
      "cell_type": "code",
      "metadata": {
        "id": "jVP4faknnnYN"
      },
      "source": [
        "np.savetxt(path + comb + 'cnn_synth.csv', cnn_vae, delimiter=',')\n",
        "np.savetxt(path + comb + 'cnn_sparse_synth.csv', cnn_sparse_vae, delimiter=',')\n",
        "np.savetxt(path + comb + 'lstm_synth.csv', lstm_vae, delimiter=',')\n",
        "np.savetxt(path + comb + 'lstm_sparse_synth.csv', lstm_sparse_vae, delimiter=',')"
      ],
      "execution_count": 35,
      "outputs": []
    },
    {
      "cell_type": "code",
      "metadata": {
        "colab": {
          "base_uri": "https://localhost:8080/"
        },
        "id": "wqDgwcXHpwsK",
        "outputId": "b69589fb-4807-404f-b0f4-5659dc03abab"
      },
      "source": [
        "mlii = np.loadtxt(path+'train_unsampled_mlii/mlii.csv', delimiter=',')\n",
        "print(mlii.shape)\n",
        "np.random.shuffle(mlii)"
      ],
      "execution_count": 36,
      "outputs": [
        {
          "output_type": "stream",
          "text": [
            "(108828, 259)\n"
          ],
          "name": "stdout"
        }
      ]
    },
    {
      "cell_type": "code",
      "metadata": {
        "colab": {
          "base_uri": "https://localhost:8080/"
        },
        "id": "K3TiZNvBqz6H",
        "outputId": "24291624-86f2-4988-cc84-b1ce0922b539"
      },
      "source": [
        "anno = mlii[:,-3]\n",
        "normal = mlii[anno == 1.0]\n",
        "lbbb = mlii[anno == 2.0]\n",
        "rbbb = mlii[anno == 3.0]\n",
        "apb = mlii[anno == 4.0]\n",
        "pvc = mlii[anno == 5.0]\n",
        "fvn = mlii[anno == 6.0]\n",
        "fpn = mlii[anno == 7.0]\n",
        "paced = mlii[anno == 8.0]\n",
        "\n",
        "abnormal = [lbbb,rbbb,apb,pvc,fvn,fpn,paced]\n",
        "list_len = [len(i) for i in abnormal]\n",
        "print(list_len)\n",
        "print(len(normal))\n",
        "all_classes = [normal,lbbb,rbbb,apb,pvc,fvn,fpn,paced]\n",
        "\n",
        "num_of_vals = np.mean(list_len, dtype=int)\n",
        "print(num_of_vals)"
      ],
      "execution_count": 38,
      "outputs": [
        {
          "output_type": "stream",
          "text": [
            "[8072, 7256, 2544, 7130, 803, 982, 7024]\n",
            "75017\n",
            "4830\n"
          ],
          "name": "stdout"
        }
      ]
    },
    {
      "cell_type": "code",
      "metadata": {
        "id": "KlCDiug7rC45"
      },
      "source": [
        "def downsample(arr,n,seed):\n",
        "    downsampled = slu.resample(arr,replace=False,n_samples=n,random_state=seed)\n",
        "    return downsampled"
      ],
      "execution_count": 39,
      "outputs": []
    },
    {
      "cell_type": "code",
      "metadata": {
        "colab": {
          "base_uri": "https://localhost:8080/"
        },
        "id": "pSJNidM2rGmQ",
        "outputId": "ca79288a-cbe6-458d-90ea-086b45a14c49"
      },
      "source": [
        "sampled_data = []\n",
        "for i in all_classes:\n",
        "  # print(i.shape[0])\n",
        "  if i.shape[0] > num_of_vals//2:\n",
        "      i = downsample(i, num_of_vals//2,42)\n",
        "  sampled_data.append(i)\n",
        "\n",
        "print(len(sampled_data))"
      ],
      "execution_count": 40,
      "outputs": [
        {
          "output_type": "stream",
          "text": [
            "8\n"
          ],
          "name": "stdout"
        }
      ]
    },
    {
      "cell_type": "code",
      "metadata": {
        "colab": {
          "base_uri": "https://localhost:8080/"
        },
        "id": "ZQMO3WUOrs6g",
        "outputId": "fc63e1d6-9256-49c2-f519-2bcdd0ff7bf3"
      },
      "source": [
        "# deleting patient no. and channel no.\n",
        "sampled_data_new = []\n",
        "for i in sampled_data:\n",
        "  i = np.delete(i, [-1,-2],axis=1)\n",
        "  sampled_data_new.append(i)\n",
        "\n",
        "print(sampled_data_new[0].shape)"
      ],
      "execution_count": 41,
      "outputs": [
        {
          "output_type": "stream",
          "text": [
            "(2415, 257)\n"
          ],
          "name": "stdout"
        }
      ]
    },
    {
      "cell_type": "code",
      "metadata": {
        "id": "Wpw2_6VEsEiM"
      },
      "source": [
        "synth_model = cnn_vae"
      ],
      "execution_count": 42,
      "outputs": []
    },
    {
      "cell_type": "code",
      "metadata": {
        "id": "j2GSHyGQsFJg"
      },
      "source": [
        "anno = synth_model[:,-1]\n",
        "normal_synth = synth_model[anno == 1.0]\n",
        "lbbb_synth = synth_model[anno == 2.0]\n",
        "rbbb_synth = synth_model[anno == 3.0]\n",
        "apb_synth = synth_model[anno == 4.0]\n",
        "pvc_synth = synth_model[anno == 5.0]\n",
        "fvn_synth = synth_model[anno == 6.0]\n",
        "fpn_synth = synth_model[anno == 7.0]\n",
        "paced_synth = synth_model[anno == 8.0]\n",
        "\n",
        "all_classes_synth = [normal_synth,lbbb_synth,rbbb_synth,apb_synth,pvc_synth,fvn_synth,fpn_synth,paced_synth]"
      ],
      "execution_count": 44,
      "outputs": []
    },
    {
      "cell_type": "code",
      "metadata": {
        "colab": {
          "base_uri": "https://localhost:8080/"
        },
        "id": "5Usqfx6HFGrk",
        "outputId": "72396680-9000-4bc0-fe52-8c68f89233d0"
      },
      "source": [
        "print(all_classes_synth[0].shape)"
      ],
      "execution_count": 45,
      "outputs": [
        {
          "output_type": "stream",
          "text": [
            "(5952, 257)\n"
          ],
          "name": "stdout"
        }
      ]
    },
    {
      "cell_type": "code",
      "metadata": {
        "colab": {
          "base_uri": "https://localhost:8080/"
        },
        "id": "t2FDBoGk0Qck",
        "outputId": "fcbe2a63-b320-49a5-cf70-76f1b1061639"
      },
      "source": [
        "synth_real_data = []\n",
        "for i in range(len(sampled_data_new)):\n",
        "  diff = num_of_vals - sampled_data_new[i].shape[0]\n",
        "  print(diff)\n",
        "  synth_samps = all_classes_synth[i][np.random.choice(all_classes_synth[i].shape[0], diff, replace=False),:]\n",
        "  print(synth_samps.shape)\n",
        "  # synth_samps = all_classes_synth[i][:diff]\n",
        "  sampled_data[i] = np.concatenate((sampled_data_new[i], synth_samps))\n",
        "  print(sampled_data[i].shape)\n",
        "  synth_real_data.append(sampled_data[i])\n",
        "\n",
        "print(len(synth_real_data))"
      ],
      "execution_count": 46,
      "outputs": [
        {
          "output_type": "stream",
          "text": [
            "2415\n",
            "(2415, 257)\n",
            "(4830, 257)\n",
            "2415\n",
            "(2415, 257)\n",
            "(4830, 257)\n",
            "2415\n",
            "(2415, 257)\n",
            "(4830, 257)\n",
            "2415\n",
            "(2415, 257)\n",
            "(4830, 257)\n",
            "2415\n",
            "(2415, 257)\n",
            "(4830, 257)\n",
            "4027\n",
            "(4027, 257)\n",
            "(4830, 257)\n",
            "3848\n",
            "(3848, 257)\n",
            "(4830, 257)\n",
            "2415\n",
            "(2415, 257)\n",
            "(4830, 257)\n",
            "8\n"
          ],
          "name": "stdout"
        }
      ]
    },
    {
      "cell_type": "code",
      "metadata": {
        "colab": {
          "base_uri": "https://localhost:8080/"
        },
        "id": "KzuXv7sA0Tks",
        "outputId": "e9d35363-0489-4550-941b-73a201ab3e5f"
      },
      "source": [
        "synth_real_arr = np.concatenate(synth_real_data, axis=0)\n",
        "np.random.shuffle(synth_real_arr)\n",
        "print(synth_real_arr.shape)"
      ],
      "execution_count": 47,
      "outputs": [
        {
          "output_type": "stream",
          "text": [
            "(38640, 257)\n"
          ],
          "name": "stdout"
        }
      ]
    },
    {
      "cell_type": "code",
      "metadata": {
        "id": "2zrxrNjdCI79"
      },
      "source": [
        "mixed = 'synthetic_data/mixed/'\n",
        "if not os.path.exists(path + mixed):\n",
        "  os.makedirs(path + mixed)"
      ],
      "execution_count": 48,
      "outputs": []
    },
    {
      "cell_type": "code",
      "metadata": {
        "id": "81lHo9oh8lpX"
      },
      "source": [
        "np.savetxt(path + mixed + 'cnn_vae_mixed.csv', synth_real_arr, delimiter=',' )"
      ],
      "execution_count": 49,
      "outputs": []
    },
    {
      "cell_type": "code",
      "metadata": {
        "id": "pEtM8Fhqxexi"
      },
      "source": [
        ""
      ],
      "execution_count": null,
      "outputs": []
    }
  ]
}