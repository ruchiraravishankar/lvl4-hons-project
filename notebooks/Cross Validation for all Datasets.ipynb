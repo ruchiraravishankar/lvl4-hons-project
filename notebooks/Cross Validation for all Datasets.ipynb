{
  "nbformat": 4,
  "nbformat_minor": 0,
  "metadata": {
    "colab": {
      "name": "cross_val_dynamic_func.ipynb",
      "provenance": []
    },
    "kernelspec": {
      "name": "python3",
      "display_name": "Python 3"
    },
    "language_info": {
      "name": "python"
    },
    "accelerator": "GPU"
  },
  "cells": [
    {
      "cell_type": "code",
      "metadata": {
        "id": "3TnkbaxJKNlw"
      },
      "source": [
        "import numpy as np\n",
        "import os\n",
        "import sys\n",
        "from glob import glob\n",
        "import numpy as np\n",
        "import pandas as pd\n",
        "\n",
        "from matplotlib import pyplot as plt\n",
        "\n",
        "\n",
        "np.set_printoptions(threshold=sys.maxsize)\n",
        "\n",
        "import sklearn.utils as slu\n",
        "from sklearn.model_selection import LeaveOneOut\n",
        "import seaborn as sns\n",
        "from sklearn.metrics import *\n",
        "from sklearn.model_selection import StratifiedKFold\n",
        "from statistics import mean, stdev\n",
        "from keras.utils.np_utils import to_categorical\n",
        "from tensorflow.keras import layers\n",
        "from tensorflow.keras.models import Sequential\n",
        "from tensorflow.keras.layers import Dense\n",
        "from tensorflow.keras.models import Model, load_model\n",
        "from tensorflow.keras.utils import to_categorical\n",
        "from tensorflow.keras.layers import Dropout\n",
        "from tensorflow.keras.layers import Flatten\n",
        "from tensorflow.keras.layers import Conv1D\n",
        "from tensorflow.keras.layers import MaxPooling1D\n",
        "from sklearn.ensemble import RandomForestClassifier"
      ],
      "execution_count": null,
      "outputs": []
    },
    {
      "cell_type": "code",
      "metadata": {
        "id": "MCULxTcfKXWr"
      },
      "source": [
        "kfold = StratifiedKFold(n_splits = 10, shuffle= True, random_state=48)"
      ],
      "execution_count": null,
      "outputs": []
    },
    {
      "cell_type": "code",
      "metadata": {
        "id": "r6-T85nqKau7"
      },
      "source": [
        "def perform_metrics(clf_name, acc_list, pre_list, rec_list, f1_list, conf_list):\n",
        "  acc_mean = round(np.mean(acc_list),3)\n",
        "  acc_std = round(stdev(acc_list),3)\n",
        "  pre_mean = round(np.mean(pre_list),3)\n",
        "  pre_std = round(stdev(pre_list),3)\n",
        "  rec_mean = round(np.mean(rec_list),3)\n",
        "  rec_std = round(stdev(rec_list),3)\n",
        "  f1_mean = round(np.mean(f1_list),3)\n",
        "  f1_std = round(stdev(f1_list),3)\n",
        "  print('Classifier Name: ',clf_name)\n",
        "  print('accuracy mean: ',acc_mean,' std: ',acc_std)\n",
        "  print('precision: ',pre_mean,' std: ',pre_std)\n",
        "  print('recall: ',rec_mean,' std: ',rec_std)\n",
        "  print('f1score: ',f1_mean,' std: ',f1_std)\n",
        "\n",
        "  # conf_list = np.nan_to_num(conf_list)\n",
        "  conf = np.mean(conf_list,axis=0)\n",
        "  plt.figure(figsize=(8,8))\n",
        "  sns.heatmap(conf,annot=True,fmt='.2%', cmap='Blues', xticklabels=categories,yticklabels=categories)\n",
        "  plt.title(clf_name + ' confusion matrix')\n",
        "  return (clf_name,acc_mean,acc_std,pre_mean,pre_std,rec_mean,rec_std,f1_mean,f1_std)"
      ],
      "execution_count": null,
      "outputs": []
    },
    {
      "cell_type": "code",
      "metadata": {
        "id": "aEbfiOjzKfjV"
      },
      "source": [
        "# Change path as required\n",
        "path = '/content/drive/MyDrive/ecg/'"
      ],
      "execution_count": null,
      "outputs": []
    },
    {
      "cell_type": "code",
      "metadata": {
        "colab": {
          "base_uri": "https://localhost:8080/"
        },
        "id": "Jbe3u5btKiuV",
        "outputId": "99c2a262-d819-434b-d18c-23a3063df6e3"
      },
      "source": [
        "mlii = np.loadtxt(path+'train_unsampled_mlii/mlii.csv', delimiter=',')\n",
        "print(mlii.shape)"
      ],
      "execution_count": null,
      "outputs": [
        {
          "output_type": "stream",
          "text": [
            "(108828, 259)\n"
          ],
          "name": "stdout"
        }
      ]
    },
    {
      "cell_type": "code",
      "metadata": {
        "colab": {
          "base_uri": "https://localhost:8080/"
        },
        "id": "qOrabe9zK0f5",
        "outputId": "33987e05-6f18-4838-a514-9d8be5b79f72"
      },
      "source": [
        "np.random.shuffle(mlii)\n",
        "\n",
        "X = mlii[:,:-3]\n",
        "y = mlii[:,-3]\n",
        "print(X.shape, y.shape)"
      ],
      "execution_count": null,
      "outputs": [
        {
          "output_type": "stream",
          "text": [
            "(108828, 256) (108828,)\n"
          ],
          "name": "stdout"
        }
      ]
    },
    {
      "cell_type": "code",
      "metadata": {
        "id": "kcbANc7GLDPx"
      },
      "source": [
        "inputs = X\n",
        "targets = y\n",
        "categories=['N', 'L', 'R', 'A', 'V', 'F', 'f','P']"
      ],
      "execution_count": null,
      "outputs": []
    },
    {
      "cell_type": "code",
      "metadata": {
        "id": "TPZJjzybLNEE"
      },
      "source": [
        "def cross_val(inputs, targets, resamp_func, synth_model, file_type):\n",
        "  train_loss_list = []\n",
        "  \n",
        "  cnn_acc_list = []\n",
        "  cnn_pre_list = []\n",
        "  cnn_rec_list = []\n",
        "  cnn_f1_list = []\n",
        "  cnn_conf_list = []\n",
        "\n",
        "  rfc_acc_list = []\n",
        "  rfc_pre_list = []\n",
        "  rfc_rec_list = []\n",
        "  rfc_f1_list = []\n",
        "  rfc_conf_list = []\n",
        "\n",
        "\n",
        "  from sklearn.utils import resample\n",
        "\n",
        "  fold_no = 1\n",
        "\n",
        "  for train, test in kfold.split(inputs, targets):\n",
        "\n",
        "    xtr, xte = inputs[train], inputs[test]\n",
        "    ytr, yte = targets[train], targets[test]\n",
        "\n",
        "    ytr_res = ytr.reshape(-1,1)\n",
        "\n",
        "    train_vals = np.concatenate((xtr, ytr_res), axis=1)\n",
        "    if (resamp_func == 0) and (synth_model is None):\n",
        "      xtr_new = xtr\n",
        "      ytr_new = ytr\n",
        "      \n",
        "    elif (resamp_func != 0) and (synth_model is not None):\n",
        "      new_train_vals = resamp_func(train_vals, synth_model)\n",
        "      xtr_new = new_train_vals[:,:-1]\n",
        "      ytr_new = new_train_vals[:,-1]\n",
        "\n",
        "    else:\n",
        "      # upsampled with given func\n",
        "      new_train_vals = resamp_func(train_vals)\n",
        "\n",
        "      xtr_new = new_train_vals[:,:-1]\n",
        "      ytr_new = new_train_vals[:,-1]\n",
        "\n",
        "    verbose, epoch, batch_size = 0, 10, 128\n",
        "    inputs_3d_tr = xtr_new.reshape(-1, xtr_new.shape[1],1)\n",
        "    inputs_3d_te = xte.reshape(-1, xte.shape[1],1)\n",
        "    targets_cat_tr = to_categorical(ytr_new) \n",
        "    targets_cat_te = to_categorical(yte)\n",
        "    cnnmodel = Sequential()\n",
        "    cnnmodel.add(Conv1D(filters=128, kernel_size=2, activation='relu',input_shape=(inputs_3d_tr.shape[1],inputs_3d_tr.shape[2])))\n",
        "    cnnmodel.add(MaxPooling1D(pool_size=2))\n",
        "    cnnmodel.add(Conv1D(filters=64, kernel_size=2, activation='relu'))\n",
        "    cnnmodel.add(MaxPooling1D(pool_size=2))\n",
        "    cnnmodel.add(Conv1D(filters=32, kernel_size=2, activation='relu'))\n",
        "    cnnmodel.add(MaxPooling1D(pool_size=2))\n",
        "    cnnmodel.add(Conv1D(filters=16, kernel_size=2, activation='relu'))\n",
        "    cnnmodel.add(MaxPooling1D(pool_size=2))\n",
        "    cnnmodel.add(Dropout(rate=0.2))\n",
        "    cnnmodel.add(Flatten())\n",
        "    cnnmodel.add(Dense(64, activation='relu'))\n",
        "    cnnmodel.add(Dense(32, activation='relu'))\n",
        "    cnnmodel.add(Dense(9, activation='softmax'))\n",
        "    cnnmodel.compile(optimizer='adam', loss='categorical_crossentropy',metrics=['accuracy'])\n",
        "\n",
        "    print('CNN, Fold number: ', fold_no)\n",
        "    model = cnnmodel.fit(inputs_3d_tr, targets_cat_tr, epochs=epoch, validation_split=0.2, verbose=verbose,batch_size=batch_size)\n",
        "    training_loss = model.history['loss']\n",
        "    train_loss_list.append(training_loss)\n",
        "    cnnpredictions = cnnmodel.predict(inputs_3d_te, verbose=1)\n",
        "    y_pred_cnn = np.argmax(cnnpredictions, axis=1)\n",
        "    cnn_actual = np.argmax(targets_cat_te, axis=1)\n",
        "\n",
        "    cnn_acc_list.append(accuracy_score(cnn_actual, y_pred_cnn))\n",
        "    cnn_pre_list.append(precision_score(cnn_actual, y_pred_cnn, average='macro'))\n",
        "    cnn_rec_list.append(recall_score(cnn_actual, y_pred_cnn, average='macro'))\n",
        "    cnn_f1_list.append(f1_score(cnn_actual, y_pred_cnn, average='macro'))\n",
        "    cnn_cm = confusion_matrix(cnn_actual, y_pred_cnn)\n",
        "    cnn_cm = cnn_cm.astype('float')/ cnn_cm.sum(axis=1)[:,np.newaxis]\n",
        "    cnn_conf_list.append(cnn_cm)\n",
        "\n",
        "\n",
        "    print('RFC, Fold Number: ', fold_no)\n",
        "    rfc_clf = RandomForestClassifier(max_depth=10, random_state=48,n_estimators=10)\n",
        "    rfc_clf.fit(xtr_new, ytr_new)\n",
        "    y_pred_rfc = rfc_clf.predict(xte)\n",
        "    rfc_acc_list.append(accuracy_score(yte, y_pred_rfc))\n",
        "    rfc_pre_list.append(precision_score(yte, y_pred_rfc, average='macro'))\n",
        "    rfc_rec_list.append(recall_score(yte, y_pred_rfc, average='macro'))\n",
        "    rfc_f1_list.append(f1_score(yte, y_pred_rfc, average='macro'))\n",
        "    rfc_cm = confusion_matrix(yte, y_pred_rfc)\n",
        "    rfc_cm = rfc_cm.astype('float')/ rfc_cm.sum(axis=1)[:,np.newaxis]\n",
        "    rfc_conf_list.append(rfc_cm)\n",
        "    fold_no +=1\n",
        "\n",
        "  CNN_results = perform_metrics('CNN', cnn_acc_list, cnn_pre_list, cnn_rec_list, cnn_f1_list, cnn_conf_list)\n",
        "  RFC_results = perform_metrics('RFC', rfc_acc_list, rfc_pre_list, rfc_rec_list, rfc_f1_list, rfc_conf_list)\n",
        "\n",
        "  crossval_results = pd.DataFrame(data = (CNN_results, RFC_results))\n",
        "  if not os.path.exists(path + 'metric_results/' + file_type):\n",
        "    os.makedirs(path + 'metric_results/' + file_type)\n",
        "  \n",
        "  print(crossval_results)\n",
        "  crossval_results.to_csv(path + 'metric_results/' + file_type + '/crossval_results.csv', encoding='utf-8', index=False)\n",
        "\n",
        "  if not os.path.exists(path + 'metric_results/' + file_type + '/cnn'):\n",
        "    os.makedirs(path + 'metric_results/' + file_type + '/cnn')\n",
        "  \n",
        "  cnn_unsamp = path + 'metric_results/' + file_type + '/cnn/'\n",
        "  CNN_acc = pd.DataFrame(cnn_acc_list)\n",
        "  CNN_acc.to_csv(cnn_unsamp + 'CNN_acc.csv', encoding='utf-8', index=False)\n",
        "\n",
        "  CNN_pre = pd.DataFrame(cnn_pre_list)\n",
        "  CNN_pre.to_csv(cnn_unsamp + 'CNN_pre.csv', encoding='utf-8', index=False)\n",
        "\n",
        "  CNN_rec = pd.DataFrame(cnn_rec_list)\n",
        "  CNN_rec.to_csv(cnn_unsamp +'CNN_rec.csv', encoding='utf-8', index=False)\n",
        "\n",
        "  CNN_f1s = pd.DataFrame(cnn_f1_list)\n",
        "  CNN_f1s.to_csv(cnn_unsamp +'CNN_f1s.csv', encoding='utf-8', index=False)\n",
        "\n",
        "  if not os.path.exists(path + 'metric_results/' + file_type + '/rfc'):\n",
        "    os.makedirs(path + 'metric_results/' + file_type + '/rfc')\n",
        "\n",
        "  rfc_unsamp = path + 'metric_results/' + file_type + '/rfc/'\n",
        "  rfc_acc = pd.DataFrame(rfc_acc_list)\n",
        "  rfc_acc.to_csv(rfc_unsamp + 'RFC_acc.csv', encoding='utf-8', index=False)\n",
        "\n",
        "  rfc_pre = pd.DataFrame(rfc_pre_list)\n",
        "  rfc_pre.to_csv(rfc_unsamp + 'RFC_pre.csv', encoding='utf-8', index=False)\n",
        "\n",
        "  rfc_rec = pd.DataFrame(rfc_rec_list)\n",
        "  rfc_rec.to_csv(rfc_unsamp +'RFC_rec.csv', encoding='utf-8', index=False)\n",
        "\n",
        "  rfc_f1s = pd.DataFrame(rfc_f1_list)\n",
        "  rfc_f1s.to_csv(rfc_unsamp +'RFC_f1s.csv', encoding='utf-8', index=False)\n",
        "  return train_loss_list"
      ],
      "execution_count": null,
      "outputs": []
    },
    {
      "cell_type": "code",
      "metadata": {
        "id": "7H50bmMfTSmt"
      },
      "source": [
        "## NAIVE RESAMPLING FUNCTIONS\n",
        "\n",
        "import sklearn.utils as slu\n",
        "seed=48\n",
        "np.random.seed(seed)\n",
        "def downsample(arr,n,seed):\n",
        "    downsampled = slu.resample(arr,replace=False,n_samples=n,random_state=seed)\n",
        "    return downsampled\n",
        "\n",
        "def upsample(arr,n,seed):\n",
        "    upsampled = slu.resample(arr,replace=True,n_samples=n,random_state=seed)\n",
        "    return upsampled\n",
        "\n",
        "def naive_resample(train_vals):\n",
        "  anno = train_vals[:,-1]\n",
        "  normal = train_vals[anno == 1.0]\n",
        "  lbbb = train_vals[anno == 2.0]\n",
        "  rbbb = train_vals[anno == 3.0]\n",
        "  apb = train_vals[anno == 4.0]\n",
        "  pvc = train_vals[anno == 5.0]\n",
        "  fvn = train_vals[anno == 6.0]\n",
        "  fpn = train_vals[anno == 7.0]\n",
        "  paced = train_vals[anno == 8.0]\n",
        "\n",
        "  abnormal = [lbbb,rbbb,apb,pvc,fvn,fpn,paced]\n",
        "  list_len = [len(i) for i in abnormal]\n",
        "  print(list_len)\n",
        "\n",
        "  all_classes = [normal,lbbb,rbbb,apb,pvc,fvn,fpn,paced]\n",
        "\n",
        "  num_of_vals = np.mean(list_len, dtype=int)\n",
        "  print(\"num of vals\", num_of_vals)\n",
        "\n",
        "  sampled_data = []\n",
        "  for i in all_classes:\n",
        "      if i.shape[0] > num_of_vals:\n",
        "          i = downsample(i, num_of_vals,seed)\n",
        "      elif i.shape[0] < num_of_vals:\n",
        "          i = upsample(i, num_of_vals,seed)\n",
        "      sampled_data.append(i)\n",
        "\n",
        "  for i in sampled_data:\n",
        "    print(i.shape)\n",
        "  sampled_data = np.concatenate(sampled_data)\n",
        "  # print(sampled_data[0])\n",
        "  np.random.shuffle(sampled_data)\n",
        "\n",
        "  return sampled_data"
      ],
      "execution_count": null,
      "outputs": []
    },
    {
      "cell_type": "code",
      "metadata": {
        "id": "ZTxYrVUJW4YU"
      },
      "source": [
        "## SMOTE RESAMPLING FUNCTIONS\n",
        "\n",
        "from imblearn.over_sampling import SMOTE\n",
        "from collections import Counter\n",
        "from imblearn.under_sampling import RandomUnderSampler\n",
        "\n",
        "def smote_rus(train_vals):\n",
        "  X_train = train_vals[:,:-1]\n",
        "  y_train = train_vals[:,-1]\n",
        "  label_count = Counter(y_train)\n",
        "  print(label_count)\n",
        "  classes, counts = np.unique(y_train, return_counts=True)\n",
        "  imbalanced = counts[1:]\n",
        "  imb_max = np.max(imbalanced)\n",
        "  print(\"imb max\",imb_max)\n",
        "  normal_count = counts[0]\n",
        "  print(normal_count)\n",
        "\n",
        "  samp_strat = {1:normal_count,2:imb_max,3:imb_max,4:imb_max,5:imb_max,6:imb_max,7:imb_max,8:imb_max}\n",
        "  sm = SMOTE(random_state=42, sampling_strategy=samp_strat)\n",
        "  X_bal, y_bal = sm.fit_resample(X_train,y_train)\n",
        "  print(Counter(y_bal))\n",
        "\n",
        "  rus = RandomUnderSampler()\n",
        "  X_u,y_u = rus.fit_resample(X_bal,y_bal)\n",
        "  print(Counter(y_u))\n",
        "\n",
        "  y_u_res = y_u.reshape(-1,1)\n",
        "\n",
        "  train_vals_new = np.concatenate((X_u, y_u_res), axis=1)\n",
        "\n",
        "  return train_vals_new"
      ],
      "execution_count": null,
      "outputs": []
    },
    {
      "cell_type": "code",
      "metadata": {
        "colab": {
          "base_uri": "https://localhost:8080/"
        },
        "id": "LT1x0D5dXKSF",
        "outputId": "4fb6ec15-7213-4d46-ea70-89592954353b"
      },
      "source": [
        "## VAE RESAMPLING FUNCTIONS\n",
        "\n",
        "comb = path + 'synthetic_data/combined/'\n",
        "cnn_synth = np.genfromtxt(comb + 'cnn_synth.csv', delimiter=',')\n",
        "cnn_sparse_synth = np.genfromtxt(comb + 'cnn_sparse_synth.csv', delimiter=',' )\n",
        "lstm_synth = np.genfromtxt(comb + 'lstm_synth.csv', delimiter=',')\n",
        "lstm_sparse_synth = np.genfromtxt(comb + 'lstm_sparse_synth.csv', delimiter=',')\n",
        "\n",
        "print(cnn_synth.shape)\n",
        "print(cnn_sparse_synth.shape)\n",
        "print(lstm_synth.shape)\n",
        "print(lstm_sparse_synth.shape)\n",
        "\n",
        "def downsample(arr,n,seed):\n",
        "    downsampled = slu.resample(arr,replace=False,n_samples=n,random_state=seed)\n",
        "    return downsampled\n",
        "\n",
        "def resample_vae(train_vals, synth_model):\n",
        "  # compute number of values per class\n",
        "  anno = train_vals[:,-1]\n",
        "  normal = train_vals[anno == 1.0]\n",
        "  lbbb = train_vals[anno == 2.0]\n",
        "  rbbb = train_vals[anno == 3.0]\n",
        "  apb = train_vals[anno == 4.0]\n",
        "  pvc = train_vals[anno == 5.0]\n",
        "  fvn = train_vals[anno == 6.0]\n",
        "  fpn = train_vals[anno == 7.0]\n",
        "  paced = train_vals[anno == 8.0]\n",
        "\n",
        "\n",
        "  abnormal = [lbbb,rbbb,apb,pvc,fvn,fpn,paced]\n",
        "  list_len = [len(i) for i in abnormal]\n",
        "  print(list_len)\n",
        "  print(len(normal))\n",
        "  all_classes = [normal,lbbb,rbbb,apb,pvc,fvn,fpn,paced]\n",
        "\n",
        "  num_of_vals = np.mean(list_len, dtype=int)\n",
        "  print(\"num of vals\", num_of_vals)\n",
        "\n",
        "  # downsample all classes to <= num_of_vals/2\n",
        "  sampled_data = []\n",
        "  for i in all_classes:\n",
        "    # print(i.shape[0])\n",
        "    if i.shape[0] > num_of_vals//2:\n",
        "        i = downsample(i, num_of_vals//2,42)\n",
        "    sampled_data.append(i)\n",
        "\n",
        "  print(len(sampled_data))\n",
        "\n",
        "\n",
        "  #segregate synth data into classes\n",
        "  anno = synth_model[:,-1]\n",
        "  normal_synth = synth_model[anno == 1.0]\n",
        "  lbbb_synth = synth_model[anno == 2.0]\n",
        "  rbbb_synth = synth_model[anno == 3.0]\n",
        "  apb_synth = synth_model[anno == 4.0]\n",
        "  pvc_synth = synth_model[anno == 5.0]\n",
        "  fvn_synth = synth_model[anno == 6.0]\n",
        "  fpn_synth = synth_model[anno == 7.0]\n",
        "  paced_synth = synth_model[anno == 8.0]\n",
        "\n",
        "  all_classes_synth = [normal_synth,lbbb_synth,rbbb_synth,apb_synth,pvc_synth,fvn_synth,fpn_synth,paced_synth]\n",
        "\n",
        "  print(all_classes_synth[0].shape)\n",
        "\n",
        "  # add the difference between the num of vals and downsampled real values to each class\n",
        "  synth_real_data = []\n",
        "  for i in range(len(sampled_data)):\n",
        "    diff = num_of_vals - sampled_data[i].shape[0]\n",
        "    # print(diff)\n",
        "    synth_samps = all_classes_synth[i][np.random.choice(all_classes_synth[i].shape[0], diff, replace=False),:]\n",
        "    # print(synth_samps.shape)\n",
        "    # synth_samps = all_classes_synth[i][:diff]\n",
        "    mixed = np.concatenate((sampled_data[i], synth_samps))\n",
        "    # print(sampled_data[i].shape)\n",
        "    synth_real_data.append(mixed)\n",
        "\n",
        "  print(len(i) for i in synth_real_data)\n",
        "\n",
        "  # combine into one array and shuffle to produce mix of synth and real data per class\n",
        "  synth_real_arr = np.concatenate(synth_real_data, axis=0)\n",
        "  np.random.shuffle(synth_real_arr)\n",
        "  print(synth_real_arr.shape)\n",
        "\n",
        "  return synth_real_arr\n",
        "\n"
      ],
      "execution_count": null,
      "outputs": [
        {
          "output_type": "stream",
          "text": [
            "(47616, 257)\n",
            "(47616, 257)\n",
            "(47616, 257)\n",
            "(47616, 257)\n"
          ],
          "name": "stdout"
        }
      ]
    },
    {
      "cell_type": "markdown",
      "metadata": {
        "id": "lI1XaYcjXzGE"
      },
      "source": [
        "## CALLING CROSS VAL NOW"
      ]
    },
    {
      "cell_type": "code",
      "metadata": {
        "id": "zeSMSc2An_4L"
      },
      "source": [
        "def plot_loss(tll, dataset):\n",
        "  # print(len(train_loss_list[0]))\n",
        "  import seaborn as sns\n",
        "  sns.set()\n",
        "  tll = np.array(train_loss_list)\n",
        "  # print(tll)\n",
        "  train_loss_mean = np.mean(tll, axis=0)\n",
        "  # print(train_loss_mean)\n",
        "\n",
        "\n",
        "  plt.plot(range(len(train_loss_mean)), train_loss_mean)\n",
        "  plt.title(\"CNN Classifier Training Loss: \" + dataset + \" Dataset\")\n",
        "  plt.xlabel(\"No. of Epochs\")\n",
        "  plt.ylabel(\"Loss\")\n",
        "  plt.show()"
      ],
      "execution_count": null,
      "outputs": []
    },
    {
      "cell_type": "code",
      "metadata": {
        "colab": {
          "base_uri": "https://localhost:8080/"
        },
        "id": "K8qrDawPObYb",
        "outputId": "edd5a8e3-73dd-4894-82dc-fe5bdc293429"
      },
      "source": [
        "train_loss_list = cross_val(inputs, targets, 0, None, 'unsampled')\n"
      ],
      "execution_count": null,
      "outputs": [
        {
          "output_type": "stream",
          "text": [
            "CNN, Fold number:  1\n",
            "341/341 [==============================] - 1s 2ms/step\n",
            "RFC, Fold Number:  1\n",
            "CNN, Fold number:  2\n",
            "341/341 [==============================] - 1s 2ms/step\n",
            "RFC, Fold Number:  2\n",
            "CNN, Fold number:  3\n",
            "341/341 [==============================] - 1s 1ms/step\n",
            "RFC, Fold Number:  3\n",
            "CNN, Fold number:  4\n",
            "341/341 [==============================] - 1s 1ms/step\n",
            "RFC, Fold Number:  4\n",
            "CNN, Fold number:  5\n",
            "341/341 [==============================] - 1s 1ms/step\n",
            "RFC, Fold Number:  5\n",
            "CNN, Fold number:  6\n",
            "341/341 [==============================] - 1s 1ms/step\n",
            "RFC, Fold Number:  6\n",
            "CNN, Fold number:  7\n",
            "341/341 [==============================] - 1s 1ms/step\n",
            "RFC, Fold Number:  7\n",
            "CNN, Fold number:  8\n",
            "341/341 [==============================] - 1s 2ms/step\n",
            "RFC, Fold Number:  8\n",
            "CNN, Fold number:  9\n",
            "341/341 [==============================] - 1s 2ms/step\n",
            "RFC, Fold Number:  9\n",
            "CNN, Fold number:  10\n",
            "341/341 [==============================] - 1s 1ms/step\n",
            "RFC, Fold Number:  10\n"
          ],
          "name": "stdout"
        }
      ]
    },
    {
      "cell_type": "code",
      "metadata": {
        "colab": {
          "base_uri": "https://localhost:8080/",
          "height": 301
        },
        "id": "eTcIPfN5lZUk",
        "outputId": "c2293bd5-9efd-4830-d8a4-19845e7d0128"
      },
      "source": [
        "plot_loss(train_loss_list, \"Imbalanced\")"
      ],
      "execution_count": null,
      "outputs": [
        {
          "output_type": "display_data",
          "data": {
            "image/png": "[encoded data removed]",
            "text/plain": [
              "<Figure size 432x288 with 1 Axes>"
            ]
          },
          "metadata": {
            "tags": []
          }
        }
      ]
    },
    {
      "cell_type": "code",
      "metadata": {
        "colab": {
          "base_uri": "https://localhost:8080/",
          "height": 1000
        },
        "id": "fTxNr8GiXxLQ",
        "outputId": "cabc9646-c5a2-438d-9d08-0efa1fd01804"
      },
      "source": [
        "tll_naive = cross_val(inputs, targets, naive_resample, None, 'naive')\n",
        "plot_loss(tll_naive, \"Naive Resampled\")"
      ],
      "execution_count": null,
      "outputs": [
        {
          "output_type": "stream",
          "text": [
            "[7265, 6530, 2289, 6417, 723, 884, 6322]\n",
            "num of vals 4347\n",
            "(4347, 257)\n",
            "(4347, 257)\n",
            "(4347, 257)\n",
            "(4347, 257)\n",
            "(4347, 257)\n",
            "(4347, 257)\n",
            "(4347, 257)\n",
            "(4347, 257)\n",
            "CNN, Fold number:  1\n",
            "341/341 [==============================] - 1s 1ms/step\n",
            "RFC, Fold Number:  1\n",
            "[7265, 6531, 2290, 6417, 722, 884, 6321]\n",
            "num of vals 4347\n",
            "(4347, 257)\n",
            "(4347, 257)\n",
            "(4347, 257)\n",
            "(4347, 257)\n",
            "(4347, 257)\n",
            "(4347, 257)\n",
            "(4347, 257)\n",
            "(4347, 257)\n",
            "CNN, Fold number:  2\n",
            "341/341 [==============================] - 1s 1ms/step\n",
            "RFC, Fold Number:  2\n",
            "[7265, 6531, 2290, 6417, 722, 884, 6321]\n",
            "num of vals 4347\n",
            "(4347, 257)\n",
            "(4347, 257)\n",
            "(4347, 257)\n",
            "(4347, 257)\n",
            "(4347, 257)\n",
            "(4347, 257)\n",
            "(4347, 257)\n",
            "(4347, 257)\n",
            "CNN, Fold number:  3\n",
            "341/341 [==============================] - 1s 1ms/step\n",
            "RFC, Fold Number:  3\n",
            "[7265, 6531, 2290, 6417, 722, 884, 6321]\n",
            "num of vals 4347\n",
            "(4347, 257)\n",
            "(4347, 257)\n",
            "(4347, 257)\n",
            "(4347, 257)\n",
            "(4347, 257)\n",
            "(4347, 257)\n",
            "(4347, 257)\n",
            "(4347, 257)\n",
            "CNN, Fold number:  4\n",
            "341/341 [==============================] - 1s 1ms/step\n",
            "RFC, Fold Number:  4\n",
            "[7264, 6531, 2290, 6417, 723, 884, 6321]\n",
            "num of vals 4347\n",
            "(4347, 257)\n",
            "(4347, 257)\n",
            "(4347, 257)\n",
            "(4347, 257)\n",
            "(4347, 257)\n",
            "(4347, 257)\n",
            "(4347, 257)\n",
            "(4347, 257)\n",
            "CNN, Fold number:  5\n",
            "341/341 [==============================] - 1s 1ms/step\n",
            "RFC, Fold Number:  5\n",
            "[7264, 6530, 2290, 6417, 723, 884, 6322]\n",
            "num of vals 4347\n",
            "(4347, 257)\n",
            "(4347, 257)\n",
            "(4347, 257)\n",
            "(4347, 257)\n",
            "(4347, 257)\n",
            "(4347, 257)\n",
            "(4347, 257)\n",
            "(4347, 257)\n",
            "CNN, Fold number:  6\n",
            "341/341 [==============================] - 1s 1ms/step\n",
            "RFC, Fold Number:  6\n",
            "[7265, 6530, 2290, 6417, 723, 883, 6322]\n",
            "num of vals 4347\n",
            "(4347, 257)\n",
            "(4347, 257)\n",
            "(4347, 257)\n",
            "(4347, 257)\n",
            "(4347, 257)\n",
            "(4347, 257)\n",
            "(4347, 257)\n",
            "(4347, 257)\n",
            "CNN, Fold number:  7\n",
            "341/341 [==============================] - 1s 1ms/step\n",
            "RFC, Fold Number:  7\n",
            "[7265, 6530, 2289, 6417, 723, 883, 6322]\n",
            "num of vals 4347\n",
            "(4347, 257)\n",
            "(4347, 257)\n",
            "(4347, 257)\n",
            "(4347, 257)\n",
            "(4347, 257)\n",
            "(4347, 257)\n",
            "(4347, 257)\n",
            "(4347, 257)\n",
            "CNN, Fold number:  8\n",
            "341/341 [==============================] - 1s 1ms/step\n",
            "RFC, Fold Number:  8\n",
            "[7265, 6530, 2289, 6417, 723, 884, 6322]\n",
            "num of vals 4347\n",
            "(4347, 257)\n",
            "(4347, 257)\n",
            "(4347, 257)\n",
            "(4347, 257)\n",
            "(4347, 257)\n",
            "(4347, 257)\n",
            "(4347, 257)\n",
            "(4347, 257)\n",
            "CNN, Fold number:  9\n",
            "341/341 [==============================] - 1s 1ms/step\n",
            "RFC, Fold Number:  9\n",
            "[7265, 6530, 2289, 6417, 723, 884, 6322]\n",
            "num of vals 4347\n",
            "(4347, 257)\n",
            "(4347, 257)\n",
            "(4347, 257)\n",
            "(4347, 257)\n",
            "(4347, 257)\n",
            "(4347, 257)\n",
            "(4347, 257)\n",
            "(4347, 257)\n",
            "CNN, Fold number:  10\n",
            "341/341 [==============================] - 1s 1ms/step\n",
            "RFC, Fold Number:  10\n"
          ],
          "name": "stdout"
        },
        {
          "output_type": "display_data",
          "data": {
            "image/png": "[encoded data removed]",
            "text/plain": [
              "<Figure size 432x288 with 1 Axes>"
            ]
          },
          "metadata": {
            "tags": []
          }
        }
      ]
    },
    {
      "cell_type": "code",
      "metadata": {
        "colab": {
          "base_uri": "https://localhost:8080/",
          "height": 1000
        },
        "id": "_U3cX0Z4Y5Ax",
        "outputId": "4b7bc668-b73d-4bec-9d5e-c6a87febf823"
      },
      "source": [
        "tll_smote = cross_val(inputs, targets, smote_rus, None, 'smote')\n",
        "plot_loss(tll_smote, \"SMOTE Resampled\")"
      ],
      "execution_count": null,
      "outputs": [
        {
          "output_type": "stream",
          "text": [
            "Counter({1.0: 67515, 2.0: 7265, 3.0: 6530, 5.0: 6417, 8.0: 6322, 4.0: 2289, 7.0: 884, 6.0: 723})\n",
            "imb max 7265\n",
            "67515\n"
          ],
          "name": "stdout"
        },
        {
          "output_type": "stream",
          "text": [
            "/usr/local/lib/python3.7/dist-packages/sklearn/utils/deprecation.py:87: FutureWarning: Function safe_indexing is deprecated; safe_indexing is deprecated in version 0.22 and will be removed in version 0.24.\n",
            "  warnings.warn(msg, category=FutureWarning)\n",
            "/usr/local/lib/python3.7/dist-packages/sklearn/utils/deprecation.py:87: FutureWarning: Function safe_indexing is deprecated; safe_indexing is deprecated in version 0.22 and will be removed in version 0.24.\n",
            "  warnings.warn(msg, category=FutureWarning)\n",
            "/usr/local/lib/python3.7/dist-packages/sklearn/utils/deprecation.py:87: FutureWarning: Function safe_indexing is deprecated; safe_indexing is deprecated in version 0.22 and will be removed in version 0.24.\n",
            "  warnings.warn(msg, category=FutureWarning)\n",
            "/usr/local/lib/python3.7/dist-packages/sklearn/utils/deprecation.py:87: FutureWarning: Function safe_indexing is deprecated; safe_indexing is deprecated in version 0.22 and will be removed in version 0.24.\n",
            "  warnings.warn(msg, category=FutureWarning)\n",
            "/usr/local/lib/python3.7/dist-packages/sklearn/utils/deprecation.py:87: FutureWarning: Function safe_indexing is deprecated; safe_indexing is deprecated in version 0.22 and will be removed in version 0.24.\n",
            "  warnings.warn(msg, category=FutureWarning)\n",
            "/usr/local/lib/python3.7/dist-packages/sklearn/utils/deprecation.py:87: FutureWarning: Function safe_indexing is deprecated; safe_indexing is deprecated in version 0.22 and will be removed in version 0.24.\n",
            "  warnings.warn(msg, category=FutureWarning)\n"
          ],
          "name": "stderr"
        },
        {
          "output_type": "stream",
          "text": [
            "Counter({1.0: 67515, 4.0: 7265, 8.0: 7265, 3.0: 7265, 5.0: 7265, 2.0: 7265, 6.0: 7265, 7.0: 7265})\n",
            "Counter({1.0: 7265, 2.0: 7265, 3.0: 7265, 4.0: 7265, 5.0: 7265, 6.0: 7265, 7.0: 7265, 8.0: 7265})\n"
          ],
          "name": "stdout"
        },
        {
          "output_type": "stream",
          "text": [
            "/usr/local/lib/python3.7/dist-packages/sklearn/utils/deprecation.py:87: FutureWarning: Function safe_indexing is deprecated; safe_indexing is deprecated in version 0.22 and will be removed in version 0.24.\n",
            "  warnings.warn(msg, category=FutureWarning)\n"
          ],
          "name": "stderr"
        },
        {
          "output_type": "stream",
          "text": [
            "CNN, Fold number:  1\n",
            "341/341 [==============================] - 1s 1ms/step\n",
            "RFC, Fold Number:  1\n"
          ],
          "name": "stdout"
        },
        {
          "output_type": "stream",
          "text": [
            "/usr/local/lib/python3.7/dist-packages/sklearn/metrics/_classification.py:1272: UndefinedMetricWarning: Precision is ill-defined and being set to 0.0 in labels with no predicted samples. Use `zero_division` parameter to control this behavior.\n",
            "  _warn_prf(average, modifier, msg_start, len(result))\n"
          ],
          "name": "stderr"
        },
        {
          "output_type": "stream",
          "text": [
            "Counter({1.0: 67515, 2.0: 7265, 3.0: 6531, 5.0: 6417, 8.0: 6321, 4.0: 2290, 7.0: 884, 6.0: 722})\n",
            "imb max 7265\n",
            "67515\n"
          ],
          "name": "stdout"
        },
        {
          "output_type": "stream",
          "text": [
            "/usr/local/lib/python3.7/dist-packages/sklearn/utils/deprecation.py:87: FutureWarning: Function safe_indexing is deprecated; safe_indexing is deprecated in version 0.22 and will be removed in version 0.24.\n",
            "  warnings.warn(msg, category=FutureWarning)\n",
            "/usr/local/lib/python3.7/dist-packages/sklearn/utils/deprecation.py:87: FutureWarning: Function safe_indexing is deprecated; safe_indexing is deprecated in version 0.22 and will be removed in version 0.24.\n",
            "  warnings.warn(msg, category=FutureWarning)\n",
            "/usr/local/lib/python3.7/dist-packages/sklearn/utils/deprecation.py:87: FutureWarning: Function safe_indexing is deprecated; safe_indexing is deprecated in version 0.22 and will be removed in version 0.24.\n",
            "  warnings.warn(msg, category=FutureWarning)\n",
            "/usr/local/lib/python3.7/dist-packages/sklearn/utils/deprecation.py:87: FutureWarning: Function safe_indexing is deprecated; safe_indexing is deprecated in version 0.22 and will be removed in version 0.24.\n",
            "  warnings.warn(msg, category=FutureWarning)\n",
            "/usr/local/lib/python3.7/dist-packages/sklearn/utils/deprecation.py:87: FutureWarning: Function safe_indexing is deprecated; safe_indexing is deprecated in version 0.22 and will be removed in version 0.24.\n",
            "  warnings.warn(msg, category=FutureWarning)\n",
            "/usr/local/lib/python3.7/dist-packages/sklearn/utils/deprecation.py:87: FutureWarning: Function safe_indexing is deprecated; safe_indexing is deprecated in version 0.22 and will be removed in version 0.24.\n",
            "  warnings.warn(msg, category=FutureWarning)\n"
          ],
          "name": "stderr"
        },
        {
          "output_type": "stream",
          "text": [
            "Counter({1.0: 67515, 4.0: 7265, 8.0: 7265, 3.0: 7265, 5.0: 7265, 6.0: 7265, 2.0: 7265, 7.0: 7265})\n",
            "Counter({1.0: 7265, 2.0: 7265, 3.0: 7265, 4.0: 7265, 5.0: 7265, 6.0: 7265, 7.0: 7265, 8.0: 7265})\n"
          ],
          "name": "stdout"
        },
        {
          "output_type": "stream",
          "text": [
            "/usr/local/lib/python3.7/dist-packages/sklearn/utils/deprecation.py:87: FutureWarning: Function safe_indexing is deprecated; safe_indexing is deprecated in version 0.22 and will be removed in version 0.24.\n",
            "  warnings.warn(msg, category=FutureWarning)\n"
          ],
          "name": "stderr"
        },
        {
          "output_type": "stream",
          "text": [
            "CNN, Fold number:  2\n",
            "341/341 [==============================] - 1s 1ms/step\n",
            "RFC, Fold Number:  2\n"
          ],
          "name": "stdout"
        },
        {
          "output_type": "stream",
          "text": [
            "/usr/local/lib/python3.7/dist-packages/sklearn/metrics/_classification.py:1272: UndefinedMetricWarning: Precision is ill-defined and being set to 0.0 in labels with no predicted samples. Use `zero_division` parameter to control this behavior.\n",
            "  _warn_prf(average, modifier, msg_start, len(result))\n"
          ],
          "name": "stderr"
        },
        {
          "output_type": "stream",
          "text": [
            "Counter({1.0: 67515, 2.0: 7265, 3.0: 6531, 5.0: 6417, 8.0: 6321, 4.0: 2290, 7.0: 884, 6.0: 722})\n",
            "imb max 7265\n",
            "67515\n"
          ],
          "name": "stdout"
        },
        {
          "output_type": "stream",
          "text": [
            "/usr/local/lib/python3.7/dist-packages/sklearn/utils/deprecation.py:87: FutureWarning: Function safe_indexing is deprecated; safe_indexing is deprecated in version 0.22 and will be removed in version 0.24.\n",
            "  warnings.warn(msg, category=FutureWarning)\n",
            "/usr/local/lib/python3.7/dist-packages/sklearn/utils/deprecation.py:87: FutureWarning: Function safe_indexing is deprecated; safe_indexing is deprecated in version 0.22 and will be removed in version 0.24.\n",
            "  warnings.warn(msg, category=FutureWarning)\n",
            "/usr/local/lib/python3.7/dist-packages/sklearn/utils/deprecation.py:87: FutureWarning: Function safe_indexing is deprecated; safe_indexing is deprecated in version 0.22 and will be removed in version 0.24.\n",
            "  warnings.warn(msg, category=FutureWarning)\n",
            "/usr/local/lib/python3.7/dist-packages/sklearn/utils/deprecation.py:87: FutureWarning: Function safe_indexing is deprecated; safe_indexing is deprecated in version 0.22 and will be removed in version 0.24.\n",
            "  warnings.warn(msg, category=FutureWarning)\n",
            "/usr/local/lib/python3.7/dist-packages/sklearn/utils/deprecation.py:87: FutureWarning: Function safe_indexing is deprecated; safe_indexing is deprecated in version 0.22 and will be removed in version 0.24.\n",
            "  warnings.warn(msg, category=FutureWarning)\n",
            "/usr/local/lib/python3.7/dist-packages/sklearn/utils/deprecation.py:87: FutureWarning: Function safe_indexing is deprecated; safe_indexing is deprecated in version 0.22 and will be removed in version 0.24.\n",
            "  warnings.warn(msg, category=FutureWarning)\n"
          ],
          "name": "stderr"
        },
        {
          "output_type": "stream",
          "text": [
            "Counter({1.0: 67515, 4.0: 7265, 3.0: 7265, 5.0: 7265, 6.0: 7265, 8.0: 7265, 2.0: 7265, 7.0: 7265})\n",
            "Counter({1.0: 7265, 2.0: 7265, 3.0: 7265, 4.0: 7265, 5.0: 7265, 6.0: 7265, 7.0: 7265, 8.0: 7265})\n"
          ],
          "name": "stdout"
        },
        {
          "output_type": "stream",
          "text": [
            "/usr/local/lib/python3.7/dist-packages/sklearn/utils/deprecation.py:87: FutureWarning: Function safe_indexing is deprecated; safe_indexing is deprecated in version 0.22 and will be removed in version 0.24.\n",
            "  warnings.warn(msg, category=FutureWarning)\n"
          ],
          "name": "stderr"
        },
        {
          "output_type": "stream",
          "text": [
            "CNN, Fold number:  3\n",
            "341/341 [==============================] - 1s 1ms/step\n",
            "RFC, Fold Number:  3\n"
          ],
          "name": "stdout"
        },
        {
          "output_type": "stream",
          "text": [
            "/usr/local/lib/python3.7/dist-packages/sklearn/metrics/_classification.py:1272: UndefinedMetricWarning: Precision is ill-defined and being set to 0.0 in labels with no predicted samples. Use `zero_division` parameter to control this behavior.\n",
            "  _warn_prf(average, modifier, msg_start, len(result))\n"
          ],
          "name": "stderr"
        },
        {
          "output_type": "stream",
          "text": [
            "Counter({1.0: 67515, 2.0: 7265, 3.0: 6531, 5.0: 6417, 8.0: 6321, 4.0: 2290, 7.0: 884, 6.0: 722})\n",
            "imb max 7265\n",
            "67515\n"
          ],
          "name": "stdout"
        },
        {
          "output_type": "stream",
          "text": [
            "/usr/local/lib/python3.7/dist-packages/sklearn/utils/deprecation.py:87: FutureWarning: Function safe_indexing is deprecated; safe_indexing is deprecated in version 0.22 and will be removed in version 0.24.\n",
            "  warnings.warn(msg, category=FutureWarning)\n",
            "/usr/local/lib/python3.7/dist-packages/sklearn/utils/deprecation.py:87: FutureWarning: Function safe_indexing is deprecated; safe_indexing is deprecated in version 0.22 and will be removed in version 0.24.\n",
            "  warnings.warn(msg, category=FutureWarning)\n",
            "/usr/local/lib/python3.7/dist-packages/sklearn/utils/deprecation.py:87: FutureWarning: Function safe_indexing is deprecated; safe_indexing is deprecated in version 0.22 and will be removed in version 0.24.\n",
            "  warnings.warn(msg, category=FutureWarning)\n",
            "/usr/local/lib/python3.7/dist-packages/sklearn/utils/deprecation.py:87: FutureWarning: Function safe_indexing is deprecated; safe_indexing is deprecated in version 0.22 and will be removed in version 0.24.\n",
            "  warnings.warn(msg, category=FutureWarning)\n",
            "/usr/local/lib/python3.7/dist-packages/sklearn/utils/deprecation.py:87: FutureWarning: Function safe_indexing is deprecated; safe_indexing is deprecated in version 0.22 and will be removed in version 0.24.\n",
            "  warnings.warn(msg, category=FutureWarning)\n",
            "/usr/local/lib/python3.7/dist-packages/sklearn/utils/deprecation.py:87: FutureWarning: Function safe_indexing is deprecated; safe_indexing is deprecated in version 0.22 and will be removed in version 0.24.\n",
            "  warnings.warn(msg, category=FutureWarning)\n"
          ],
          "name": "stderr"
        },
        {
          "output_type": "stream",
          "text": [
            "Counter({1.0: 67515, 4.0: 7265, 8.0: 7265, 3.0: 7265, 5.0: 7265, 6.0: 7265, 2.0: 7265, 7.0: 7265})\n",
            "Counter({1.0: 7265, 2.0: 7265, 3.0: 7265, 4.0: 7265, 5.0: 7265, 6.0: 7265, 7.0: 7265, 8.0: 7265})\n",
            "CNN, Fold number:  4\n"
          ],
          "name": "stdout"
        },
        {
          "output_type": "stream",
          "text": [
            "/usr/local/lib/python3.7/dist-packages/sklearn/utils/deprecation.py:87: FutureWarning: Function safe_indexing is deprecated; safe_indexing is deprecated in version 0.22 and will be removed in version 0.24.\n",
            "  warnings.warn(msg, category=FutureWarning)\n"
          ],
          "name": "stderr"
        },
        {
          "output_type": "stream",
          "text": [
            "341/341 [==============================] - 1s 1ms/step\n",
            "RFC, Fold Number:  4\n"
          ],
          "name": "stdout"
        },
        {
          "output_type": "stream",
          "text": [
            "/usr/local/lib/python3.7/dist-packages/sklearn/metrics/_classification.py:1272: UndefinedMetricWarning: Precision is ill-defined and being set to 0.0 in labels with no predicted samples. Use `zero_division` parameter to control this behavior.\n",
            "  _warn_prf(average, modifier, msg_start, len(result))\n"
          ],
          "name": "stderr"
        },
        {
          "output_type": "stream",
          "text": [
            "Counter({1.0: 67515, 2.0: 7264, 3.0: 6531, 5.0: 6417, 8.0: 6321, 4.0: 2290, 7.0: 884, 6.0: 723})\n",
            "imb max 7264\n",
            "67515\n"
          ],
          "name": "stdout"
        },
        {
          "output_type": "stream",
          "text": [
            "/usr/local/lib/python3.7/dist-packages/sklearn/utils/deprecation.py:87: FutureWarning: Function safe_indexing is deprecated; safe_indexing is deprecated in version 0.22 and will be removed in version 0.24.\n",
            "  warnings.warn(msg, category=FutureWarning)\n",
            "/usr/local/lib/python3.7/dist-packages/sklearn/utils/deprecation.py:87: FutureWarning: Function safe_indexing is deprecated; safe_indexing is deprecated in version 0.22 and will be removed in version 0.24.\n",
            "  warnings.warn(msg, category=FutureWarning)\n",
            "/usr/local/lib/python3.7/dist-packages/sklearn/utils/deprecation.py:87: FutureWarning: Function safe_indexing is deprecated; safe_indexing is deprecated in version 0.22 and will be removed in version 0.24.\n",
            "  warnings.warn(msg, category=FutureWarning)\n",
            "/usr/local/lib/python3.7/dist-packages/sklearn/utils/deprecation.py:87: FutureWarning: Function safe_indexing is deprecated; safe_indexing is deprecated in version 0.22 and will be removed in version 0.24.\n",
            "  warnings.warn(msg, category=FutureWarning)\n",
            "/usr/local/lib/python3.7/dist-packages/sklearn/utils/deprecation.py:87: FutureWarning: Function safe_indexing is deprecated; safe_indexing is deprecated in version 0.22 and will be removed in version 0.24.\n",
            "  warnings.warn(msg, category=FutureWarning)\n",
            "/usr/local/lib/python3.7/dist-packages/sklearn/utils/deprecation.py:87: FutureWarning: Function safe_indexing is deprecated; safe_indexing is deprecated in version 0.22 and will be removed in version 0.24.\n",
            "  warnings.warn(msg, category=FutureWarning)\n"
          ],
          "name": "stderr"
        },
        {
          "output_type": "stream",
          "text": [
            "Counter({1.0: 67515, 4.0: 7264, 8.0: 7264, 3.0: 7264, 5.0: 7264, 6.0: 7264, 2.0: 7264, 7.0: 7264})\n",
            "Counter({1.0: 7264, 2.0: 7264, 3.0: 7264, 4.0: 7264, 5.0: 7264, 6.0: 7264, 7.0: 7264, 8.0: 7264})\n"
          ],
          "name": "stdout"
        },
        {
          "output_type": "stream",
          "text": [
            "/usr/local/lib/python3.7/dist-packages/sklearn/utils/deprecation.py:87: FutureWarning: Function safe_indexing is deprecated; safe_indexing is deprecated in version 0.22 and will be removed in version 0.24.\n",
            "  warnings.warn(msg, category=FutureWarning)\n"
          ],
          "name": "stderr"
        },
        {
          "output_type": "stream",
          "text": [
            "CNN, Fold number:  5\n",
            "341/341 [==============================] - 1s 1ms/step\n",
            "RFC, Fold Number:  5\n"
          ],
          "name": "stdout"
        },
        {
          "output_type": "stream",
          "text": [
            "/usr/local/lib/python3.7/dist-packages/sklearn/metrics/_classification.py:1272: UndefinedMetricWarning: Precision is ill-defined and being set to 0.0 in labels with no predicted samples. Use `zero_division` parameter to control this behavior.\n",
            "  _warn_prf(average, modifier, msg_start, len(result))\n"
          ],
          "name": "stderr"
        },
        {
          "output_type": "stream",
          "text": [
            "Counter({1.0: 67515, 2.0: 7264, 3.0: 6530, 5.0: 6417, 8.0: 6322, 4.0: 2290, 7.0: 884, 6.0: 723})\n",
            "imb max 7264\n",
            "67515\n"
          ],
          "name": "stdout"
        },
        {
          "output_type": "stream",
          "text": [
            "/usr/local/lib/python3.7/dist-packages/sklearn/utils/deprecation.py:87: FutureWarning: Function safe_indexing is deprecated; safe_indexing is deprecated in version 0.22 and will be removed in version 0.24.\n",
            "  warnings.warn(msg, category=FutureWarning)\n",
            "/usr/local/lib/python3.7/dist-packages/sklearn/utils/deprecation.py:87: FutureWarning: Function safe_indexing is deprecated; safe_indexing is deprecated in version 0.22 and will be removed in version 0.24.\n",
            "  warnings.warn(msg, category=FutureWarning)\n",
            "/usr/local/lib/python3.7/dist-packages/sklearn/utils/deprecation.py:87: FutureWarning: Function safe_indexing is deprecated; safe_indexing is deprecated in version 0.22 and will be removed in version 0.24.\n",
            "  warnings.warn(msg, category=FutureWarning)\n",
            "/usr/local/lib/python3.7/dist-packages/sklearn/utils/deprecation.py:87: FutureWarning: Function safe_indexing is deprecated; safe_indexing is deprecated in version 0.22 and will be removed in version 0.24.\n",
            "  warnings.warn(msg, category=FutureWarning)\n",
            "/usr/local/lib/python3.7/dist-packages/sklearn/utils/deprecation.py:87: FutureWarning: Function safe_indexing is deprecated; safe_indexing is deprecated in version 0.22 and will be removed in version 0.24.\n",
            "  warnings.warn(msg, category=FutureWarning)\n",
            "/usr/local/lib/python3.7/dist-packages/sklearn/utils/deprecation.py:87: FutureWarning: Function safe_indexing is deprecated; safe_indexing is deprecated in version 0.22 and will be removed in version 0.24.\n",
            "  warnings.warn(msg, category=FutureWarning)\n"
          ],
          "name": "stderr"
        },
        {
          "output_type": "stream",
          "text": [
            "Counter({1.0: 67515, 4.0: 7264, 8.0: 7264, 3.0: 7264, 5.0: 7264, 6.0: 7264, 2.0: 7264, 7.0: 7264})\n",
            "Counter({1.0: 7264, 2.0: 7264, 3.0: 7264, 4.0: 7264, 5.0: 7264, 6.0: 7264, 7.0: 7264, 8.0: 7264})\n"
          ],
          "name": "stdout"
        },
        {
          "output_type": "stream",
          "text": [
            "/usr/local/lib/python3.7/dist-packages/sklearn/utils/deprecation.py:87: FutureWarning: Function safe_indexing is deprecated; safe_indexing is deprecated in version 0.22 and will be removed in version 0.24.\n",
            "  warnings.warn(msg, category=FutureWarning)\n"
          ],
          "name": "stderr"
        },
        {
          "output_type": "stream",
          "text": [
            "CNN, Fold number:  6\n",
            "341/341 [==============================] - 1s 1ms/step\n",
            "RFC, Fold Number:  6\n"
          ],
          "name": "stdout"
        },
        {
          "output_type": "stream",
          "text": [
            "/usr/local/lib/python3.7/dist-packages/sklearn/metrics/_classification.py:1272: UndefinedMetricWarning: Precision is ill-defined and being set to 0.0 in labels with no predicted samples. Use `zero_division` parameter to control this behavior.\n",
            "  _warn_prf(average, modifier, msg_start, len(result))\n"
          ],
          "name": "stderr"
        },
        {
          "output_type": "stream",
          "text": [
            "Counter({1.0: 67515, 2.0: 7265, 3.0: 6530, 5.0: 6417, 8.0: 6322, 4.0: 2290, 7.0: 883, 6.0: 723})\n",
            "imb max 7265\n",
            "67515\n"
          ],
          "name": "stdout"
        },
        {
          "output_type": "stream",
          "text": [
            "/usr/local/lib/python3.7/dist-packages/sklearn/utils/deprecation.py:87: FutureWarning: Function safe_indexing is deprecated; safe_indexing is deprecated in version 0.22 and will be removed in version 0.24.\n",
            "  warnings.warn(msg, category=FutureWarning)\n",
            "/usr/local/lib/python3.7/dist-packages/sklearn/utils/deprecation.py:87: FutureWarning: Function safe_indexing is deprecated; safe_indexing is deprecated in version 0.22 and will be removed in version 0.24.\n",
            "  warnings.warn(msg, category=FutureWarning)\n",
            "/usr/local/lib/python3.7/dist-packages/sklearn/utils/deprecation.py:87: FutureWarning: Function safe_indexing is deprecated; safe_indexing is deprecated in version 0.22 and will be removed in version 0.24.\n",
            "  warnings.warn(msg, category=FutureWarning)\n",
            "/usr/local/lib/python3.7/dist-packages/sklearn/utils/deprecation.py:87: FutureWarning: Function safe_indexing is deprecated; safe_indexing is deprecated in version 0.22 and will be removed in version 0.24.\n",
            "  warnings.warn(msg, category=FutureWarning)\n",
            "/usr/local/lib/python3.7/dist-packages/sklearn/utils/deprecation.py:87: FutureWarning: Function safe_indexing is deprecated; safe_indexing is deprecated in version 0.22 and will be removed in version 0.24.\n",
            "  warnings.warn(msg, category=FutureWarning)\n",
            "/usr/local/lib/python3.7/dist-packages/sklearn/utils/deprecation.py:87: FutureWarning: Function safe_indexing is deprecated; safe_indexing is deprecated in version 0.22 and will be removed in version 0.24.\n",
            "  warnings.warn(msg, category=FutureWarning)\n"
          ],
          "name": "stderr"
        },
        {
          "output_type": "stream",
          "text": [
            "Counter({1.0: 67515, 4.0: 7265, 8.0: 7265, 3.0: 7265, 5.0: 7265, 6.0: 7265, 2.0: 7265, 7.0: 7265})\n",
            "Counter({1.0: 7265, 2.0: 7265, 3.0: 7265, 4.0: 7265, 5.0: 7265, 6.0: 7265, 7.0: 7265, 8.0: 7265})\n"
          ],
          "name": "stdout"
        },
        {
          "output_type": "stream",
          "text": [
            "/usr/local/lib/python3.7/dist-packages/sklearn/utils/deprecation.py:87: FutureWarning: Function safe_indexing is deprecated; safe_indexing is deprecated in version 0.22 and will be removed in version 0.24.\n",
            "  warnings.warn(msg, category=FutureWarning)\n"
          ],
          "name": "stderr"
        },
        {
          "output_type": "stream",
          "text": [
            "CNN, Fold number:  7\n",
            "341/341 [==============================] - 1s 2ms/step\n",
            "RFC, Fold Number:  7\n"
          ],
          "name": "stdout"
        },
        {
          "output_type": "stream",
          "text": [
            "/usr/local/lib/python3.7/dist-packages/sklearn/metrics/_classification.py:1272: UndefinedMetricWarning: Precision is ill-defined and being set to 0.0 in labels with no predicted samples. Use `zero_division` parameter to control this behavior.\n",
            "  _warn_prf(average, modifier, msg_start, len(result))\n"
          ],
          "name": "stderr"
        },
        {
          "output_type": "stream",
          "text": [
            "Counter({1.0: 67516, 2.0: 7265, 3.0: 6530, 5.0: 6417, 8.0: 6322, 4.0: 2289, 7.0: 883, 6.0: 723})\n",
            "imb max 7265\n",
            "67516\n"
          ],
          "name": "stdout"
        },
        {
          "output_type": "stream",
          "text": [
            "/usr/local/lib/python3.7/dist-packages/sklearn/utils/deprecation.py:87: FutureWarning: Function safe_indexing is deprecated; safe_indexing is deprecated in version 0.22 and will be removed in version 0.24.\n",
            "  warnings.warn(msg, category=FutureWarning)\n",
            "/usr/local/lib/python3.7/dist-packages/sklearn/utils/deprecation.py:87: FutureWarning: Function safe_indexing is deprecated; safe_indexing is deprecated in version 0.22 and will be removed in version 0.24.\n",
            "  warnings.warn(msg, category=FutureWarning)\n",
            "/usr/local/lib/python3.7/dist-packages/sklearn/utils/deprecation.py:87: FutureWarning: Function safe_indexing is deprecated; safe_indexing is deprecated in version 0.22 and will be removed in version 0.24.\n",
            "  warnings.warn(msg, category=FutureWarning)\n",
            "/usr/local/lib/python3.7/dist-packages/sklearn/utils/deprecation.py:87: FutureWarning: Function safe_indexing is deprecated; safe_indexing is deprecated in version 0.22 and will be removed in version 0.24.\n",
            "  warnings.warn(msg, category=FutureWarning)\n",
            "/usr/local/lib/python3.7/dist-packages/sklearn/utils/deprecation.py:87: FutureWarning: Function safe_indexing is deprecated; safe_indexing is deprecated in version 0.22 and will be removed in version 0.24.\n",
            "  warnings.warn(msg, category=FutureWarning)\n",
            "/usr/local/lib/python3.7/dist-packages/sklearn/utils/deprecation.py:87: FutureWarning: Function safe_indexing is deprecated; safe_indexing is deprecated in version 0.22 and will be removed in version 0.24.\n",
            "  warnings.warn(msg, category=FutureWarning)\n"
          ],
          "name": "stderr"
        },
        {
          "output_type": "stream",
          "text": [
            "Counter({1.0: 67516, 4.0: 7265, 8.0: 7265, 3.0: 7265, 5.0: 7265, 6.0: 7265, 2.0: 7265, 7.0: 7265})\n",
            "Counter({1.0: 7265, 2.0: 7265, 3.0: 7265, 4.0: 7265, 5.0: 7265, 6.0: 7265, 7.0: 7265, 8.0: 7265})\n"
          ],
          "name": "stdout"
        },
        {
          "output_type": "stream",
          "text": [
            "/usr/local/lib/python3.7/dist-packages/sklearn/utils/deprecation.py:87: FutureWarning: Function safe_indexing is deprecated; safe_indexing is deprecated in version 0.22 and will be removed in version 0.24.\n",
            "  warnings.warn(msg, category=FutureWarning)\n"
          ],
          "name": "stderr"
        },
        {
          "output_type": "stream",
          "text": [
            "CNN, Fold number:  8\n",
            "341/341 [==============================] - 1s 1ms/step\n",
            "RFC, Fold Number:  8\n"
          ],
          "name": "stdout"
        },
        {
          "output_type": "stream",
          "text": [
            "/usr/local/lib/python3.7/dist-packages/sklearn/metrics/_classification.py:1272: UndefinedMetricWarning: Precision is ill-defined and being set to 0.0 in labels with no predicted samples. Use `zero_division` parameter to control this behavior.\n",
            "  _warn_prf(average, modifier, msg_start, len(result))\n"
          ],
          "name": "stderr"
        },
        {
          "output_type": "stream",
          "text": [
            "Counter({1.0: 67516, 2.0: 7265, 3.0: 6530, 5.0: 6417, 8.0: 6322, 4.0: 2289, 7.0: 884, 6.0: 723})\n",
            "imb max 7265\n",
            "67516\n"
          ],
          "name": "stdout"
        },
        {
          "output_type": "stream",
          "text": [
            "/usr/local/lib/python3.7/dist-packages/sklearn/utils/deprecation.py:87: FutureWarning: Function safe_indexing is deprecated; safe_indexing is deprecated in version 0.22 and will be removed in version 0.24.\n",
            "  warnings.warn(msg, category=FutureWarning)\n",
            "/usr/local/lib/python3.7/dist-packages/sklearn/utils/deprecation.py:87: FutureWarning: Function safe_indexing is deprecated; safe_indexing is deprecated in version 0.22 and will be removed in version 0.24.\n",
            "  warnings.warn(msg, category=FutureWarning)\n",
            "/usr/local/lib/python3.7/dist-packages/sklearn/utils/deprecation.py:87: FutureWarning: Function safe_indexing is deprecated; safe_indexing is deprecated in version 0.22 and will be removed in version 0.24.\n",
            "  warnings.warn(msg, category=FutureWarning)\n",
            "/usr/local/lib/python3.7/dist-packages/sklearn/utils/deprecation.py:87: FutureWarning: Function safe_indexing is deprecated; safe_indexing is deprecated in version 0.22 and will be removed in version 0.24.\n",
            "  warnings.warn(msg, category=FutureWarning)\n",
            "/usr/local/lib/python3.7/dist-packages/sklearn/utils/deprecation.py:87: FutureWarning: Function safe_indexing is deprecated; safe_indexing is deprecated in version 0.22 and will be removed in version 0.24.\n",
            "  warnings.warn(msg, category=FutureWarning)\n",
            "/usr/local/lib/python3.7/dist-packages/sklearn/utils/deprecation.py:87: FutureWarning: Function safe_indexing is deprecated; safe_indexing is deprecated in version 0.22 and will be removed in version 0.24.\n",
            "  warnings.warn(msg, category=FutureWarning)\n"
          ],
          "name": "stderr"
        },
        {
          "output_type": "stream",
          "text": [
            "Counter({1.0: 67516, 4.0: 7265, 8.0: 7265, 3.0: 7265, 5.0: 7265, 6.0: 7265, 2.0: 7265, 7.0: 7265})\n",
            "Counter({1.0: 7265, 2.0: 7265, 3.0: 7265, 4.0: 7265, 5.0: 7265, 6.0: 7265, 7.0: 7265, 8.0: 7265})\n",
            "CNN, Fold number:  9\n"
          ],
          "name": "stdout"
        },
        {
          "output_type": "stream",
          "text": [
            "/usr/local/lib/python3.7/dist-packages/sklearn/utils/deprecation.py:87: FutureWarning: Function safe_indexing is deprecated; safe_indexing is deprecated in version 0.22 and will be removed in version 0.24.\n",
            "  warnings.warn(msg, category=FutureWarning)\n"
          ],
          "name": "stderr"
        },
        {
          "output_type": "stream",
          "text": [
            "341/341 [==============================] - 1s 1ms/step\n",
            "RFC, Fold Number:  9\n"
          ],
          "name": "stdout"
        },
        {
          "output_type": "stream",
          "text": [
            "/usr/local/lib/python3.7/dist-packages/sklearn/metrics/_classification.py:1272: UndefinedMetricWarning: Precision is ill-defined and being set to 0.0 in labels with no predicted samples. Use `zero_division` parameter to control this behavior.\n",
            "  _warn_prf(average, modifier, msg_start, len(result))\n"
          ],
          "name": "stderr"
        },
        {
          "output_type": "stream",
          "text": [
            "Counter({1.0: 67516, 2.0: 7265, 3.0: 6530, 5.0: 6417, 8.0: 6322, 4.0: 2289, 7.0: 884, 6.0: 723})\n",
            "imb max 7265\n",
            "67516\n"
          ],
          "name": "stdout"
        },
        {
          "output_type": "stream",
          "text": [
            "/usr/local/lib/python3.7/dist-packages/sklearn/utils/deprecation.py:87: FutureWarning: Function safe_indexing is deprecated; safe_indexing is deprecated in version 0.22 and will be removed in version 0.24.\n",
            "  warnings.warn(msg, category=FutureWarning)\n",
            "/usr/local/lib/python3.7/dist-packages/sklearn/utils/deprecation.py:87: FutureWarning: Function safe_indexing is deprecated; safe_indexing is deprecated in version 0.22 and will be removed in version 0.24.\n",
            "  warnings.warn(msg, category=FutureWarning)\n",
            "/usr/local/lib/python3.7/dist-packages/sklearn/utils/deprecation.py:87: FutureWarning: Function safe_indexing is deprecated; safe_indexing is deprecated in version 0.22 and will be removed in version 0.24.\n",
            "  warnings.warn(msg, category=FutureWarning)\n",
            "/usr/local/lib/python3.7/dist-packages/sklearn/utils/deprecation.py:87: FutureWarning: Function safe_indexing is deprecated; safe_indexing is deprecated in version 0.22 and will be removed in version 0.24.\n",
            "  warnings.warn(msg, category=FutureWarning)\n",
            "/usr/local/lib/python3.7/dist-packages/sklearn/utils/deprecation.py:87: FutureWarning: Function safe_indexing is deprecated; safe_indexing is deprecated in version 0.22 and will be removed in version 0.24.\n",
            "  warnings.warn(msg, category=FutureWarning)\n",
            "/usr/local/lib/python3.7/dist-packages/sklearn/utils/deprecation.py:87: FutureWarning: Function safe_indexing is deprecated; safe_indexing is deprecated in version 0.22 and will be removed in version 0.24.\n",
            "  warnings.warn(msg, category=FutureWarning)\n"
          ],
          "name": "stderr"
        },
        {
          "output_type": "stream",
          "text": [
            "Counter({1.0: 67516, 8.0: 7265, 3.0: 7265, 4.0: 7265, 6.0: 7265, 5.0: 7265, 2.0: 7265, 7.0: 7265})\n",
            "Counter({1.0: 7265, 2.0: 7265, 3.0: 7265, 4.0: 7265, 5.0: 7265, 6.0: 7265, 7.0: 7265, 8.0: 7265})\n"
          ],
          "name": "stdout"
        },
        {
          "output_type": "stream",
          "text": [
            "/usr/local/lib/python3.7/dist-packages/sklearn/utils/deprecation.py:87: FutureWarning: Function safe_indexing is deprecated; safe_indexing is deprecated in version 0.22 and will be removed in version 0.24.\n",
            "  warnings.warn(msg, category=FutureWarning)\n"
          ],
          "name": "stderr"
        },
        {
          "output_type": "stream",
          "text": [
            "CNN, Fold number:  10\n",
            "341/341 [==============================] - 1s 2ms/step\n",
            "RFC, Fold Number:  10\n"
          ],
          "name": "stdout"
        },
        {
          "output_type": "stream",
          "text": [
            "/usr/local/lib/python3.7/dist-packages/sklearn/metrics/_classification.py:1272: UndefinedMetricWarning: Precision is ill-defined and being set to 0.0 in labels with no predicted samples. Use `zero_division` parameter to control this behavior.\n",
            "  _warn_prf(average, modifier, msg_start, len(result))\n"
          ],
          "name": "stderr"
        },
        {
          "output_type": "display_data",
          "data": {
            "image/png": "[encoded data removed]",
            "text/plain": [
              "<Figure size 432x288 with 1 Axes>"
            ]
          },
          "metadata": {
            "tags": []
          }
        }
      ]
    },
    {
      "cell_type": "code",
      "metadata": {
        "colab": {
          "base_uri": "https://localhost:8080/",
          "height": 1000
        },
        "id": "TTuf6WhwaFtq",
        "outputId": "b9408fa8-33c9-4db1-b070-ab751bc29559"
      },
      "source": [
        "tll_conv_vae = cross_val(inputs, targets, resample_vae, cnn_synth, 'mixed/cnn_synth')\n",
        "plot_loss(tll_conv_vae, \"Conv VAE Resampled\")"
      ],
      "execution_count": null,
      "outputs": [
        {
          "output_type": "stream",
          "text": [
            "[7265, 6530, 2289, 6417, 723, 884, 6322]\n",
            "67515\n",
            "num of vals 4347\n",
            "8\n",
            "(5952, 257)\n",
            "<generator object resample_vae.<locals>.<genexpr> at 0x7fe0a5f7e450>\n",
            "(34776, 257)\n",
            "CNN, Fold number:  1\n",
            "341/341 [==============================] - 1s 1ms/step\n",
            "RFC, Fold Number:  1\n",
            "[7265, 6531, 2290, 6417, 722, 884, 6321]\n",
            "67515\n",
            "num of vals 4347\n",
            "8\n",
            "(5952, 257)\n",
            "<generator object resample_vae.<locals>.<genexpr> at 0x7fe0aa23a250>\n",
            "(34776, 257)\n",
            "CNN, Fold number:  2\n",
            "341/341 [==============================] - 1s 2ms/step\n",
            "RFC, Fold Number:  2\n",
            "[7265, 6531, 2290, 6417, 722, 884, 6321]\n",
            "67515\n",
            "num of vals 4347\n",
            "8\n",
            "(5952, 257)\n",
            "<generator object resample_vae.<locals>.<genexpr> at 0x7fe0a5ba6d50>\n",
            "(34776, 257)\n",
            "CNN, Fold number:  3\n",
            "341/341 [==============================] - 1s 1ms/step\n",
            "RFC, Fold Number:  3\n",
            "[7265, 6531, 2290, 6417, 722, 884, 6321]\n",
            "67515\n",
            "num of vals 4347\n",
            "8\n",
            "(5952, 257)\n",
            "<generator object resample_vae.<locals>.<genexpr> at 0x7fe0a6d490d0>\n",
            "(34776, 257)\n",
            "CNN, Fold number:  4\n",
            "341/341 [==============================] - 1s 1ms/step\n",
            "RFC, Fold Number:  4\n",
            "[7264, 6531, 2290, 6417, 723, 884, 6321]\n",
            "67515\n",
            "num of vals 4347\n",
            "8\n",
            "(5952, 257)\n",
            "<generator object resample_vae.<locals>.<genexpr> at 0x7fe2ee0fe450>\n",
            "(34776, 257)\n",
            "CNN, Fold number:  5\n",
            "341/341 [==============================] - 1s 1ms/step\n",
            "RFC, Fold Number:  5\n",
            "[7264, 6530, 2290, 6417, 723, 884, 6322]\n",
            "67515\n",
            "num of vals 4347\n",
            "8\n",
            "(5952, 257)\n",
            "<generator object resample_vae.<locals>.<genexpr> at 0x7fe2edffd2d0>\n",
            "(34776, 257)\n",
            "CNN, Fold number:  6\n",
            "341/341 [==============================] - 1s 1ms/step\n",
            "RFC, Fold Number:  6\n",
            "[7265, 6530, 2290, 6417, 723, 883, 6322]\n",
            "67515\n",
            "num of vals 4347\n",
            "8\n",
            "(5952, 257)\n",
            "<generator object resample_vae.<locals>.<genexpr> at 0x7fe0af05cc50>\n",
            "(34776, 257)\n",
            "CNN, Fold number:  7\n",
            "341/341 [==============================] - 1s 1ms/step\n",
            "RFC, Fold Number:  7\n",
            "[7265, 6530, 2289, 6417, 723, 883, 6322]\n",
            "67516\n",
            "num of vals 4347\n",
            "8\n",
            "(5952, 257)\n",
            "<generator object resample_vae.<locals>.<genexpr> at 0x7fe308e1f3d0>\n",
            "(34776, 257)\n",
            "CNN, Fold number:  8\n",
            "341/341 [==============================] - 1s 1ms/step\n",
            "RFC, Fold Number:  8\n",
            "[7265, 6530, 2289, 6417, 723, 884, 6322]\n",
            "67516\n",
            "num of vals 4347\n",
            "8\n",
            "(5952, 257)\n",
            "<generator object resample_vae.<locals>.<genexpr> at 0x7fe2ee086b50>\n",
            "(34776, 257)\n",
            "CNN, Fold number:  9\n",
            "341/341 [==============================] - 1s 1ms/step\n",
            "RFC, Fold Number:  9\n",
            "[7265, 6530, 2289, 6417, 723, 884, 6322]\n",
            "67516\n",
            "num of vals 4347\n",
            "8\n",
            "(5952, 257)\n",
            "<generator object resample_vae.<locals>.<genexpr> at 0x7fe2ab92c9d0>\n",
            "(34776, 257)\n",
            "CNN, Fold number:  10\n",
            "341/341 [==============================] - 1s 2ms/step\n",
            "RFC, Fold Number:  10\n"
          ],
          "name": "stdout"
        },
        {
          "output_type": "display_data",
          "data": {
            "image/png": "[encoded data removed]",
            "text/plain": [
              "<Figure size 432x288 with 1 Axes>"
            ]
          },
          "metadata": {
            "tags": []
          }
        }
      ]
    },
    {
      "cell_type": "code",
      "metadata": {
        "colab": {
          "base_uri": "https://localhost:8080/",
          "height": 1000
        },
        "id": "Mf-2SezOtzD7",
        "outputId": "183052fd-9bfa-467d-b11c-1935a7bbcae9"
      },
      "source": [
        "tll_conv_vsc = cross_val(inputs, targets, resample_vae, cnn_sparse_synth, 'mixed/cnn_sparse_synth')\n",
        "plot_loss(tll_conv_vsc, \"Conv VSC Resampled\")"
      ],
      "execution_count": null,
      "outputs": [
        {
          "output_type": "stream",
          "text": [
            "[7265, 6530, 2289, 6417, 723, 884, 6322]\n",
            "67515\n",
            "num of vals 4347\n",
            "8\n",
            "(5952, 257)\n",
            "<generator object resample_vae.<locals>.<genexpr> at 0x7fe0a958eed0>\n",
            "(34776, 257)\n",
            "CNN, Fold number:  1\n",
            "341/341 [==============================] - 1s 1ms/step\n",
            "RFC, Fold Number:  1\n",
            "[7265, 6531, 2290, 6417, 722, 884, 6321]\n",
            "67515\n",
            "num of vals 4347\n",
            "8\n",
            "(5952, 257)\n",
            "<generator object resample_vae.<locals>.<genexpr> at 0x7fe0ae2b37d0>\n",
            "(34776, 257)\n",
            "CNN, Fold number:  2\n",
            "341/341 [==============================] - 1s 1ms/step\n",
            "RFC, Fold Number:  2\n",
            "[7265, 6531, 2290, 6417, 722, 884, 6321]\n",
            "67515\n",
            "num of vals 4347\n",
            "8\n",
            "(5952, 257)\n",
            "<generator object resample_vae.<locals>.<genexpr> at 0x7fe0acab1f50>\n",
            "(34776, 257)\n",
            "CNN, Fold number:  3\n",
            "341/341 [==============================] - 1s 1ms/step\n",
            "RFC, Fold Number:  3\n",
            "[7265, 6531, 2290, 6417, 722, 884, 6321]\n",
            "67515\n",
            "num of vals 4347\n",
            "8\n",
            "(5952, 257)\n",
            "<generator object resample_vae.<locals>.<genexpr> at 0x7fe308953550>\n",
            "(34776, 257)\n",
            "CNN, Fold number:  4\n",
            "341/341 [==============================] - 1s 1ms/step\n",
            "RFC, Fold Number:  4\n",
            "[7264, 6531, 2290, 6417, 723, 884, 6321]\n",
            "67515\n",
            "num of vals 4347\n",
            "8\n",
            "(5952, 257)\n",
            "<generator object resample_vae.<locals>.<genexpr> at 0x7fe0aa8ec350>\n",
            "(34776, 257)\n",
            "CNN, Fold number:  5\n",
            "341/341 [==============================] - 1s 1ms/step\n",
            "RFC, Fold Number:  5\n",
            "[7264, 6530, 2290, 6417, 723, 884, 6322]\n",
            "67515\n",
            "num of vals 4347\n",
            "8\n",
            "(5952, 257)\n",
            "<generator object resample_vae.<locals>.<genexpr> at 0x7fe2bc2c5050>\n",
            "(34776, 257)\n",
            "CNN, Fold number:  6\n",
            "341/341 [==============================] - 1s 1ms/step\n",
            "RFC, Fold Number:  6\n",
            "[7265, 6530, 2290, 6417, 723, 883, 6322]\n",
            "67515\n",
            "num of vals 4347\n",
            "8\n",
            "(5952, 257)\n",
            "<generator object resample_vae.<locals>.<genexpr> at 0x7fe2ee000350>\n",
            "(34776, 257)\n",
            "CNN, Fold number:  7\n",
            "341/341 [==============================] - 1s 1ms/step\n",
            "RFC, Fold Number:  7\n",
            "[7265, 6530, 2289, 6417, 723, 883, 6322]\n",
            "67516\n",
            "num of vals 4347\n",
            "8\n",
            "(5952, 257)\n",
            "<generator object resample_vae.<locals>.<genexpr> at 0x7fe0a740c3d0>\n",
            "(34776, 257)\n",
            "CNN, Fold number:  8\n",
            "341/341 [==============================] - 1s 1ms/step\n",
            "RFC, Fold Number:  8\n",
            "[7265, 6530, 2289, 6417, 723, 884, 6322]\n",
            "67516\n",
            "num of vals 4347\n",
            "8\n",
            "(5952, 257)\n",
            "<generator object resample_vae.<locals>.<genexpr> at 0x7fe2edde65d0>\n",
            "(34776, 257)\n",
            "CNN, Fold number:  9\n",
            "341/341 [==============================] - 1s 1ms/step\n",
            "RFC, Fold Number:  9\n",
            "[7265, 6530, 2289, 6417, 723, 884, 6322]\n",
            "67516\n",
            "num of vals 4347\n",
            "8\n",
            "(5952, 257)\n",
            "<generator object resample_vae.<locals>.<genexpr> at 0x7fe2ee0099d0>\n",
            "(34776, 257)\n",
            "CNN, Fold number:  10\n",
            "341/341 [==============================] - 1s 1ms/step\n",
            "RFC, Fold Number:  10\n"
          ],
          "name": "stdout"
        },
        {
          "output_type": "display_data",
          "data": {
            "image/png": "[encoded data removed]",
            "text/plain": [
              "<Figure size 432x288 with 1 Axes>"
            ]
          },
          "metadata": {
            "tags": []
          }
        }
      ]
    },
    {
      "cell_type": "code",
      "metadata": {
        "colab": {
          "base_uri": "https://localhost:8080/",
          "height": 1000
        },
        "id": "VDDJoKB2u0oC",
        "outputId": "7804da0f-862b-4b5e-95ee-96a7ecdd42fd"
      },
      "source": [
        "tll_lstm_vae = cross_val(inputs, targets, resample_vae, lstm_synth, 'mixed/lstm_synth')\n"
      ],
      "execution_count": null,
      "outputs": [
        {
          "output_type": "stream",
          "text": [
            "[7265, 6530, 2289, 6417, 723, 884, 6322]\n",
            "67515\n",
            "num of vals 4347\n",
            "8\n",
            "(5952, 257)\n",
            "<generator object resample_vae.<locals>.<genexpr> at 0x7fe2bb90c3d0>\n",
            "(34776, 257)\n",
            "CNN, Fold number:  1\n",
            "341/341 [==============================] - 1s 1ms/step\n",
            "RFC, Fold Number:  1\n",
            "[7265, 6531, 2290, 6417, 722, 884, 6321]\n",
            "67515\n",
            "num of vals 4347\n",
            "8\n",
            "(5952, 257)\n",
            "<generator object resample_vae.<locals>.<genexpr> at 0x7fe0acab1f50>\n",
            "(34776, 257)\n",
            "CNN, Fold number:  2\n",
            "341/341 [==============================] - 1s 1ms/step\n",
            "RFC, Fold Number:  2\n",
            "[7265, 6531, 2290, 6417, 722, 884, 6321]\n",
            "67515\n",
            "num of vals 4347\n",
            "8\n",
            "(5952, 257)\n",
            "<generator object resample_vae.<locals>.<genexpr> at 0x7fe0a7418b50>\n",
            "(34776, 257)\n",
            "CNN, Fold number:  3\n",
            "341/341 [==============================] - 1s 1ms/step\n",
            "RFC, Fold Number:  3\n",
            "[7265, 6531, 2290, 6417, 722, 884, 6321]\n",
            "67515\n",
            "num of vals 4347\n",
            "8\n",
            "(5952, 257)\n",
            "<generator object resample_vae.<locals>.<genexpr> at 0x7fe0a7418d50>\n",
            "(34776, 257)\n",
            "CNN, Fold number:  4\n",
            "341/341 [==============================] - 1s 1ms/step\n",
            "RFC, Fold Number:  4\n",
            "[7264, 6531, 2290, 6417, 723, 884, 6321]\n",
            "67515\n",
            "num of vals 4347\n",
            "8\n",
            "(5952, 257)\n",
            "<generator object resample_vae.<locals>.<genexpr> at 0x7fe0abab8d50>\n",
            "(34776, 257)\n",
            "CNN, Fold number:  5\n",
            "341/341 [==============================] - 1s 1ms/step\n",
            "RFC, Fold Number:  5\n",
            "[7264, 6530, 2290, 6417, 723, 884, 6322]\n",
            "67515\n",
            "num of vals 4347\n",
            "8\n",
            "(5952, 257)\n",
            "<generator object resample_vae.<locals>.<genexpr> at 0x7fe0afcfb1d0>\n",
            "(34776, 257)\n",
            "CNN, Fold number:  6\n",
            "341/341 [==============================] - 1s 1ms/step\n",
            "RFC, Fold Number:  6\n",
            "[7265, 6530, 2290, 6417, 723, 883, 6322]\n",
            "67515\n",
            "num of vals 4347\n",
            "8\n",
            "(5952, 257)\n",
            "<generator object resample_vae.<locals>.<genexpr> at 0x7fe2ee086f50>\n",
            "(34776, 257)\n",
            "CNN, Fold number:  7\n",
            "341/341 [==============================] - 1s 1ms/step\n",
            "RFC, Fold Number:  7\n",
            "[7265, 6530, 2289, 6417, 723, 883, 6322]\n",
            "67516\n",
            "num of vals 4347\n",
            "8\n",
            "(5952, 257)\n",
            "<generator object resample_vae.<locals>.<genexpr> at 0x7fe0a62b4950>\n",
            "(34776, 257)\n",
            "CNN, Fold number:  8\n",
            "341/341 [==============================] - 1s 1ms/step\n",
            "RFC, Fold Number:  8\n",
            "[7265, 6530, 2289, 6417, 723, 884, 6322]\n",
            "67516\n",
            "num of vals 4347\n",
            "8\n",
            "(5952, 257)\n",
            "<generator object resample_vae.<locals>.<genexpr> at 0x7fe0a725cd50>\n",
            "(34776, 257)\n",
            "CNN, Fold number:  9\n",
            "341/341 [==============================] - 1s 1ms/step\n",
            "RFC, Fold Number:  9\n",
            "[7265, 6530, 2289, 6417, 723, 884, 6322]\n",
            "67516\n",
            "num of vals 4347\n",
            "8\n",
            "(5952, 257)\n",
            "<generator object resample_vae.<locals>.<genexpr> at 0x7fe0ad465dd0>\n",
            "(34776, 257)\n",
            "CNN, Fold number:  10\n",
            "341/341 [==============================] - 1s 1ms/step\n",
            "RFC, Fold Number:  10\n"
          ],
          "name": "stdout"
        },
        {
          "output_type": "display_data",
          "data": {
            "image/png": "[encoded data removed]",
            "text/plain": [
              "<Figure size 432x288 with 1 Axes>"
            ]
          },
          "metadata": {
            "tags": []
          }
        }
      ]
    },
    {
      "cell_type": "code",
      "metadata": {
        "colab": {
          "base_uri": "https://localhost:8080/",
          "height": 301
        },
        "id": "5uosQoW-yAXs",
        "outputId": "120bc4f6-16bc-4763-f91c-c92a8bb8764d"
      },
      "source": [
        "plot_loss(tll_lstm_vae, \"LSTM VAE Resampled\")"
      ],
      "execution_count": null,
      "outputs": [
        {
          "output_type": "display_data",
          "data": {
            "image/png": "[encoded data removed]",
            "text/plain": [
              "<Figure size 432x288 with 1 Axes>"
            ]
          },
          "metadata": {
            "tags": []
          }
        }
      ]
    },
    {
      "cell_type": "code",
      "metadata": {
        "colab": {
          "base_uri": "https://localhost:8080/",
          "height": 1000
        },
        "id": "wPzSQ5_Kv77f",
        "outputId": "8d1f0a52-a724-47ea-adc6-85c15e3bba48"
      },
      "source": [
        "tll_lstm_vsc = cross_val(inputs, targets, resample_vae, lstm_sparse_synth, 'mixed/lstm_sparse_synth')\n",
        "plot_loss(tll_lstm_vsc, \"LSTM VSC Resampled\")"
      ],
      "execution_count": null,
      "outputs": [
        {
          "output_type": "stream",
          "text": [
            "[7265, 6530, 2289, 6417, 723, 884, 6322]\n",
            "67515\n",
            "num of vals 4347\n",
            "8\n",
            "(5952, 257)\n",
            "<generator object resample_vae.<locals>.<genexpr> at 0x7fe0af05a550>\n",
            "(34776, 257)\n",
            "CNN, Fold number:  1\n",
            "341/341 [==============================] - 1s 1ms/step\n",
            "RFC, Fold Number:  1\n",
            "[7265, 6531, 2290, 6417, 722, 884, 6321]\n",
            "67515\n",
            "num of vals 4347\n",
            "8\n",
            "(5952, 257)\n",
            "<generator object resample_vae.<locals>.<genexpr> at 0x7fe2cff8c150>\n",
            "(34776, 257)\n",
            "CNN, Fold number:  2\n",
            "341/341 [==============================] - 1s 1ms/step\n",
            "RFC, Fold Number:  2\n",
            "[7265, 6531, 2290, 6417, 722, 884, 6321]\n",
            "67515\n",
            "num of vals 4347\n",
            "8\n",
            "(5952, 257)\n",
            "<generator object resample_vae.<locals>.<genexpr> at 0x7fe0ad4551d0>\n",
            "(34776, 257)\n",
            "CNN, Fold number:  3\n",
            "341/341 [==============================] - 1s 1ms/step\n",
            "RFC, Fold Number:  3\n",
            "[7265, 6531, 2290, 6417, 722, 884, 6321]\n",
            "67515\n",
            "num of vals 4347\n",
            "8\n",
            "(5952, 257)\n",
            "<generator object resample_vae.<locals>.<genexpr> at 0x7fe0aaab6e50>\n",
            "(34776, 257)\n",
            "CNN, Fold number:  4\n",
            "341/341 [==============================] - 1s 1ms/step\n",
            "RFC, Fold Number:  4\n",
            "[7264, 6531, 2290, 6417, 723, 884, 6321]\n",
            "67515\n",
            "num of vals 4347\n",
            "8\n",
            "(5952, 257)\n",
            "<generator object resample_vae.<locals>.<genexpr> at 0x7fe2ee180cd0>\n",
            "(34776, 257)\n",
            "CNN, Fold number:  5\n",
            "341/341 [==============================] - 1s 1ms/step\n",
            "RFC, Fold Number:  5\n",
            "[7264, 6530, 2290, 6417, 723, 884, 6322]\n",
            "67515\n",
            "num of vals 4347\n",
            "8\n",
            "(5952, 257)\n",
            "<generator object resample_vae.<locals>.<genexpr> at 0x7fe2edf66250>\n",
            "(34776, 257)\n",
            "CNN, Fold number:  6\n",
            "341/341 [==============================] - 1s 1ms/step\n",
            "RFC, Fold Number:  6\n",
            "[7265, 6530, 2290, 6417, 723, 883, 6322]\n",
            "67515\n",
            "num of vals 4347\n",
            "8\n",
            "(5952, 257)\n",
            "<generator object resample_vae.<locals>.<genexpr> at 0x7fe0abe264d0>\n",
            "(34776, 257)\n",
            "CNN, Fold number:  7\n",
            "341/341 [==============================] - 1s 2ms/step\n",
            "RFC, Fold Number:  7\n",
            "[7265, 6530, 2289, 6417, 723, 883, 6322]\n",
            "67516\n",
            "num of vals 4347\n",
            "8\n",
            "(5952, 257)\n",
            "<generator object resample_vae.<locals>.<genexpr> at 0x7fe2ab92cdd0>\n",
            "(34776, 257)\n",
            "CNN, Fold number:  8\n",
            "341/341 [==============================] - 1s 1ms/step\n",
            "RFC, Fold Number:  8\n",
            "[7265, 6530, 2289, 6417, 723, 884, 6322]\n",
            "67516\n",
            "num of vals 4347\n",
            "8\n",
            "(5952, 257)\n",
            "<generator object resample_vae.<locals>.<genexpr> at 0x7fe2ab92ccd0>\n",
            "(34776, 257)\n",
            "CNN, Fold number:  9\n",
            "341/341 [==============================] - 1s 1ms/step\n",
            "RFC, Fold Number:  9\n",
            "[7265, 6530, 2289, 6417, 723, 884, 6322]\n",
            "67516\n",
            "num of vals 4347\n",
            "8\n",
            "(5952, 257)\n",
            "<generator object resample_vae.<locals>.<genexpr> at 0x7fe2ee1803d0>\n",
            "(34776, 257)\n",
            "CNN, Fold number:  10\n",
            "341/341 [==============================] - 1s 1ms/step\n",
            "RFC, Fold Number:  10\n"
          ],
          "name": "stdout"
        },
        {
          "output_type": "display_data",
          "data": {
            "image/png": "[encoded data removed]",
            "text/plain": [
              "<Figure size 432x288 with 1 Axes>"
            ]
          },
          "metadata": {
            "tags": []
          }
        }
      ]
    },
    {
      "cell_type": "code",
      "metadata": {
        "id": "xJSffuvFxJdV"
      },
      "source": [
        ""
      ],
      "execution_count": null,
      "outputs": []
    }
  ]
}