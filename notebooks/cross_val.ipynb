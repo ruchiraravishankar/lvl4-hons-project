{
  "nbformat": 4,
  "nbformat_minor": 0,
  "metadata": {
    "accelerator": "GPU",
    "colab": {
      "name": "cross_val.ipynb",
      "provenance": [],
      "collapsed_sections": []
    },
    "kernelspec": {
      "display_name": "Python 3",
      "name": "python3"
    },
    "language_info": {
      "name": "python"
    }
  },
  "cells": [
    {
      "cell_type": "code",
      "metadata": {
        "id": "Oicdyb4IAHc1"
      },
      "source": [
        "import numpy as np\n",
        "import os\n",
        "import sys\n",
        "from glob import glob\n",
        "import numpy as np\n",
        "import pandas as pd\n",
        "# import wfdb\n",
        "# import biosignalsnotebooks as bsnb\n",
        "# from wfdb import processing\n",
        "from matplotlib import pyplot as plt\n",
        "# from scipy import signal\n",
        "# from biosppy.signals import ecg\n",
        "np.set_printoptions(threshold=sys.maxsize)\n",
        "import umap\n",
        "import sklearn.utils as slu\n",
        "from sklearn.model_selection import LeaveOneOut\n",
        "import seaborn as sns\n",
        "from sklearn.metrics import *\n",
        "from sklearn.model_selection import StratifiedKFold\n",
        "from statistics import mean, stdev\n",
        "from keras.utils.np_utils import to_categorical\n",
        "from tensorflow.keras import layers\n",
        "from tensorflow.keras.models import Sequential\n",
        "from tensorflow.keras.layers import Dense\n",
        "from tensorflow.keras.models import Model, load_model\n",
        "from tensorflow.keras.utils import to_categorical\n",
        "from tensorflow.keras.layers import Dropout\n",
        "from tensorflow.keras.layers import Flatten\n",
        "from tensorflow.keras.layers import Conv1D\n",
        "from tensorflow.keras.layers import MaxPooling1D"
      ],
      "execution_count": 1,
      "outputs": []
    },
    {
      "cell_type": "code",
      "metadata": {
        "id": "ToZL5L8yAYDd"
      },
      "source": [
        "kfold = StratifiedKFold(n_splits = 6,shuffle= True ,random_state =48)"
      ],
      "execution_count": 2,
      "outputs": []
    },
    {
      "cell_type": "code",
      "metadata": {
        "id": "AvGmPWvzAPZT"
      },
      "source": [
        "def perform_metrics(clf_name, acc_list, pre_list, rec_list, f1_list, conf_list):\n",
        "  acc_mean = round(np.mean(acc_list),3)\n",
        "  acc_std = round(stdev(acc_list),3)\n",
        "  pre_mean = round(np.mean(pre_list),3)\n",
        "  pre_std = round(stdev(pre_list),3)\n",
        "  rec_mean = round(np.mean(rec_list),3)\n",
        "  rec_std = round(stdev(rec_list),3)\n",
        "  f1_mean = round(np.mean(f1_list),3)\n",
        "  f1_std = round(stdev(f1_list),3)\n",
        "  print('Classifier Name: ',clf_name)\n",
        "  print('accuracy mean: ',acc_mean,' std: ',acc_std)\n",
        "  print('precision: ',pre_mean,' std: ',pre_std)\n",
        "  print('recall: ',rec_mean,' std: ',rec_std)\n",
        "  print('f1score: ',f1_mean,' std: ',f1_std)\n",
        "\n",
        "  conf_list = np.nan_to_num(conf_list)\n",
        "  conf = np.mean(conf_list,axis=0)\n",
        "  plt.figure(figsize=(8,6))\n",
        "  sns.heatmap(conf,annot=True,fmt='.2%',xticklabels=categories,yticklabels=categories)\n",
        "  plt.title(clf_name + ' confusion matrix')\n",
        "  return (clf_name,acc_mean,acc_std,pre_mean,pre_std,rec_mean,rec_std,f1_mean,f1_std)"
      ],
      "execution_count": 3,
      "outputs": []
    },
    {
      "cell_type": "code",
      "metadata": {
        "id": "6RPT192v7EhU"
      },
      "source": [
        "path = '/content/drive/MyDrive/ecg/'"
      ],
      "execution_count": 4,
      "outputs": []
    },
    {
      "cell_type": "markdown",
      "metadata": {
        "id": "Pui2yZveAn_p"
      },
      "source": [
        "##Unsampled"
      ]
    },
    {
      "cell_type": "code",
      "metadata": {
        "id": "2jLZHPkKAdu8"
      },
      "source": [
        "mlii = np.loadtxt(path+'train_unsampled_mlii/mlii.csv', delimiter=',')\n",
        "print(mlii.shape)"
      ],
      "execution_count": null,
      "outputs": []
    },
    {
      "cell_type": "code",
      "metadata": {
        "id": "nxT42z3aAne6"
      },
      "source": [
        "np.random.shuffle(mlii)\n",
        "\n",
        "X = mlii[:,:-3]\n",
        "y = mlii[:,-3]\n",
        "print(X.shape, y.shape)"
      ],
      "execution_count": null,
      "outputs": []
    },
    {
      "cell_type": "code",
      "metadata": {
        "id": "-BW_l1adDe0i"
      },
      "source": [
        "inputs = X\n",
        "targets = y\n",
        "categories=['N', 'L', 'R', 'A', 'V', 'F', 'f','P']"
      ],
      "execution_count": null,
      "outputs": []
    },
    {
      "cell_type": "code",
      "metadata": {
        "id": "9-JrTkPwEPlA"
      },
      "source": [
        "cnn_acc_list = []\n",
        "cnn_pre_list = []\n",
        "cnn_rec_list = []\n",
        "cnn_f1_list = []\n",
        "cnn_conf_list = []\n",
        "\n",
        "xgb_acc_list = []\n",
        "xgb_pre_list = []\n",
        "xgb_rec_list = []\n",
        "xgb_f1_list = []\n",
        "xgb_conf_list = []\n",
        "\n",
        "from sklearn.utils import resample\n",
        "from xgboost import XGBClassifier\n",
        "\n",
        "fold_no = 1\n",
        "\n",
        "for train, test in kfold.split(inputs, targets):\n",
        "  # N = train[targets[train]==1.0]\n",
        "  # L = train[targets[train]==2.0]\n",
        "  # R = train[targets[train]==3.0]\n",
        "  # A = train[targets[train]==4.0]\n",
        "  # V = train[targets[train]==5.0]\n",
        "  # F = train[targets[train]==6.0]\n",
        "  # f = train[targets[train]==7.0]\n",
        "  # P = train[targets[train]==8.0]\n",
        "\n",
        "  # seed = 42\n",
        "\n",
        "\n",
        "  verbose, epoch, batch_size = 0, 10, 128\n",
        "  inputs_3d = inputs.reshape(-1, inputs.shape[1],1)\n",
        "  targets_cat = to_categorical(targets) \n",
        "\n",
        "  cnnmodel = Sequential()\n",
        "  cnnmodel.add(Conv1D(filters=128, kernel_size=2, activation='relu',input_shape=(inputs_3d.shape[1],inputs_3d.shape[2])))\n",
        "  cnnmodel.add(MaxPooling1D(pool_size=2))\n",
        "  cnnmodel.add(Conv1D(filters=64, kernel_size=2, activation='relu'))\n",
        "  cnnmodel.add(MaxPooling1D(pool_size=2))\n",
        "  cnnmodel.add(Conv1D(filters=32, kernel_size=2, activation='relu'))\n",
        "  cnnmodel.add(MaxPooling1D(pool_size=2))\n",
        "  cnnmodel.add(Conv1D(filters=16, kernel_size=2, activation='relu'))\n",
        "  cnnmodel.add(MaxPooling1D(pool_size=2))\n",
        "  cnnmodel.add(Dropout(rate=0.2))\n",
        "  cnnmodel.add(Flatten())\n",
        "  cnnmodel.add(Dense(64, activation='relu'))\n",
        "  cnnmodel.add(Dense(32, activation='relu'))\n",
        "  cnnmodel.add(Dense(9, activation='softmax'))\n",
        "  cnnmodel.compile(optimizer='adam', loss='categorical_crossentropy',metrics=['accuracy'])\n",
        "\n",
        "  print('CNN, Fold number: ', fold_no)\n",
        "  model = cnnmodel.fit(inputs_3d[train], targets_cat[train], epochs=epoch, validation_split=0.2, verbose=verbose,batch_size=batch_size)\n",
        "  cnnpredictions = cnnmodel.predict(inputs_3d[test], verbose=1)\n",
        "  y_pred_cnn = np.argmax(cnnpredictions, axis=1)\n",
        "  cnn_actual = np.argmax(targets_cat[test], axis=1)\n",
        "\n",
        "  cnn_acc_list.append(accuracy_score(cnn_actual, y_pred_cnn))\n",
        "  cnn_pre_list.append(precision_score(cnn_actual, y_pred_cnn, average='weighted'))\n",
        "  cnn_rec_list.append(recall_score(cnn_actual, y_pred_cnn, average='weighted'))\n",
        "  cnn_f1_list.append(f1_score(cnn_actual, y_pred_cnn, average='weighted'))\n",
        "  cnn_cm = confusion_matrix(cnn_actual, y_pred_cnn)\n",
        "  cnn_cm = cnn_cm.astype('float')/ cnn_cm.sum(axis=1)[:,np.newaxis]\n",
        "  cnn_conf_list.append(cnn_cm)\n",
        "\n",
        "\n",
        "\n",
        "  print('XGB, Fold number: ', fold_no)\n",
        "  model = XGBClassifier()\n",
        "  model.fit(inputs[train], targets[train],verbose=2)\n",
        "\n",
        "\n",
        "  y_pred_xgb = model.predict(inputs[test])\n",
        "  \n",
        "  xgb_acc_list.append(accuracy_score(targets[test], y_pred_xgb))\n",
        "  xgb_pre_list.append(precision_score(targets[test], y_pred_xgb, average='weighted'))\n",
        "  xgb_rec_list.append(recall_score(targets[test], y_pred_xgb, average='weighted'))\n",
        "  xgb_f1_list.append(f1_score(targets[test], y_pred_xgb, average='weighted'))\n",
        "  xgb_cm = confusion_matrix(targets[test], y_pred_xgb)\n",
        "  xgb_cm = xgb_cm.astype('float')/ xgb_cm.sum(axis=1)[:,np.newaxis]\n",
        "  xgb_conf_list.append(xgb_cm)\n",
        "\n",
        "  fold_no +=1\n"
      ],
      "execution_count": null,
      "outputs": []
    },
    {
      "cell_type": "code",
      "metadata": {
        "id": "WTyLJenFMMb1"
      },
      "source": [
        "CNN_results = perform_metrics('CNN', cnn_acc_list, cnn_pre_list, cnn_rec_list, cnn_f1_list, cnn_conf_list)\n",
        "XGB_results = perform_metrics('XGB', xgb_acc_list, xgb_pre_list, xgb_rec_list, xgb_f1_list, xgb_conf_list)"
      ],
      "execution_count": null,
      "outputs": []
    },
    {
      "cell_type": "code",
      "metadata": {
        "id": "BCvoQotfbD48"
      },
      "source": [
        "crossval_results = pd.DataFrame(data = (CNN_results, XGB_results))"
      ],
      "execution_count": null,
      "outputs": []
    },
    {
      "cell_type": "code",
      "metadata": {
        "id": "sfwhq_Wk_FdB"
      },
      "source": [
        "if not os.path.exists(path + 'metric_results/unsampled'):\n",
        "  os.makedirs(path + 'metric_results/unsampled')"
      ],
      "execution_count": null,
      "outputs": []
    },
    {
      "cell_type": "code",
      "metadata": {
        "id": "UKdfl3X3bZcy"
      },
      "source": [
        "print(crossval_results)\n",
        "crossval_results.to_csv(path + 'metric_results/unsampled/crossval_results.csv', encoding='utf-8', index=False)"
      ],
      "execution_count": null,
      "outputs": []
    },
    {
      "cell_type": "code",
      "metadata": {
        "id": "T2RFMfmJAZ_n"
      },
      "source": [
        "if not os.path.exists(path + 'metric_results/unsampled/cnn'):\n",
        "  os.makedirs(path + 'metric_results/unsampled/cnn')"
      ],
      "execution_count": null,
      "outputs": []
    },
    {
      "cell_type": "code",
      "metadata": {
        "id": "5aoNb-B9bthJ"
      },
      "source": [
        "cnn_unsamp = path + 'metric_results/unsampled/cnn/'\n",
        "CNN_acc = pd.DataFrame(cnn_acc_list)\n",
        "CNN_acc.to_csv(cnn_unsamp + 'CNN_acc.csv', encoding='utf-8', index=False)\n",
        "\n",
        "CNN_pre = pd.DataFrame(cnn_pre_list)\n",
        "CNN_pre.to_csv(cnn_unsamp + 'CNN_pre.csv', encoding='utf-8', index=False)\n",
        "\n",
        "CNN_rec = pd.DataFrame(cnn_rec_list)\n",
        "CNN_rec.to_csv(cnn_unsamp +'CNN_rec.csv', encoding='utf-8', index=False)\n",
        "\n",
        "CNN_f1s = pd.DataFrame(cnn_f1_list)\n",
        "CNN_f1s.to_csv(cnn_unsamp +'CNN_f1s.csv', encoding='utf-8', index=False)"
      ],
      "execution_count": null,
      "outputs": []
    },
    {
      "cell_type": "code",
      "metadata": {
        "id": "ynu__0NFAhRB"
      },
      "source": [
        "if not os.path.exists(path + 'metric_results/unsampled/xgb'):\n",
        "  os.makedirs(path + 'metric_results/unsampled/xgb')"
      ],
      "execution_count": null,
      "outputs": []
    },
    {
      "cell_type": "code",
      "metadata": {
        "id": "tUS_Vfsdd6rw"
      },
      "source": [
        "xgb_unsamp = path + 'metric_results/unsampled/xgb/'\n",
        "XGB_acc = pd.DataFrame(xgb_acc_list)\n",
        "XGB_acc.to_csv(xgb_unsamp + 'XGB_acc.csv', encoding='utf-8', index=False)\n",
        "\n",
        "XGB_pre = pd.DataFrame(xgb_pre_list)\n",
        "XGB_pre.to_csv(xgb_unsamp + 'XGB_pre.csv', encoding='utf-8', index=False)\n",
        "\n",
        "XGB_rec = pd.DataFrame(xgb_rec_list)\n",
        "XGB_rec.to_csv(xgb_unsamp +'XGB_rec.csv', encoding='utf-8', index=False)\n",
        "\n",
        "XGB_f1s = pd.DataFrame(xgb_f1_list)\n",
        "XGB_f1s.to_csv(xgb_unsamp +'XGB_f1s.csv', encoding='utf-8', index=False)"
      ],
      "execution_count": null,
      "outputs": []
    },
    {
      "cell_type": "markdown",
      "metadata": {
        "id": "YAcbPS3GAuEd"
      },
      "source": [
        "##VAE Synthetic Data Only\n",
        "\n",
        "> Set the value of synth to the model chosen from below for cross validation classification of the synthetic data generated from that model.\n",
        "\n",
        "\n"
      ]
    },
    {
      "cell_type": "code",
      "metadata": {
        "id": "NBdM4SYKAydU"
      },
      "source": [
        "comb = path + 'synthetic_data/combined/'\n",
        "cnn_synth = np.genfromtxt(comb + 'cnn_synth.csv', delimiter=',')\n",
        "cnn_sparse_synth = np.genfromtxt(comb + 'cnn_sparse_synth.csv', delimiter=',' )\n",
        "lstm_synth = np.genfromtxt(comb + 'lstm_synth.csv', delimiter=',')\n",
        "lstm_sparse_synth = np.genfromtxt(comb + 'lstm_sparse_synth.csv', delimiter=',')"
      ],
      "execution_count": null,
      "outputs": []
    },
    {
      "cell_type": "code",
      "metadata": {
        "id": "c278Y9gy5xJ8"
      },
      "source": [
        "print(cnn_synth.shape)\n",
        "print(cnn_sparse_synth.shape)\n",
        "print(lstm_synth.shape)\n",
        "print(lstm_sparse_synth.shape)"
      ],
      "execution_count": null,
      "outputs": []
    },
    {
      "cell_type": "code",
      "metadata": {
        "id": "0AkBUyKn8nCy"
      },
      "source": [
        "synth = cnn_sparse_synth"
      ],
      "execution_count": null,
      "outputs": []
    },
    {
      "cell_type": "code",
      "metadata": {
        "id": "LMoppFzu6DR8"
      },
      "source": [
        "np.random.shuffle(synth)\n",
        "\n",
        "X = synth[:,:-1]\n",
        "y = synth[:,-1]\n",
        "print(X.shape, y.shape)"
      ],
      "execution_count": null,
      "outputs": []
    },
    {
      "cell_type": "code",
      "metadata": {
        "id": "yBsjpctQ8vOo"
      },
      "source": [
        "inputs = X\n",
        "targets = y\n",
        "categories=['N', 'L', 'R', 'A', 'V', 'F', 'f','P']"
      ],
      "execution_count": null,
      "outputs": []
    },
    {
      "cell_type": "code",
      "metadata": {
        "id": "X4w9iJMi8zxY"
      },
      "source": [
        "cnn_acc_list = []\n",
        "cnn_pre_list = []\n",
        "cnn_rec_list = []\n",
        "cnn_f1_list = []\n",
        "cnn_conf_list = []\n",
        "\n",
        "xgb_acc_list = []\n",
        "xgb_pre_list = []\n",
        "xgb_rec_list = []\n",
        "xgb_f1_list = []\n",
        "xgb_conf_list = []\n",
        "\n",
        "from sklearn.utils import resample\n",
        "from xgboost import XGBClassifier\n",
        "\n",
        "fold_no = 1\n",
        "\n",
        "for train, test in kfold.split(inputs, targets):\n",
        "  # N = train[targets[train]==1.0]\n",
        "  # L = train[targets[train]==2.0]\n",
        "  # R = train[targets[train]==3.0]\n",
        "  # A = train[targets[train]==4.0]\n",
        "  # V = train[targets[train]==5.0]\n",
        "  # F = train[targets[train]==6.0]\n",
        "  # f = train[targets[train]==7.0]\n",
        "  # P = train[targets[train]==8.0]\n",
        "\n",
        "  # seed = 42\n",
        "\n",
        "\n",
        "  verbose, epoch, batch_size = 0, 10, 128\n",
        "  inputs_3d = inputs.reshape(-1, inputs.shape[1],1)\n",
        "  targets_cat = to_categorical(targets) \n",
        "\n",
        "  cnnmodel = Sequential()\n",
        "  cnnmodel.add(Conv1D(filters=128, kernel_size=2, activation='relu',input_shape=(inputs_3d.shape[1],inputs_3d.shape[2])))\n",
        "  cnnmodel.add(MaxPooling1D(pool_size=2))\n",
        "  cnnmodel.add(Conv1D(filters=64, kernel_size=2, activation='relu'))\n",
        "  cnnmodel.add(MaxPooling1D(pool_size=2))\n",
        "  cnnmodel.add(Conv1D(filters=32, kernel_size=2, activation='relu'))\n",
        "  cnnmodel.add(MaxPooling1D(pool_size=2))\n",
        "  cnnmodel.add(Conv1D(filters=16, kernel_size=2, activation='relu'))\n",
        "  cnnmodel.add(MaxPooling1D(pool_size=2))\n",
        "  cnnmodel.add(Dropout(rate=0.2))\n",
        "  cnnmodel.add(Flatten())\n",
        "  cnnmodel.add(Dense(64, activation='relu'))\n",
        "  cnnmodel.add(Dense(32, activation='relu'))\n",
        "  cnnmodel.add(Dense(9, activation='softmax'))\n",
        "  cnnmodel.compile(optimizer='adam', loss='categorical_crossentropy',metrics=['accuracy'])\n",
        "\n",
        "  print('CNN, Fold number: ', fold_no)\n",
        "  model = cnnmodel.fit(inputs_3d[train], targets_cat[train], epochs=epoch, validation_split=0.2, verbose=verbose,batch_size=batch_size)\n",
        "  cnnpredictions = cnnmodel.predict(inputs_3d[test], verbose=1)\n",
        "  y_pred_cnn = np.argmax(cnnpredictions, axis=1)\n",
        "  cnn_actual = np.argmax(targets_cat[test], axis=1)\n",
        "\n",
        "  cnn_acc_list.append(accuracy_score(cnn_actual, y_pred_cnn))\n",
        "  cnn_pre_list.append(precision_score(cnn_actual, y_pred_cnn, average='weighted'))\n",
        "  cnn_rec_list.append(recall_score(cnn_actual, y_pred_cnn, average='weighted'))\n",
        "  cnn_f1_list.append(f1_score(cnn_actual, y_pred_cnn, average='weighted'))\n",
        "  cnn_cm = confusion_matrix(cnn_actual, y_pred_cnn)\n",
        "  cnn_cm = cnn_cm.astype('float')/ cnn_cm.sum(axis=1)[:,np.newaxis]\n",
        "  cnn_conf_list.append(cnn_cm)\n",
        "\n",
        "\n",
        "\n",
        "  print('XGB, Fold number: ', fold_no)\n",
        "  model = XGBClassifier()\n",
        "  model.fit(inputs[train], targets[train],verbose=2)\n",
        "\n",
        "\n",
        "  y_pred_xgb = model.predict(inputs[test])\n",
        "  \n",
        "  xgb_acc_list.append(accuracy_score(targets[test], y_pred_xgb))\n",
        "  xgb_pre_list.append(precision_score(targets[test], y_pred_xgb, average='weighted'))\n",
        "  xgb_rec_list.append(recall_score(targets[test], y_pred_xgb, average='weighted'))\n",
        "  xgb_f1_list.append(f1_score(targets[test], y_pred_xgb, average='weighted'))\n",
        "  xgb_cm = confusion_matrix(targets[test], y_pred_xgb)\n",
        "  xgb_cm = xgb_cm.astype('float')/ xgb_cm.sum(axis=1)[:,np.newaxis]\n",
        "  xgb_conf_list.append(xgb_cm)\n",
        "\n",
        "  fold_no +=1\n"
      ],
      "execution_count": null,
      "outputs": []
    },
    {
      "cell_type": "code",
      "metadata": {
        "id": "CvR2ezNN9s5w"
      },
      "source": [
        "CNN_results = perform_metrics('CNN', cnn_acc_list, cnn_pre_list, cnn_rec_list, cnn_f1_list, cnn_conf_list)\n",
        "XGB_results = perform_metrics('XGB', xgb_acc_list, xgb_pre_list, xgb_rec_list, xgb_f1_list, xgb_conf_list)"
      ],
      "execution_count": null,
      "outputs": []
    },
    {
      "cell_type": "code",
      "metadata": {
        "id": "-6st5I0o99sP"
      },
      "source": [
        "crossval_results = pd.DataFrame(data = (CNN_results, XGB_results))\n",
        "\n",
        "if not os.path.exists(path + 'metric_results/synthetic_cnn_sparse'):\n",
        "  os.makedirs(path + 'metric_results/synthetic_cnn_sparse')\n",
        "\n",
        "print(crossval_results)\n",
        "crossval_results.to_csv(path + 'metric_results/synthetic_cnn_sparse/crossval_results.csv', encoding='utf-8', index=False)\n",
        "\n"
      ],
      "execution_count": null,
      "outputs": []
    },
    {
      "cell_type": "code",
      "metadata": {
        "id": "GOZr_6qe-J6W"
      },
      "source": [
        "if not os.path.exists(path + 'metric_results/synthetic_cnn_sparse/cnn'):\n",
        "  os.makedirs(path + 'metric_results/synthetic_cnn_sparse/cnn')\n",
        "\n",
        "cnn_unsamp = path + 'metric_results/synthetic_cnn_sparse/cnn/'\n",
        "CNN_acc = pd.DataFrame(cnn_acc_list)\n",
        "CNN_acc.to_csv(cnn_unsamp + 'CNN_acc.csv', encoding='utf-8', index=False)\n",
        "\n",
        "CNN_pre = pd.DataFrame(cnn_pre_list)\n",
        "CNN_pre.to_csv(cnn_unsamp + 'CNN_pre.csv', encoding='utf-8', index=False)\n",
        "\n",
        "CNN_rec = pd.DataFrame(cnn_rec_list)\n",
        "CNN_rec.to_csv(cnn_unsamp +'CNN_rec.csv', encoding='utf-8', index=False)\n",
        "\n",
        "CNN_f1s = pd.DataFrame(cnn_f1_list)\n",
        "CNN_f1s.to_csv(cnn_unsamp +'CNN_f1s.csv', encoding='utf-8', index=False)"
      ],
      "execution_count": null,
      "outputs": []
    },
    {
      "cell_type": "code",
      "metadata": {
        "id": "JcLuEKan-YDD"
      },
      "source": [
        "if not os.path.exists(path + 'metric_results/synthetic_cnn_sparse/xgb'):\n",
        "  os.makedirs(path + 'metric_results/synthetic_cnn_sparse/xgb')\n",
        "\n",
        "xgb_unsamp = path + 'metric_results/synthetic_cnn_sparse/xgb/'\n",
        "XGB_acc = pd.DataFrame(xgb_acc_list)\n",
        "XGB_acc.to_csv(xgb_unsamp + 'XGB_acc.csv', encoding='utf-8', index=False)\n",
        "\n",
        "XGB_pre = pd.DataFrame(xgb_pre_list)\n",
        "XGB_pre.to_csv(xgb_unsamp + 'XGB_pre.csv', encoding='utf-8', index=False)\n",
        "\n",
        "XGB_rec = pd.DataFrame(xgb_rec_list)\n",
        "XGB_rec.to_csv(xgb_unsamp +'XGB_rec.csv', encoding='utf-8', index=False)\n",
        "\n",
        "XGB_f1s = pd.DataFrame(xgb_f1_list)\n",
        "XGB_f1s.to_csv(xgb_unsamp +'XGB_f1s.csv', encoding='utf-8', index=False)"
      ],
      "execution_count": null,
      "outputs": []
    },
    {
      "cell_type": "markdown",
      "metadata": {
        "id": "ulN21qboKBqQ"
      },
      "source": [
        "## Sampled with SMOTE"
      ]
    },
    {
      "cell_type": "code",
      "metadata": {
        "colab": {
          "base_uri": "https://localhost:8080/"
        },
        "id": "wMdzq3iG5LLs",
        "outputId": "206563fd-3880-4ec3-f45c-d629ba00b94b"
      },
      "source": [
        "from imblearn.over_sampling import SMOTE\n",
        "from collections import Counter\n",
        "from imblearn.under_sampling import RandomUnderSampler"
      ],
      "execution_count": 5,
      "outputs": [
        {
          "output_type": "stream",
          "text": [
            "/usr/local/lib/python3.7/dist-packages/sklearn/externals/six.py:31: FutureWarning: The module is deprecated in version 0.21 and will be removed in version 0.23 since we've dropped support for Python 2.7. Please rely on the official version of six (https://pypi.org/project/six/).\n",
            "  \"(https://pypi.org/project/six/).\", FutureWarning)\n",
            "/usr/local/lib/python3.7/dist-packages/sklearn/utils/deprecation.py:144: FutureWarning: The sklearn.neighbors.base module is  deprecated in version 0.22 and will be removed in version 0.24. The corresponding classes / functions should instead be imported from sklearn.neighbors. Anything that cannot be imported from sklearn.neighbors is now part of the private API.\n",
            "  warnings.warn(message, FutureWarning)\n"
          ],
          "name": "stderr"
        }
      ]
    },
    {
      "cell_type": "code",
      "metadata": {
        "colab": {
          "base_uri": "https://localhost:8080/"
        },
        "id": "cRqqCU1U7-f8",
        "outputId": "6973008f-a4e4-4aba-a172-57fca90530d1"
      },
      "source": [
        "mlii = np.loadtxt(path+'train_unsampled_mlii/mlii.csv', delimiter=',')\n",
        "print(mlii.shape)"
      ],
      "execution_count": 6,
      "outputs": [
        {
          "output_type": "stream",
          "text": [
            "(108828, 259)\n"
          ],
          "name": "stdout"
        }
      ]
    },
    {
      "cell_type": "code",
      "metadata": {
        "colab": {
          "base_uri": "https://localhost:8080/"
        },
        "id": "xQ6RBWd78deF",
        "outputId": "2e7aa9e0-670c-42ff-e004-823cf65782ee"
      },
      "source": [
        "np.random.shuffle(mlii)\n",
        "\n",
        "X = mlii[:,:-3]\n",
        "y = mlii[:,-3]\n",
        "print(X.shape, y.shape)"
      ],
      "execution_count": 7,
      "outputs": [
        {
          "output_type": "stream",
          "text": [
            "(108828, 256) (108828,)\n"
          ],
          "name": "stdout"
        }
      ]
    },
    {
      "cell_type": "code",
      "metadata": {
        "id": "OGQHIfGA8lWp"
      },
      "source": [
        "inputs = X\n",
        "targets = y\n",
        "categories=['N', 'L', 'R', 'A', 'V', 'F', 'f','P']"
      ],
      "execution_count": 8,
      "outputs": []
    },
    {
      "cell_type": "code",
      "metadata": {
        "id": "fTUKtzGCEcEG"
      },
      "source": [
        "def smote_rus(train_vals):\n",
        "  X_train = train_vals[:,:-1]\n",
        "  y_train = train_vals[:,-1]\n",
        "  label_count = Counter(y_train)\n",
        "  print(label_count)\n",
        "  classes, counts = np.unique(y_train, return_counts=True)\n",
        "  imbalanced = counts[1:]\n",
        "  imb_max = np.max(imbalanced)\n",
        "  print(imb_max)\n",
        "  normal_count = counts[0]\n",
        "  print(normal_count)\n",
        "\n",
        "  samp_strat = {1:normal_count,2:imb_max,3:imb_max,4:imb_max,5:imb_max,6:imb_max,7:imb_max,8:imb_max}\n",
        "  sm = SMOTE(random_state=42, sampling_strategy=samp_strat)\n",
        "  X_bal, y_bal = sm.fit_resample(X_train,y_train)\n",
        "  print(Counter(y_bal))\n",
        "\n",
        "  rus = RandomUnderSampler()\n",
        "  X_u,y_u = rus.fit_resample(X_bal,y_bal)\n",
        "  print(Counter(y_u))\n",
        "\n",
        "  return X_u, y_u"
      ],
      "execution_count": 9,
      "outputs": []
    },
    {
      "cell_type": "code",
      "metadata": {
        "colab": {
          "base_uri": "https://localhost:8080/"
        },
        "id": "unO633_zKEky",
        "outputId": "45fac4f8-267d-45ab-e38c-71eea4983a8e"
      },
      "source": [
        "cnn_acc_list = []\n",
        "cnn_pre_list = []\n",
        "cnn_rec_list = []\n",
        "cnn_f1_list = []\n",
        "cnn_conf_list = []\n",
        "\n",
        "xgb_acc_list = []\n",
        "xgb_pre_list = []\n",
        "xgb_rec_list = []\n",
        "xgb_f1_list = []\n",
        "xgb_conf_list = []\n",
        "\n",
        "from sklearn.utils import resample\n",
        "from xgboost import XGBClassifier\n",
        "\n",
        "fold_no = 1\n",
        "\n",
        "for train, test in kfold.split(inputs, targets):\n",
        "\n",
        "  xtr, xte = inputs[train], inputs[test]\n",
        "  ytr, yte = targets[train], targets[test]\n",
        "\n",
        "  ytr_res = ytr.reshape(-1,1)\n",
        "\n",
        "  train_vals = np.concatenate((xtr, ytr_res), axis=1)\n",
        "\n",
        "  xtr_new, ytr_new = smote_rus(train_vals)  \n",
        "\n",
        "\n",
        "  verbose, epoch, batch_size = 0, 10, 128\n",
        "  inputs_3d_tr = xtr_new.reshape(-1, xtr_new.shape[1],1)\n",
        "  inputs_3d_te = xte.reshape(-1, xte.shape[1],1)\n",
        "  targets_cat_tr = to_categorical(ytr_new) \n",
        "  targets_cat_te = to_categorical(yte)\n",
        "\n",
        "  cnnmodel = Sequential()\n",
        "  cnnmodel.add(Conv1D(filters=128, kernel_size=2, activation='relu',input_shape=(inputs_3d_tr.shape[1],inputs_3d_tr.shape[2])))\n",
        "  cnnmodel.add(MaxPooling1D(pool_size=2))\n",
        "  cnnmodel.add(Conv1D(filters=64, kernel_size=2, activation='relu'))\n",
        "  cnnmodel.add(MaxPooling1D(pool_size=2))\n",
        "  cnnmodel.add(Conv1D(filters=32, kernel_size=2, activation='relu'))\n",
        "  cnnmodel.add(MaxPooling1D(pool_size=2))\n",
        "  cnnmodel.add(Conv1D(filters=16, kernel_size=2, activation='relu'))\n",
        "  cnnmodel.add(MaxPooling1D(pool_size=2))\n",
        "  cnnmodel.add(Dropout(rate=0.2))\n",
        "  cnnmodel.add(Flatten())\n",
        "  cnnmodel.add(Dense(64, activation='relu'))\n",
        "  cnnmodel.add(Dense(32, activation='relu'))\n",
        "  cnnmodel.add(Dense(9, activation='softmax'))\n",
        "  cnnmodel.compile(optimizer='adam', loss='categorical_crossentropy',metrics=['accuracy'])\n",
        "\n",
        "  print('CNN, Fold number: ', fold_no)\n",
        "  model = cnnmodel.fit(inputs_3d_tr, targets_cat_tr, epochs=epoch, validation_split=0.2, verbose=verbose,batch_size=batch_size)\n",
        "  cnnpredictions = cnnmodel.predict(inputs_3d_te, verbose=1)\n",
        "  y_pred_cnn = np.argmax(cnnpredictions, axis=1)\n",
        "  cnn_actual = np.argmax(targets_cat_te, axis=1)\n",
        "\n",
        "  cnn_acc_list.append(accuracy_score(cnn_actual, y_pred_cnn))\n",
        "  cnn_pre_list.append(precision_score(cnn_actual, y_pred_cnn, average='weighted'))\n",
        "  cnn_rec_list.append(recall_score(cnn_actual, y_pred_cnn, average='weighted'))\n",
        "  cnn_f1_list.append(f1_score(cnn_actual, y_pred_cnn, average='weighted'))\n",
        "  cnn_cm = confusion_matrix(cnn_actual, y_pred_cnn)\n",
        "  cnn_cm = cnn_cm.astype('float')/ cnn_cm.sum(axis=1)[:,np.newaxis]\n",
        "  cnn_conf_list.append(cnn_cm)\n",
        "\n",
        "\n",
        "\n",
        "  print('XGB, Fold number: ', fold_no)\n",
        "  model = XGBClassifier()\n",
        "  model.fit(xtr_new, ytr_new,verbose=2)\n",
        "\n",
        "\n",
        "  y_pred_xgb = model.predict(xte)\n",
        "  \n",
        "  xgb_acc_list.append(accuracy_score(yte, y_pred_xgb))\n",
        "  xgb_pre_list.append(precision_score(yte, y_pred_xgb, average='weighted'))\n",
        "  xgb_rec_list.append(recall_score(yte, y_pred_xgb, average='weighted'))\n",
        "  xgb_f1_list.append(f1_score(yte, y_pred_xgb, average='weighted'))\n",
        "  xgb_cm = confusion_matrix(yte, y_pred_xgb)\n",
        "  xgb_cm = xgb_cm.astype('float')/ xgb_cm.sum(axis=1)[:,np.newaxis]\n",
        "  xgb_conf_list.append(xgb_cm)\n",
        "\n",
        "  fold_no +=1\n"
      ],
      "execution_count": 11,
      "outputs": [
        {
          "output_type": "stream",
          "text": [
            "Counter({1.0: 62514, 2.0: 6727, 3.0: 6047, 5.0: 5941, 8.0: 5853, 4.0: 2120, 7.0: 819, 6.0: 669})\n",
            "6727\n",
            "62514\n"
          ],
          "name": "stdout"
        },
        {
          "output_type": "stream",
          "text": [
            "/usr/local/lib/python3.7/dist-packages/sklearn/utils/deprecation.py:87: FutureWarning: Function safe_indexing is deprecated; safe_indexing is deprecated in version 0.22 and will be removed in version 0.24.\n",
            "  warnings.warn(msg, category=FutureWarning)\n",
            "/usr/local/lib/python3.7/dist-packages/sklearn/utils/deprecation.py:87: FutureWarning: Function safe_indexing is deprecated; safe_indexing is deprecated in version 0.22 and will be removed in version 0.24.\n",
            "  warnings.warn(msg, category=FutureWarning)\n",
            "/usr/local/lib/python3.7/dist-packages/sklearn/utils/deprecation.py:87: FutureWarning: Function safe_indexing is deprecated; safe_indexing is deprecated in version 0.22 and will be removed in version 0.24.\n",
            "  warnings.warn(msg, category=FutureWarning)\n",
            "/usr/local/lib/python3.7/dist-packages/sklearn/utils/deprecation.py:87: FutureWarning: Function safe_indexing is deprecated; safe_indexing is deprecated in version 0.22 and will be removed in version 0.24.\n",
            "  warnings.warn(msg, category=FutureWarning)\n",
            "/usr/local/lib/python3.7/dist-packages/sklearn/utils/deprecation.py:87: FutureWarning: Function safe_indexing is deprecated; safe_indexing is deprecated in version 0.22 and will be removed in version 0.24.\n",
            "  warnings.warn(msg, category=FutureWarning)\n",
            "/usr/local/lib/python3.7/dist-packages/sklearn/utils/deprecation.py:87: FutureWarning: Function safe_indexing is deprecated; safe_indexing is deprecated in version 0.22 and will be removed in version 0.24.\n",
            "  warnings.warn(msg, category=FutureWarning)\n"
          ],
          "name": "stderr"
        },
        {
          "output_type": "stream",
          "text": [
            "Counter({1.0: 62514, 8.0: 6727, 2.0: 6727, 5.0: 6727, 3.0: 6727, 6.0: 6727, 7.0: 6727, 4.0: 6727})\n",
            "Counter({1.0: 6727, 2.0: 6727, 3.0: 6727, 4.0: 6727, 5.0: 6727, 6.0: 6727, 7.0: 6727, 8.0: 6727})\n",
            "CNN, Fold number:  1\n"
          ],
          "name": "stdout"
        },
        {
          "output_type": "stream",
          "text": [
            "/usr/local/lib/python3.7/dist-packages/sklearn/utils/deprecation.py:87: FutureWarning: Function safe_indexing is deprecated; safe_indexing is deprecated in version 0.22 and will be removed in version 0.24.\n",
            "  warnings.warn(msg, category=FutureWarning)\n"
          ],
          "name": "stderr"
        },
        {
          "output_type": "stream",
          "text": [
            "567/567 [==============================] - 1s 1ms/step\n",
            "XGB, Fold number:  1\n"
          ],
          "name": "stdout"
        },
        {
          "output_type": "stream",
          "text": [
            "/usr/local/lib/python3.7/dist-packages/sklearn/metrics/_classification.py:1272: UndefinedMetricWarning: Precision is ill-defined and being set to 0.0 in labels with no predicted samples. Use `zero_division` parameter to control this behavior.\n",
            "  _warn_prf(average, modifier, msg_start, len(result))\n"
          ],
          "name": "stderr"
        },
        {
          "output_type": "stream",
          "text": [
            "Counter({1.0: 62514, 2.0: 6727, 3.0: 6046, 5.0: 5942, 8.0: 5853, 4.0: 2120, 7.0: 819, 6.0: 669})\n",
            "6727\n",
            "62514\n"
          ],
          "name": "stdout"
        },
        {
          "output_type": "stream",
          "text": [
            "/usr/local/lib/python3.7/dist-packages/sklearn/utils/deprecation.py:87: FutureWarning: Function safe_indexing is deprecated; safe_indexing is deprecated in version 0.22 and will be removed in version 0.24.\n",
            "  warnings.warn(msg, category=FutureWarning)\n",
            "/usr/local/lib/python3.7/dist-packages/sklearn/utils/deprecation.py:87: FutureWarning: Function safe_indexing is deprecated; safe_indexing is deprecated in version 0.22 and will be removed in version 0.24.\n",
            "  warnings.warn(msg, category=FutureWarning)\n",
            "/usr/local/lib/python3.7/dist-packages/sklearn/utils/deprecation.py:87: FutureWarning: Function safe_indexing is deprecated; safe_indexing is deprecated in version 0.22 and will be removed in version 0.24.\n",
            "  warnings.warn(msg, category=FutureWarning)\n",
            "/usr/local/lib/python3.7/dist-packages/sklearn/utils/deprecation.py:87: FutureWarning: Function safe_indexing is deprecated; safe_indexing is deprecated in version 0.22 and will be removed in version 0.24.\n",
            "  warnings.warn(msg, category=FutureWarning)\n",
            "/usr/local/lib/python3.7/dist-packages/sklearn/utils/deprecation.py:87: FutureWarning: Function safe_indexing is deprecated; safe_indexing is deprecated in version 0.22 and will be removed in version 0.24.\n",
            "  warnings.warn(msg, category=FutureWarning)\n",
            "/usr/local/lib/python3.7/dist-packages/sklearn/utils/deprecation.py:87: FutureWarning: Function safe_indexing is deprecated; safe_indexing is deprecated in version 0.22 and will be removed in version 0.24.\n",
            "  warnings.warn(msg, category=FutureWarning)\n"
          ],
          "name": "stderr"
        },
        {
          "output_type": "stream",
          "text": [
            "Counter({1.0: 62514, 8.0: 6727, 5.0: 6727, 3.0: 6727, 2.0: 6727, 4.0: 6727, 7.0: 6727, 6.0: 6727})\n",
            "Counter({1.0: 6727, 2.0: 6727, 3.0: 6727, 4.0: 6727, 5.0: 6727, 6.0: 6727, 7.0: 6727, 8.0: 6727})\n",
            "CNN, Fold number:  2\n"
          ],
          "name": "stdout"
        },
        {
          "output_type": "stream",
          "text": [
            "/usr/local/lib/python3.7/dist-packages/sklearn/utils/deprecation.py:87: FutureWarning: Function safe_indexing is deprecated; safe_indexing is deprecated in version 0.22 and will be removed in version 0.24.\n",
            "  warnings.warn(msg, category=FutureWarning)\n"
          ],
          "name": "stderr"
        },
        {
          "output_type": "stream",
          "text": [
            "567/567 [==============================] - 1s 1ms/step\n",
            "XGB, Fold number:  2\n"
          ],
          "name": "stdout"
        },
        {
          "output_type": "stream",
          "text": [
            "/usr/local/lib/python3.7/dist-packages/sklearn/metrics/_classification.py:1272: UndefinedMetricWarning: Precision is ill-defined and being set to 0.0 in labels with no predicted samples. Use `zero_division` parameter to control this behavior.\n",
            "  _warn_prf(average, modifier, msg_start, len(result))\n"
          ],
          "name": "stderr"
        },
        {
          "output_type": "stream",
          "text": [
            "Counter({1.0: 62514, 2.0: 6727, 3.0: 6046, 5.0: 5942, 8.0: 5853, 4.0: 2120, 7.0: 818, 6.0: 670})\n",
            "6727\n",
            "62514\n"
          ],
          "name": "stdout"
        },
        {
          "output_type": "stream",
          "text": [
            "/usr/local/lib/python3.7/dist-packages/sklearn/utils/deprecation.py:87: FutureWarning: Function safe_indexing is deprecated; safe_indexing is deprecated in version 0.22 and will be removed in version 0.24.\n",
            "  warnings.warn(msg, category=FutureWarning)\n",
            "/usr/local/lib/python3.7/dist-packages/sklearn/utils/deprecation.py:87: FutureWarning: Function safe_indexing is deprecated; safe_indexing is deprecated in version 0.22 and will be removed in version 0.24.\n",
            "  warnings.warn(msg, category=FutureWarning)\n",
            "/usr/local/lib/python3.7/dist-packages/sklearn/utils/deprecation.py:87: FutureWarning: Function safe_indexing is deprecated; safe_indexing is deprecated in version 0.22 and will be removed in version 0.24.\n",
            "  warnings.warn(msg, category=FutureWarning)\n",
            "/usr/local/lib/python3.7/dist-packages/sklearn/utils/deprecation.py:87: FutureWarning: Function safe_indexing is deprecated; safe_indexing is deprecated in version 0.22 and will be removed in version 0.24.\n",
            "  warnings.warn(msg, category=FutureWarning)\n",
            "/usr/local/lib/python3.7/dist-packages/sklearn/utils/deprecation.py:87: FutureWarning: Function safe_indexing is deprecated; safe_indexing is deprecated in version 0.22 and will be removed in version 0.24.\n",
            "  warnings.warn(msg, category=FutureWarning)\n",
            "/usr/local/lib/python3.7/dist-packages/sklearn/utils/deprecation.py:87: FutureWarning: Function safe_indexing is deprecated; safe_indexing is deprecated in version 0.22 and will be removed in version 0.24.\n",
            "  warnings.warn(msg, category=FutureWarning)\n"
          ],
          "name": "stderr"
        },
        {
          "output_type": "stream",
          "text": [
            "Counter({1.0: 62514, 8.0: 6727, 2.0: 6727, 5.0: 6727, 3.0: 6727, 4.0: 6727, 6.0: 6727, 7.0: 6727})\n",
            "Counter({1.0: 6727, 2.0: 6727, 3.0: 6727, 4.0: 6727, 5.0: 6727, 6.0: 6727, 7.0: 6727, 8.0: 6727})\n",
            "CNN, Fold number:  3\n"
          ],
          "name": "stdout"
        },
        {
          "output_type": "stream",
          "text": [
            "/usr/local/lib/python3.7/dist-packages/sklearn/utils/deprecation.py:87: FutureWarning: Function safe_indexing is deprecated; safe_indexing is deprecated in version 0.22 and will be removed in version 0.24.\n",
            "  warnings.warn(msg, category=FutureWarning)\n"
          ],
          "name": "stderr"
        },
        {
          "output_type": "stream",
          "text": [
            "567/567 [==============================] - 1s 1ms/step\n",
            "XGB, Fold number:  3\n"
          ],
          "name": "stdout"
        },
        {
          "output_type": "stream",
          "text": [
            "/usr/local/lib/python3.7/dist-packages/sklearn/metrics/_classification.py:1272: UndefinedMetricWarning: Precision is ill-defined and being set to 0.0 in labels with no predicted samples. Use `zero_division` parameter to control this behavior.\n",
            "  _warn_prf(average, modifier, msg_start, len(result))\n"
          ],
          "name": "stderr"
        },
        {
          "output_type": "stream",
          "text": [
            "Counter({1.0: 62514, 2.0: 6726, 3.0: 6047, 5.0: 5942, 8.0: 5854, 4.0: 2120, 7.0: 818, 6.0: 669})\n",
            "6726\n",
            "62514\n"
          ],
          "name": "stdout"
        },
        {
          "output_type": "stream",
          "text": [
            "/usr/local/lib/python3.7/dist-packages/sklearn/utils/deprecation.py:87: FutureWarning: Function safe_indexing is deprecated; safe_indexing is deprecated in version 0.22 and will be removed in version 0.24.\n",
            "  warnings.warn(msg, category=FutureWarning)\n",
            "/usr/local/lib/python3.7/dist-packages/sklearn/utils/deprecation.py:87: FutureWarning: Function safe_indexing is deprecated; safe_indexing is deprecated in version 0.22 and will be removed in version 0.24.\n",
            "  warnings.warn(msg, category=FutureWarning)\n",
            "/usr/local/lib/python3.7/dist-packages/sklearn/utils/deprecation.py:87: FutureWarning: Function safe_indexing is deprecated; safe_indexing is deprecated in version 0.22 and will be removed in version 0.24.\n",
            "  warnings.warn(msg, category=FutureWarning)\n",
            "/usr/local/lib/python3.7/dist-packages/sklearn/utils/deprecation.py:87: FutureWarning: Function safe_indexing is deprecated; safe_indexing is deprecated in version 0.22 and will be removed in version 0.24.\n",
            "  warnings.warn(msg, category=FutureWarning)\n",
            "/usr/local/lib/python3.7/dist-packages/sklearn/utils/deprecation.py:87: FutureWarning: Function safe_indexing is deprecated; safe_indexing is deprecated in version 0.22 and will be removed in version 0.24.\n",
            "  warnings.warn(msg, category=FutureWarning)\n",
            "/usr/local/lib/python3.7/dist-packages/sklearn/utils/deprecation.py:87: FutureWarning: Function safe_indexing is deprecated; safe_indexing is deprecated in version 0.22 and will be removed in version 0.24.\n",
            "  warnings.warn(msg, category=FutureWarning)\n"
          ],
          "name": "stderr"
        },
        {
          "output_type": "stream",
          "text": [
            "Counter({1.0: 62514, 8.0: 6726, 2.0: 6726, 5.0: 6726, 4.0: 6726, 3.0: 6726, 6.0: 6726, 7.0: 6726})\n",
            "Counter({1.0: 6726, 2.0: 6726, 3.0: 6726, 4.0: 6726, 5.0: 6726, 6.0: 6726, 7.0: 6726, 8.0: 6726})\n",
            "CNN, Fold number:  4\n"
          ],
          "name": "stdout"
        },
        {
          "output_type": "stream",
          "text": [
            "/usr/local/lib/python3.7/dist-packages/sklearn/utils/deprecation.py:87: FutureWarning: Function safe_indexing is deprecated; safe_indexing is deprecated in version 0.22 and will be removed in version 0.24.\n",
            "  warnings.warn(msg, category=FutureWarning)\n"
          ],
          "name": "stderr"
        },
        {
          "output_type": "stream",
          "text": [
            "567/567 [==============================] - 1s 1ms/step\n",
            "XGB, Fold number:  4\n"
          ],
          "name": "stdout"
        },
        {
          "output_type": "stream",
          "text": [
            "/usr/local/lib/python3.7/dist-packages/sklearn/metrics/_classification.py:1272: UndefinedMetricWarning: Precision is ill-defined and being set to 0.0 in labels with no predicted samples. Use `zero_division` parameter to control this behavior.\n",
            "  _warn_prf(average, modifier, msg_start, len(result))\n"
          ],
          "name": "stderr"
        },
        {
          "output_type": "stream",
          "text": [
            "Counter({1.0: 62514, 2.0: 6726, 3.0: 6047, 5.0: 5942, 8.0: 5854, 4.0: 2120, 7.0: 818, 6.0: 669})\n",
            "6726\n",
            "62514\n"
          ],
          "name": "stdout"
        },
        {
          "output_type": "stream",
          "text": [
            "/usr/local/lib/python3.7/dist-packages/sklearn/utils/deprecation.py:87: FutureWarning: Function safe_indexing is deprecated; safe_indexing is deprecated in version 0.22 and will be removed in version 0.24.\n",
            "  warnings.warn(msg, category=FutureWarning)\n",
            "/usr/local/lib/python3.7/dist-packages/sklearn/utils/deprecation.py:87: FutureWarning: Function safe_indexing is deprecated; safe_indexing is deprecated in version 0.22 and will be removed in version 0.24.\n",
            "  warnings.warn(msg, category=FutureWarning)\n",
            "/usr/local/lib/python3.7/dist-packages/sklearn/utils/deprecation.py:87: FutureWarning: Function safe_indexing is deprecated; safe_indexing is deprecated in version 0.22 and will be removed in version 0.24.\n",
            "  warnings.warn(msg, category=FutureWarning)\n",
            "/usr/local/lib/python3.7/dist-packages/sklearn/utils/deprecation.py:87: FutureWarning: Function safe_indexing is deprecated; safe_indexing is deprecated in version 0.22 and will be removed in version 0.24.\n",
            "  warnings.warn(msg, category=FutureWarning)\n",
            "/usr/local/lib/python3.7/dist-packages/sklearn/utils/deprecation.py:87: FutureWarning: Function safe_indexing is deprecated; safe_indexing is deprecated in version 0.22 and will be removed in version 0.24.\n",
            "  warnings.warn(msg, category=FutureWarning)\n",
            "/usr/local/lib/python3.7/dist-packages/sklearn/utils/deprecation.py:87: FutureWarning: Function safe_indexing is deprecated; safe_indexing is deprecated in version 0.22 and will be removed in version 0.24.\n",
            "  warnings.warn(msg, category=FutureWarning)\n"
          ],
          "name": "stderr"
        },
        {
          "output_type": "stream",
          "text": [
            "Counter({1.0: 62514, 8.0: 6726, 2.0: 6726, 5.0: 6726, 3.0: 6726, 4.0: 6726, 6.0: 6726, 7.0: 6726})\n",
            "Counter({1.0: 6726, 2.0: 6726, 3.0: 6726, 4.0: 6726, 5.0: 6726, 6.0: 6726, 7.0: 6726, 8.0: 6726})\n",
            "CNN, Fold number:  5\n"
          ],
          "name": "stdout"
        },
        {
          "output_type": "stream",
          "text": [
            "/usr/local/lib/python3.7/dist-packages/sklearn/utils/deprecation.py:87: FutureWarning: Function safe_indexing is deprecated; safe_indexing is deprecated in version 0.22 and will be removed in version 0.24.\n",
            "  warnings.warn(msg, category=FutureWarning)\n"
          ],
          "name": "stderr"
        },
        {
          "output_type": "stream",
          "text": [
            "567/567 [==============================] - 1s 1ms/step\n",
            "XGB, Fold number:  5\n"
          ],
          "name": "stdout"
        },
        {
          "output_type": "stream",
          "text": [
            "/usr/local/lib/python3.7/dist-packages/sklearn/metrics/_classification.py:1272: UndefinedMetricWarning: Precision is ill-defined and being set to 0.0 in labels with no predicted samples. Use `zero_division` parameter to control this behavior.\n",
            "  _warn_prf(average, modifier, msg_start, len(result))\n"
          ],
          "name": "stderr"
        },
        {
          "output_type": "stream",
          "text": [
            "Counter({1.0: 62515, 2.0: 6727, 3.0: 6047, 5.0: 5941, 8.0: 5853, 4.0: 2120, 7.0: 818, 6.0: 669})\n",
            "6727\n",
            "62515\n"
          ],
          "name": "stdout"
        },
        {
          "output_type": "stream",
          "text": [
            "/usr/local/lib/python3.7/dist-packages/sklearn/utils/deprecation.py:87: FutureWarning: Function safe_indexing is deprecated; safe_indexing is deprecated in version 0.22 and will be removed in version 0.24.\n",
            "  warnings.warn(msg, category=FutureWarning)\n",
            "/usr/local/lib/python3.7/dist-packages/sklearn/utils/deprecation.py:87: FutureWarning: Function safe_indexing is deprecated; safe_indexing is deprecated in version 0.22 and will be removed in version 0.24.\n",
            "  warnings.warn(msg, category=FutureWarning)\n",
            "/usr/local/lib/python3.7/dist-packages/sklearn/utils/deprecation.py:87: FutureWarning: Function safe_indexing is deprecated; safe_indexing is deprecated in version 0.22 and will be removed in version 0.24.\n",
            "  warnings.warn(msg, category=FutureWarning)\n",
            "/usr/local/lib/python3.7/dist-packages/sklearn/utils/deprecation.py:87: FutureWarning: Function safe_indexing is deprecated; safe_indexing is deprecated in version 0.22 and will be removed in version 0.24.\n",
            "  warnings.warn(msg, category=FutureWarning)\n",
            "/usr/local/lib/python3.7/dist-packages/sklearn/utils/deprecation.py:87: FutureWarning: Function safe_indexing is deprecated; safe_indexing is deprecated in version 0.22 and will be removed in version 0.24.\n",
            "  warnings.warn(msg, category=FutureWarning)\n",
            "/usr/local/lib/python3.7/dist-packages/sklearn/utils/deprecation.py:87: FutureWarning: Function safe_indexing is deprecated; safe_indexing is deprecated in version 0.22 and will be removed in version 0.24.\n",
            "  warnings.warn(msg, category=FutureWarning)\n"
          ],
          "name": "stderr"
        },
        {
          "output_type": "stream",
          "text": [
            "Counter({1.0: 62515, 2.0: 6727, 8.0: 6727, 3.0: 6727, 5.0: 6727, 4.0: 6727, 6.0: 6727, 7.0: 6727})\n",
            "Counter({1.0: 6727, 2.0: 6727, 3.0: 6727, 4.0: 6727, 5.0: 6727, 6.0: 6727, 7.0: 6727, 8.0: 6727})\n",
            "CNN, Fold number:  6\n"
          ],
          "name": "stdout"
        },
        {
          "output_type": "stream",
          "text": [
            "/usr/local/lib/python3.7/dist-packages/sklearn/utils/deprecation.py:87: FutureWarning: Function safe_indexing is deprecated; safe_indexing is deprecated in version 0.22 and will be removed in version 0.24.\n",
            "  warnings.warn(msg, category=FutureWarning)\n"
          ],
          "name": "stderr"
        },
        {
          "output_type": "stream",
          "text": [
            "567/567 [==============================] - 1s 2ms/step\n",
            "XGB, Fold number:  6\n"
          ],
          "name": "stdout"
        },
        {
          "output_type": "stream",
          "text": [
            "/usr/local/lib/python3.7/dist-packages/sklearn/metrics/_classification.py:1272: UndefinedMetricWarning: Precision is ill-defined and being set to 0.0 in labels with no predicted samples. Use `zero_division` parameter to control this behavior.\n",
            "  _warn_prf(average, modifier, msg_start, len(result))\n"
          ],
          "name": "stderr"
        }
      ]
    },
    {
      "cell_type": "code",
      "metadata": {
        "colab": {
          "base_uri": "https://localhost:8080/",
          "height": 933
        },
        "id": "1dkf6WVAaS30",
        "outputId": "297c6b81-d16f-4ff9-fdbc-9619367bfe11"
      },
      "source": [
        "CNN_results = perform_metrics('CNN', cnn_acc_list, cnn_pre_list, cnn_rec_list, cnn_f1_list, cnn_conf_list)\n",
        "XGB_results = perform_metrics('XGB', xgb_acc_list, xgb_pre_list, xgb_rec_list, xgb_f1_list, xgb_conf_list)"
      ],
      "execution_count": 12,
      "outputs": [
        {
          "output_type": "stream",
          "text": [
            "Classifier Name:  CNN\n",
            "accuracy mean:  0.894  std:  0.007\n",
            "precision:  0.889  std:  0.009\n",
            "recall:  0.894  std:  0.007\n",
            "f1score:  0.886  std:  0.007\n",
            "Classifier Name:  XGB\n",
            "accuracy mean:  0.927  std:  0.002\n",
            "precision:  0.953  std:  0.002\n",
            "recall:  0.927  std:  0.002\n",
            "f1score:  0.936  std:  0.002\n"
          ],
          "name": "stdout"
        },
        {
          "output_type": "display_data",
          "data": {
            "image/png": "[encoded data removed]",
            "text/plain": [
              "<Figure size 576x432 with 2 Axes>"
            ]
          },
          "metadata": {
            "tags": [],
            "needs_background": "light"
          }
        },
        {
          "output_type": "display_data",
          "data": {
            "image/png": "[encoded data removed]",
            "text/plain": [
              "<Figure size 576x432 with 2 Axes>"
            ]
          },
          "metadata": {
            "tags": [],
            "needs_background": "light"
          }
        }
      ]
    },
    {
      "cell_type": "code",
      "metadata": {
        "colab": {
          "base_uri": "https://localhost:8080/"
        },
        "id": "UZGu8KtSaeXU",
        "outputId": "1cc59bd5-06e0-46ca-fd04-15e003f769c2"
      },
      "source": [
        "crossval_results = pd.DataFrame(data = (CNN_results, XGB_results))\n",
        "\n",
        "if not os.path.exists(path + 'metric_results/smote'):\n",
        "  os.makedirs(path + 'metric_results/smote')\n",
        "\n",
        "print(crossval_results)\n",
        "crossval_results.to_csv(path + 'metric_results/smote/crossval_results.csv', encoding='utf-8', index=False)\n",
        "\n"
      ],
      "execution_count": 13,
      "outputs": [
        {
          "output_type": "stream",
          "text": [
            "     0      1      2      3      4      5      6      7      8\n",
            "0  CNN  0.894  0.007  0.889  0.009  0.894  0.007  0.886  0.007\n",
            "1  XGB  0.927  0.002  0.953  0.002  0.927  0.002  0.936  0.002\n"
          ],
          "name": "stdout"
        }
      ]
    },
    {
      "cell_type": "code",
      "metadata": {
        "id": "eShGH_o5ax70"
      },
      "source": [
        "if not os.path.exists(path + 'metric_results/smote/cnn'):\n",
        "  os.makedirs(path + 'metric_results/smote/cnn')\n",
        "\n",
        "cnn_unsamp = path + 'metric_results/smote/cnn/'\n",
        "CNN_acc = pd.DataFrame(cnn_acc_list)\n",
        "CNN_acc.to_csv(cnn_unsamp + 'CNN_acc.csv', encoding='utf-8', index=False)\n",
        "\n",
        "CNN_pre = pd.DataFrame(cnn_pre_list)\n",
        "CNN_pre.to_csv(cnn_unsamp + 'CNN_pre.csv', encoding='utf-8', index=False)\n",
        "\n",
        "CNN_rec = pd.DataFrame(cnn_rec_list)\n",
        "CNN_rec.to_csv(cnn_unsamp +'CNN_rec.csv', encoding='utf-8', index=False)\n",
        "\n",
        "CNN_f1s = pd.DataFrame(cnn_f1_list)\n",
        "CNN_f1s.to_csv(cnn_unsamp +'CNN_f1s.csv', encoding='utf-8', index=False)"
      ],
      "execution_count": 14,
      "outputs": []
    },
    {
      "cell_type": "code",
      "metadata": {
        "id": "S_93wM2Wa99P"
      },
      "source": [
        "if not os.path.exists(path + 'metric_results/smote/xgb'):\n",
        "  os.makedirs(path + 'metric_results/smote/xgb')\n",
        "\n",
        "xgb_unsamp = path + 'metric_results/smote/xgb/'\n",
        "XGB_acc = pd.DataFrame(xgb_acc_list)\n",
        "XGB_acc.to_csv(xgb_unsamp + 'XGB_acc.csv', encoding='utf-8', index=False)\n",
        "\n",
        "XGB_pre = pd.DataFrame(xgb_pre_list)\n",
        "XGB_pre.to_csv(xgb_unsamp + 'XGB_pre.csv', encoding='utf-8', index=False)\n",
        "\n",
        "XGB_rec = pd.DataFrame(xgb_rec_list)\n",
        "XGB_rec.to_csv(xgb_unsamp +'XGB_rec.csv', encoding='utf-8', index=False)\n",
        "\n",
        "XGB_f1s = pd.DataFrame(xgb_f1_list)\n",
        "XGB_f1s.to_csv(xgb_unsamp +'XGB_f1s.csv', encoding='utf-8', index=False)"
      ],
      "execution_count": 15,
      "outputs": []
    },
    {
      "cell_type": "markdown",
      "metadata": {
        "id": "w-p4MZ2SKFyy"
      },
      "source": [
        "## Sampled with VAE Synthetic Data"
      ]
    },
    {
      "cell_type": "code",
      "metadata": {
        "id": "wTYUxRWJKKJW"
      },
      "source": [
        "def downsample(arr,n,seed):\n",
        "    downsampled = slu.resample(arr,replace=False,n_samples=n,random_state=seed)\n",
        "    return downsampled\n",
        "\n",
        "def resample_vae(train_vals, synth_model):\n",
        "  # compute number of values per class\n",
        "  anno = train_vals[:,-1]\n",
        "  normal = train_vals[anno == 1.0]\n",
        "  lbbb = train_vals[anno == 2.0]\n",
        "  rbbb = train_vals[anno == 3.0]\n",
        "  apb = train_vals[anno == 4.0]\n",
        "  pvc = train_vals[anno == 5.0]\n",
        "  fvn = train_vals[anno == 6.0]\n",
        "  fpn = train_vals[anno == 7.0]\n",
        "  paced = train_vals[anno == 8.0]\n",
        "\n",
        "\n",
        "  abnormal = [lbbb,rbbb,apb,pvc,fvn,fpn,paced]\n",
        "  list_len = [len(i) for i in abnormal]\n",
        "  print(list_len)\n",
        "  print(len(normal))\n",
        "  all_classes = [normal,lbbb,rbbb,apb,pvc,fvn,fpn,paced]\n",
        "\n",
        "  num_of_vals = np.mean(list_len, dtype=int)\n",
        "  print(num_of_vals)\n",
        "\n",
        "  # downsample all classes to <= num_of_vals/2\n",
        "  sampled_data = []\n",
        "  for i in all_classes:\n",
        "    # print(i.shape[0])\n",
        "    if i.shape[0] > num_of_vals//2:\n",
        "        i = downsample(i, num_of_vals//2,42)\n",
        "    sampled_data.append(i)\n",
        "\n",
        "  print(len(sampled_data))\n",
        "\n",
        "\n",
        "  #segregate synth data into classes\n",
        "  anno = synth_model[:,-1]\n",
        "  normal_synth = synth_model[anno == 1.0]\n",
        "  lbbb_synth = synth_model[anno == 2.0]\n",
        "  rbbb_synth = synth_model[anno == 3.0]\n",
        "  apb_synth = synth_model[anno == 4.0]\n",
        "  pvc_synth = synth_model[anno == 5.0]\n",
        "  fvn_synth = synth_model[anno == 6.0]\n",
        "  fpn_synth = synth_model[anno == 7.0]\n",
        "  paced_synth = synth_model[anno == 8.0]\n",
        "\n",
        "  all_classes_synth = [normal_synth,lbbb_synth,rbbb_synth,apb_synth,pvc_synth,fvn_synth,fpn_synth,paced_synth]\n",
        "\n",
        "  print(all_classes_synth[0].shape)\n",
        "\n",
        "  # add the difference between the num of vals and downsampled real values to each class\n",
        "  synth_real_data = []\n",
        "  for i in range(len(sampled_data)):\n",
        "    diff = num_of_vals - sampled_data[i].shape[0]\n",
        "    # print(diff)\n",
        "    synth_samps = all_classes_synth[i][np.random.choice(all_classes_synth[i].shape[0], diff, replace=False),:]\n",
        "    # print(synth_samps.shape)\n",
        "    # synth_samps = all_classes_synth[i][:diff]\n",
        "    mixed = np.concatenate((sampled_data[i], synth_samps))\n",
        "    # print(sampled_data[i].shape)\n",
        "    synth_real_data.append(mixed)\n",
        "\n",
        "  print(len(i) for i in synth_real_data)\n",
        "\n",
        "  # combine into one array and shuffle to produce mix of synth and real data per class\n",
        "  synth_real_arr = np.concatenate(synth_real_data, axis=0)\n",
        "  np.random.shuffle(synth_real_arr)\n",
        "  print(synth_real_arr.shape)\n",
        "\n",
        "  return synth_real_arr\n",
        "\n"
      ],
      "execution_count": null,
      "outputs": []
    },
    {
      "cell_type": "code",
      "metadata": {
        "id": "eaLleQHzPb5o"
      },
      "source": [
        "mlii = np.loadtxt(path+'train_unsampled_mlii/mlii.csv', delimiter=',')\n",
        "print(mlii.shape)\n",
        "\n",
        "np.random.shuffle(mlii)\n",
        "\n",
        "X = mlii[:,:-3]\n",
        "y = mlii[:,-3]\n",
        "print(X.shape, y.shape)"
      ],
      "execution_count": null,
      "outputs": []
    },
    {
      "cell_type": "code",
      "metadata": {
        "id": "-dnJLQmKXoUH"
      },
      "source": [
        "inputs = X\n",
        "targets = y\n",
        "categories=['N', 'L', 'R', 'A', 'V', 'F', 'f','P']\n"
      ],
      "execution_count": null,
      "outputs": []
    },
    {
      "cell_type": "code",
      "metadata": {
        "id": "VEC-uXWIXsjE"
      },
      "source": [
        "cnn_acc_list = []\n",
        "cnn_pre_list = []\n",
        "cnn_rec_list = []\n",
        "cnn_f1_list = []\n",
        "cnn_conf_list = []\n",
        "\n",
        "xgb_acc_list = []\n",
        "xgb_pre_list = []\n",
        "xgb_rec_list = []\n",
        "xgb_f1_list = []\n",
        "xgb_conf_list = []\n",
        "\n",
        "from sklearn.utils import resample\n",
        "from xgboost import XGBClassifier\n",
        "\n",
        "fold_no = 1\n",
        "\n",
        "for train, test in kfold.split(inputs, targets):\n",
        "  # N = train[targets[train]==1.0]\n",
        "  # L = train[targets[train]==2.0]\n",
        "  # R = train[targets[train]==3.0]\n",
        "  # A = train[targets[train]==4.0]\n",
        "  # V = train[targets[train]==5.0]\n",
        "  # F = train[targets[train]==6.0]\n",
        "  # f = train[targets[train]==7.0]\n",
        "  # P = train[targets[train]==8.0]\n",
        "\n",
        "  # seed = 42\n",
        "\n",
        "  xtr, xte = inputs[train], inputs[test]\n",
        "  ytr, yte = targets[train], targets[test]\n",
        "\n",
        "  ytr_res = ytr.reshape(-1,1)\n",
        "\n",
        "  train_vals = np.concatenate((xtr, ytr_res), axis=1)\n",
        "  print(train_vals.shape)\n",
        "\n",
        "  new_train_vals = resample_vae(train_vals, cnn_sparse_synth)\n",
        "\n",
        "  xtr_new = new_train_vals[:,:-1]\n",
        "  ytr_new = new_train_vals[:,-1]\n",
        "  verbose, epoch, batch_size = 0, 10, 128\n",
        "  inputs_3d_tr = xtr_new.reshape(-1, xtr_new.shape[1],1)\n",
        "  inputs_3d_te = xte.reshape(-1, xte.shape[1],1)\n",
        "  targets_cat_tr = to_categorical(ytr_new) \n",
        "  targets_cat_te = to_categorical(yte)\n",
        "  cnnmodel = Sequential()\n",
        "  cnnmodel.add(Conv1D(filters=128, kernel_size=2, activation='relu',input_shape=(inputs_3d_tr.shape[1],inputs_3d_tr.shape[2])))\n",
        "  cnnmodel.add(MaxPooling1D(pool_size=2))\n",
        "  cnnmodel.add(Conv1D(filters=64, kernel_size=2, activation='relu'))\n",
        "  cnnmodel.add(MaxPooling1D(pool_size=2))\n",
        "  cnnmodel.add(Conv1D(filters=32, kernel_size=2, activation='relu'))\n",
        "  cnnmodel.add(MaxPooling1D(pool_size=2))\n",
        "  cnnmodel.add(Conv1D(filters=16, kernel_size=2, activation='relu'))\n",
        "  cnnmodel.add(MaxPooling1D(pool_size=2))\n",
        "  cnnmodel.add(Dropout(rate=0.2))\n",
        "  cnnmodel.add(Flatten())\n",
        "  cnnmodel.add(Dense(64, activation='relu'))\n",
        "  cnnmodel.add(Dense(32, activation='relu'))\n",
        "  cnnmodel.add(Dense(9, activation='softmax'))\n",
        "  cnnmodel.compile(optimizer='adam', loss='categorical_crossentropy',metrics=['accuracy'])\n",
        "\n",
        "  print('CNN, Fold number: ', fold_no)\n",
        "  model = cnnmodel.fit(inputs_3d_tr, targets_cat_tr, epochs=epoch, validation_split=0.2, verbose=verbose,batch_size=batch_size)\n",
        "  cnnpredictions = cnnmodel.predict(inputs_3d_te, verbose=1)\n",
        "  y_pred_cnn = np.argmax(cnnpredictions, axis=1)\n",
        "  cnn_actual = np.argmax(targets_cat_te, axis=1)\n",
        "\n",
        "  cnn_acc_list.append(accuracy_score(cnn_actual, y_pred_cnn))\n",
        "  cnn_pre_list.append(precision_score(cnn_actual, y_pred_cnn, average='weighted'))\n",
        "  cnn_rec_list.append(recall_score(cnn_actual, y_pred_cnn, average='weighted'))\n",
        "  cnn_f1_list.append(f1_score(cnn_actual, y_pred_cnn, average='weighted'))\n",
        "  cnn_cm = confusion_matrix(cnn_actual, y_pred_cnn)\n",
        "  cnn_cm = cnn_cm.astype('float')/ cnn_cm.sum(axis=1)[:,np.newaxis]\n",
        "  cnn_conf_list.append(cnn_cm)\n",
        "\n",
        "\n",
        "\n",
        "  print('XGB, Fold number: ', fold_no)\n",
        "  model = XGBClassifier()\n",
        "  model.fit(xtr_new, ytr_new,verbose=2)\n",
        "\n",
        "\n",
        "  y_pred_xgb = model.predict(xte)\n",
        "  \n",
        "  xgb_acc_list.append(accuracy_score(yte, y_pred_xgb))\n",
        "  xgb_pre_list.append(precision_score(yte, y_pred_xgb, average='weighted'))\n",
        "  xgb_rec_list.append(recall_score(yte, y_pred_xgb, average='weighted'))\n",
        "  xgb_f1_list.append(f1_score(yte, y_pred_xgb, average='weighted'))\n",
        "  xgb_cm = confusion_matrix(yte, y_pred_xgb)\n",
        "  xgb_cm = xgb_cm.astype('float')/ xgb_cm.sum(axis=1)[:,np.newaxis]\n",
        "  xgb_conf_list.append(xgb_cm)\n",
        "\n",
        "  fold_no +=1\n"
      ],
      "execution_count": null,
      "outputs": []
    },
    {
      "cell_type": "code",
      "metadata": {
        "id": "xtSreDIFYATz"
      },
      "source": [
        "CNN_results = perform_metrics('CNN', cnn_acc_list, cnn_pre_list, cnn_rec_list, cnn_f1_list, cnn_conf_list)\n",
        "XGB_results = perform_metrics('XGB', xgb_acc_list, xgb_pre_list, xgb_rec_list, xgb_f1_list, xgb_conf_list)"
      ],
      "execution_count": null,
      "outputs": []
    },
    {
      "cell_type": "code",
      "metadata": {
        "id": "Ta7RHtftfdXY"
      },
      "source": [
        "crossval_results = pd.DataFrame(data = (CNN_results, XGB_results))\n",
        "\n",
        "if not os.path.exists(path + 'metric_results/mixed/cnn_sparse_synth'):\n",
        "  os.makedirs(path + 'metric_results/mixed/cnn_sparse_synth')\n",
        "\n",
        "print(crossval_results)\n",
        "crossval_results.to_csv(path + 'metric_results/mixed/cnn_sparse_synth/crossval_results.csv', encoding='utf-8', index=False)\n",
        "\n"
      ],
      "execution_count": null,
      "outputs": []
    },
    {
      "cell_type": "code",
      "metadata": {
        "id": "UKKLfNVQe202"
      },
      "source": [
        "if not os.path.exists(path + 'metric_results/mixed/cnn_sparse_synth/cnn'):\n",
        "  os.makedirs(path + 'metric_results/mixed/cnn_sparse_synth/cnn')\n",
        "\n",
        "cnn_unsamp = path + 'metric_results/mixed/cnn_sparse_synth/cnn/'\n",
        "CNN_acc = pd.DataFrame(cnn_acc_list)\n",
        "CNN_acc.to_csv(cnn_unsamp + 'CNN_acc.csv', encoding='utf-8', index=False)\n",
        "\n",
        "CNN_pre = pd.DataFrame(cnn_pre_list)\n",
        "CNN_pre.to_csv(cnn_unsamp + 'CNN_pre.csv', encoding='utf-8', index=False)\n",
        "\n",
        "CNN_rec = pd.DataFrame(cnn_rec_list)\n",
        "CNN_rec.to_csv(cnn_unsamp +'CNN_rec.csv', encoding='utf-8', index=False)\n",
        "\n",
        "CNN_f1s = pd.DataFrame(cnn_f1_list)\n",
        "CNN_f1s.to_csv(cnn_unsamp +'CNN_f1s.csv', encoding='utf-8', index=False)"
      ],
      "execution_count": null,
      "outputs": []
    },
    {
      "cell_type": "code",
      "metadata": {
        "id": "_wyftsFN2vUQ"
      },
      "source": [
        "if not os.path.exists(path + 'metric_results/mixed/cnn_sparse_synth/xgb'):\n",
        "  os.makedirs(path + 'metric_results/mixed/cnn_sparse_synth/xgb')\n",
        "\n",
        "xgb_unsamp = path + 'metric_results/mixed/cnn_sparse_synth/xgb/'\n",
        "XGB_acc = pd.DataFrame(xgb_acc_list)\n",
        "XGB_acc.to_csv(xgb_unsamp + 'XGB_acc.csv', encoding='utf-8', index=False)\n",
        "\n",
        "XGB_pre = pd.DataFrame(xgb_pre_list)\n",
        "XGB_pre.to_csv(xgb_unsamp + 'XGB_pre.csv', encoding='utf-8', index=False)\n",
        "\n",
        "XGB_rec = pd.DataFrame(xgb_rec_list)\n",
        "XGB_rec.to_csv(xgb_unsamp +'XGB_rec.csv', encoding='utf-8', index=False)\n",
        "\n",
        "XGB_f1s = pd.DataFrame(xgb_f1_list)\n",
        "XGB_f1s.to_csv(xgb_unsamp +'XGB_f1s.csv', encoding='utf-8', index=False)"
      ],
      "execution_count": null,
      "outputs": []
    },
    {
      "cell_type": "code",
      "metadata": {
        "id": "xBvp5qe13d3V"
      },
      "source": [
        ""
      ],
      "execution_count": null,
      "outputs": []
    }
  ]
}