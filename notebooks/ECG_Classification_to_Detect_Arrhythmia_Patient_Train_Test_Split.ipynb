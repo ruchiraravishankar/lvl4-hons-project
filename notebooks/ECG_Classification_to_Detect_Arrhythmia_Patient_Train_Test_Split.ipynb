{
  "nbformat": 4,
  "nbformat_minor": 0,
  "metadata": {
    "colab": {
      "name": "ECG Classification to Detect Arrhythmia - Patient Train Test Split.ipynb",
      "provenance": [],
      "toc_visible": true
    },
    "kernelspec": {
      "display_name": "Python 3",
      "language": "python",
      "name": "python3"
    },
    "language_info": {
      "codemirror_mode": {
        "name": "ipython",
        "version": 3
      },
      "file_extension": ".py",
      "mimetype": "text/x-python",
      "name": "python",
      "nbconvert_exporter": "python",
      "pygments_lexer": "ipython3",
      "version": "3.7.1"
    }
  },
  "cells": [
    {
      "cell_type": "code",
      "metadata": {
        "id": "FdaGDfPPeMAp"
      },
      "source": [
        "import os\n",
        "import sys\n",
        "from glob import glob\n",
        "import numpy as np\n",
        "import pandas as pd\n",
        "# import wfdb\n",
        "# import biosignalsnotebooks as bsnb\n",
        "# from wfdb import processing\n",
        "from matplotlib import pyplot as plt\n",
        "# from scipy import signal\n",
        "# from biosppy.signals import ecg\n",
        "np.set_printoptions(threshold=sys.maxsize)\n",
        "import umap\n",
        "import sklearn.utils as slu\n",
        "# from sklearn.model_selection import LeaveOneOut"
      ],
      "execution_count": 1,
      "outputs": []
    },
    {
      "cell_type": "code",
      "metadata": {
        "id": "a_eUxbyZeMAv"
      },
      "source": [
        "# from sklearn.manifold import TSNE"
      ],
      "execution_count": 2,
      "outputs": []
    },
    {
      "cell_type": "code",
      "metadata": {
        "colab": {
          "base_uri": "https://localhost:8080/"
        },
        "id": "hlTd1KZH2-RF",
        "outputId": "9be508a8-93d7-48f0-8c14-df3acce6df2c"
      },
      "source": [
        "from google.colab import drive\n",
        "drive.mount('/content/drive')"
      ],
      "execution_count": 3,
      "outputs": [
        {
          "output_type": "stream",
          "text": [
            "Mounted at /content/drive\n"
          ],
          "name": "stdout"
        }
      ]
    },
    {
      "cell_type": "code",
      "metadata": {
        "id": "fcLt2KTreMA2"
      },
      "source": [
        "# store = '/Users/ruchira/Documents/lvl_4_project/lvl4-hons-project/mit-bih-arrhythmia-database-1.0.0/100'\n",
        "# record = wfdb.rdrecord(store, sampto=100)\n",
        "# # wfdb.plot_wfdb(record, title='Record 100 from MIT-BIH Arrhythmia database') \n",
        "# display(record.__dict__)"
      ],
      "execution_count": null,
      "outputs": []
    },
    {
      "cell_type": "code",
      "metadata": {
        "id": "G3gOcUYPeMA5"
      },
      "source": [
        "# data, header = bsnb.load_signal(\"ecg_4000_Hz\", get_header=True)"
      ],
      "execution_count": null,
      "outputs": []
    },
    {
      "cell_type": "code",
      "metadata": {
        "id": "r-XafmFheMA8"
      },
      "source": [
        "# sig, fields = wfdb.rdsamp(store, channels=[0])\n",
        "# xqrs = processing.XQRS(sig=sig[:,0], fs=fields['fs'])\n",
        "# xqrs.detect()\n",
        "# wfdb.plot_items(signal=sig, ann_samp=[xqrs.qrs_inds])"
      ],
      "execution_count": null,
      "outputs": []
    },
    {
      "cell_type": "code",
      "metadata": {
        "id": "Q-c3cwUIeMA_",
        "scrolled": true
      },
      "source": [
        "# file_path = glob.glob('./mit-bih-arrhythmia-database-1.0.0/*.atr')\n",
        "# files = [i[:-4] for i in file_path]\n",
        "# files.sort()\n",
        "\n",
        "\n",
        "# file = './mit-bih-arrhythmia-database-1.0.0/100'\n",
        "\n",
        "# ann_ref = wfdb.rdann(file, 'atr')\n",
        "\n",
        "# number_of_rpeaks = len(ann_ref.symbol)\n",
        "\n",
        "# values = np.zeros((48,2))\n",
        "# classes = ['N','R','L','V','A','E']\n",
        "# for i in range(len(files)):\n",
        "#     signals, fields = wfdb.rdsamp(files[i])\n",
        "#     annotation = wfdb.rdann(files[i], 'atr')\n",
        "#     for j in classes:\n",
        "#         ids = np.in1d(annotation.symbol, j)\n",
        "#         beats = annotation.sample[ids]\n",
        "#         values[i] = [j,len(beats)]\n",
        "\n",
        "# print(values)\n",
        "\n",
        "\n",
        "\n",
        "# n = ['N']\n",
        "# v = ['V']\n",
        "\n",
        "# check_normal = np.in1d(ann_ref.symbol, n)\n",
        "# check_v = np.in1d(ann_ref.symbol, v)\n",
        "\n",
        "# normal_beats = ann_ref.sample[check_normal]\n",
        "# v_beats = ann_ref.sample[check_v]\n",
        "\n",
        "# print(len(check_normal))\n",
        "\n",
        "# comparitor = processing.compare_annotations(ann_ref.sample[1:], xqrs.qrs_inds, int(0.1 * fields['fs']), sig[:,0])\n",
        "# comparitor.print_summary()\n",
        "# comparitor.plot()"
      ],
      "execution_count": null,
      "outputs": []
    },
    {
      "cell_type": "code",
      "metadata": {
        "id": "lK_67AXMeMBB"
      },
      "source": [
        "\n",
        "# def get_data(path):\n",
        "#     file_path = glob(path)\n",
        "#     files = [i[:-4] for i in file_path]\n",
        "#     files.sort()\n",
        "#     return files"
      ],
      "execution_count": null,
      "outputs": []
    },
    {
      "cell_type": "markdown",
      "metadata": {
        "id": "QR8hxGjSeMBF"
      },
      "source": [
        "## Histogram"
      ]
    },
    {
      "cell_type": "code",
      "metadata": {
        "id": "bb7i_8-qeMBF"
      },
      "source": [
        "\n",
        "# print(len(get_data()))\n",
        "# path = '/Users/ruchira/Documents/lvl_4_project/lvl4-hons-project/mit-bih-arrhythmia-database-1.0.0/*.atr'\n",
        "# file_list = get_data(path)\n",
        "\n",
        "# ann_list = []\n",
        "# for i in range(len(file_list)): #going through each of the 48 files...\n",
        "#     data_file = file_list[i] #one file of the 48\n",
        "#     record = wfdb.rdsamp(data_file)  #returns an array of the sample\n",
        "#     ann_ref = wfdb.rdann(data_file, 'atr') #reading annotations in the file\n",
        "#     ann_list.extend(ann_ref.symbol)\n",
        "    \n",
        "# ann_array = np.array(ann_list)\n",
        "# print(ann_array.shape)\n",
        "# # annp = wfdb.rdann(file_list[7], 'atr')\n",
        "# # print(len(annp.symbol))\n",
        "# # print(annp.label_store)\n",
        "\n",
        "\n",
        "\n",
        "# actual_beats = ['N','L','R','B','A','a','J','S','V','r',\n",
        "#              'F','e','j','n','E','/','f','Q','?']\n",
        "\n",
        "# ann_dict = {}\n",
        "\n",
        "# for i in ann_array:\n",
        "#     ann_dict[i] = ann_dict.get(i,0)+1\n",
        "\n",
        "# ann_dict = {k:v for k,v in ann_dict.items() if k in actual_beats}\n",
        "\n",
        "\n",
        "# plt.figure(figsize=(12,8))\n",
        "\n",
        "# xlocs, xlabs = plt.xticks()\n",
        "\n",
        "# bars = plt.bar(list(ann_dict.keys()), ann_dict.values(), width=.7)\n",
        "# plt.title(\"Heart beat classification by annotation\")\n",
        "# xlocs = [i for i in ann_dict.keys()]\n",
        "# ylabs = [i for i in ann_dict.values()]\n",
        "\n",
        "# plt.xlabel(\"Annotations\")\n",
        "# plt.ylabel(\"Number of beats\")\n",
        "\n",
        "# for bar in bars:\n",
        "#     yval = bar.get_height()\n",
        "#     plt.text(bar.get_x(), yval + 300, yval)\n",
        "    \n",
        "\n",
        "# redundant code\n",
        "# xlocs = [i/2 for i in range(len(ann_dict.keys()))]\n",
        "# for i, v in enumerate(ann_dict.values()):\n",
        "#     plt.text((xlocs[i] - 0.25, v + 0.01, str(v)))\n",
        "\n",
        "# print(np.array(ann_ref.symbol).shape)\n",
        "# print(record[1].get('fs'))\n",
        "# print(record[0].shape)\n",
        "# print(len(ann_ref.num)) #prints number of annotations (no of beats) \n",
        "# # num is the labelled annotation number for each annotation\n",
        "# print(ann_ref.symbol)"
      ],
      "execution_count": null,
      "outputs": []
    },
    {
      "cell_type": "markdown",
      "metadata": {
        "id": "hCIWmtl0eMBI"
      },
      "source": [
        "## Visualising the Data per Patient"
      ]
    },
    {
      "cell_type": "code",
      "metadata": {
        "id": "ZNDCTBOFeMBJ"
      },
      "source": [
        "#Visualising the data\n",
        "# file_index = 0 #0 to 47 files in the database\n",
        "\n",
        "# current_file = file_list[file_index]\n",
        "\n",
        "# record = wfdb.rdsamp(current_file)\n",
        "# ann_ref = wfdb.rdann(current_file, 'atr')\n",
        "\n",
        "\n",
        "\n",
        "# samp_start = 0\n",
        "# samp_end = 6500\n",
        "# samples = samp_end - samp_start\n",
        "# #picking first record, picking first channel, \n",
        "# #going from samp_start to samp_end in that channel\n",
        "# channel = record[0][samp_start:samp_end, 1]\n",
        "# #record is coming fromt the FIRST cell using the first file, change it there to see next file\n",
        "# time = (np.arange(samples, dtype='float')+ samp_start)/record[1].get('fs')\n",
        "\n",
        "# plt.figure(figsize=(20,10))\n",
        "# plt.plot(time,channel)\n",
        "\n",
        "\n",
        "# peak_location=np.logical_and(ann_ref.sample >= samp_start, ann_ref.sample < samp_end)\n",
        "# #.sample returns a numpy array containing the annotation locations in samples relative to the beginning of the record\n",
        "# #i.e., where each beat is\n",
        "# anns = ann_ref.sample[peak_location] - samp_start\n",
        "# ann_types = np.array(ann_ref.symbol)\n",
        "# req_ann_types = ann_types[peak_location]\n",
        "# print(ann_types.shape, req_ann_types.shape)\n",
        "\n",
        "\n",
        "# ann_time = time[anns]\n",
        "# plt.plot(ann_time, np.ones_like(ann_time)*channel.max()*1.4,'ro')\n",
        "\n",
        "\n",
        "# for index, annotation in enumerate(anns):\n",
        "#     plt.annotate(ann_types[index], xy = (time[annotation], channel.max()*1.1))\n",
        "\n",
        "    \n",
        "# plt.xlim([samp_start / record[1].get('fs'), (samp_end/record[1].get('fs'))+1])\n",
        "# plt.xlabel('offset')\n",
        "# plt.ylabel(record[1].get('sig_name')[1])\n",
        "# plt.show()\n",
        "# q = np.array([[1,2,3,4,5,6],[7,8,9,10,11,12]])\n",
        "# print(q.shape)\n",
        "# for i, z in enumerate(q):\n",
        "#     print(z)"
      ],
      "execution_count": null,
      "outputs": []
    },
    {
      "cell_type": "code",
      "metadata": {
        "id": "vi0_GtwVeMBN",
        "scrolled": true
      },
      "source": [
        "\n",
        "# for file in file_list:\n",
        "#     path = file.split('/')\n",
        "#     fn = path[-1]\n",
        "#     record = wfdb.rdsamp(file)\n",
        "#     ecg_val = record[0].T\n",
        "#     ann_ref = wfdb.rdann(file,'atr')\n",
        "\n",
        "#     ann_list = np.array(ann_ref.symbol)\n",
        "#     ann_number = np.zeros_like(ann_list, dtype='float')\n",
        "    \n",
        "#     for annid, anno in enumerate(ann_list):\n",
        "#         if anno == 'N':\n",
        "#             ann_number[annid] = 1.0\n",
        "#         elif anno == 'L':\n",
        "#             ann_number[annid] = 2.0\n",
        "#         elif anno == 'R':\n",
        "#             ann_number[annid] = 3.0\n",
        "#         elif anno == 'A':\n",
        "#             ann_number[annid] = 4.0\n",
        "#         elif anno == 'V':\n",
        "#             ann_number[annid] = 5.0\n",
        "#         elif anno == 'F':\n",
        "#             ann_number[annid] = 6.0\n",
        "#         elif anno == 'f':\n",
        "#             ann_number[annid] = 7.0\n",
        "#         elif anno == '/':\n",
        "#             ann_number[annid] = 8.0\n",
        "#     all_ann_numbers = np.zeros_like(ecg_val[0], dtype='float')\n",
        "#     all_ann_numbers[ann_ref.sample] = ann_number\n",
        "\n",
        "#     for ch_id, channel in enumerate(ecg_val): #enumerates the 2 channels - so 0 and 1\n",
        "#         channel_name = record[1].get('sig_name')[ch_id]\n",
        "#         print(\"ECG channel: \", channel_name)\n",
        "        \n",
        "#         ecg_output = ecg.ecg(signal=channel, sampling_rate=360, show=False)\n",
        "#         rpeaks = np.zeros_like(channel, dtype='float')\n",
        "#         rpeaks[ecg_output['rpeaks']] = 1.0\n",
        "        \n",
        "\n",
        "#         all_beats = np.array(np.split(channel, ecg_output['rpeaks']))\n",
        "\n",
        "#         remove_beats = [0]\n",
        "#         for i, i_val in enumerate(ecg_output['rpeaks']):\n",
        "#             first = i == 0\n",
        "#             last = i == len(all_beats) - 1\n",
        "            \n",
        "#             if first or last:\n",
        "#                 continue\n",
        "            \n",
        "#             if i_val < 10:\n",
        "#                 from_i = 0\n",
        "#             else:\n",
        "#                 from_i = i_val - 10\n",
        "#             to_i = i_val + 10\n",
        "#             anno = all_ann_numbers[from_i:to_i].max()\n",
        "            \n",
        "#             if anno == 0.0:\n",
        "#                 remove_beats = np.append(remove_beats, i)\n",
        "#                 continue\n",
        "            \n",
        "#             all_beats[i] = np.append(all_beats[i][150:], all_beats[i+1][:185])\n",
        "            \n",
        "#             # standardise the data\n",
        "#             all_beats[i] = (all_beats[i]-np.mean(all_beats[i]))/np.std(all_beats[i])\n",
        "\n",
        "# #             newsize = int((all_beats[i].size * 125 / 360))\n",
        "# #             all_beats[i] = signal.resample(all_beats[i], newsize)\n",
        "# #             print(all_beats[i].shape)\n",
        "#             if all_beats[i].size > 430:\n",
        "#                 remove_beats = np.append(remove_beats, i) #here is the problem! removing all beats when frequency is not resampled why?\n",
        "#                 continue\n",
        "            \n",
        "#             zerocount = 430 - all_beats[i].size\n",
        "#             all_beats[i] = np.pad(all_beats[i], (0, zerocount), 'constant', constant_values=(0.0, 0.0))\n",
        "#           #  print(all_beats[i].shape)\n",
        "            \n",
        "#             all_beats[i] = np.append(all_beats[i], anno)\n",
        "#             # print(all_beats[i].shape)\n",
        "#             all_beats[i] = np.append(all_beats[i], fn)\n",
        "#            # print(all_beats[i].shape)\n",
        "#             all_beats[i] = np.append(all_beats[i], ch_id)\n",
        "#         remove_beats = np.append(remove_beats, len(all_beats)-1)\n",
        "# #         print(remove_beats.shape)\n",
        "#         all_beats = np.delete(all_beats, remove_beats)\n",
        "#         #print(all_beats.shape)\n",
        "#         savedata = np.array(list(all_beats[:]), dtype=np.float)\n",
        "        \n",
        "#         outfn = 'data_ecg/'+fn+'_'+channel_name+'.csv'\n",
        "#         print('    Generating ', outfn)\n",
        "#         if not os.path.exists('data_ecg/'):\n",
        "#             os.makedirs('data_ecg/')\n",
        "#         with open(outfn, \"wb\") as fin:\n",
        "#             np.savetxt(fin, savedata, delimiter=\",\", fmt='%f')\n",
        "            \n",
        "    "
      ],
      "execution_count": null,
      "outputs": []
    },
    {
      "cell_type": "code",
      "metadata": {
        "colab": {
          "base_uri": "https://localhost:8080/"
        },
        "id": "Tn6hsWe2eMBP",
        "outputId": "017dc3bf-a8ae-4aba-8073-c77255edd2a4"
      },
      "source": [
        "all_data = np.empty(shape=[0,433])\n",
        "print(all_data.shape)\n",
        "csv_files = glob('./drive/My Drive/ecg/data_ecg/*.csv')\n",
        "\n",
        "for file in  csv_files:\n",
        "    heartbeat = np.loadtxt(file, delimiter=',')\n",
        "    all_data = np.append(all_data, heartbeat, axis=0)\n",
        "\n",
        "print(\"loaded all data\")\n",
        "print(all_data.shape)"
      ],
      "execution_count": 4,
      "outputs": [
        {
          "output_type": "stream",
          "text": [
            "(0, 433)\n",
            "loaded all data\n",
            "(136921, 433)\n"
          ],
          "name": "stdout"
        }
      ]
    },
    {
      "cell_type": "markdown",
      "metadata": {
        "id": "mTs8hMP0eMBS"
      },
      "source": [
        "## Visualise the heartbeats"
      ]
    },
    {
      "cell_type": "code",
      "metadata": {
        "id": "UcG1bcNXeMBT"
      },
      "source": [
        "# data = np.loadtxt('/Users/ruchira/Documents/lvl_4_project/lvl4-hons-project/data_ecg/100_MLII.csv', delimiter=',')\n",
        "# for beat_num in [0,1,2,3,4,5,6,7]:\n",
        "#     time_value = np.arange(430, dtype = 'float') / 430\n",
        "#     current_beat = data[beat_num][:-3]\n",
        "#     ann_num = data[beat_num][-3]\n",
        "#     plt.figure(figsize=(20,5))\n",
        "#     plt.plot(time_value, current_beat)\n",
        "#     plt.xlabel('Time in seconds')\n",
        "#     plt.ylabel('beat number: ' + str(beat_num) + ' type of beat: ' + str(ann_num))"
      ],
      "execution_count": null,
      "outputs": []
    },
    {
      "cell_type": "markdown",
      "metadata": {
        "id": "xVXPsEQx2yT1"
      },
      "source": [
        "# Splitting patients into train and test datasets"
      ]
    },
    {
      "cell_type": "code",
      "metadata": {
        "colab": {
          "base_uri": "https://localhost:8080/"
        },
        "id": "8-sAOeK92yT2",
        "outputId": "0ee6f348-c42a-4668-b7b5-97742d65573f"
      },
      "source": [
        "# print(all_data[0,-2])\n",
        "all_data_sorted = all_data[np.argsort(all_data[:,-2])]\n",
        "print(np.unique(all_data_sorted[:,-2]).shape)"
      ],
      "execution_count": 5,
      "outputs": [
        {
          "output_type": "stream",
          "text": [
            "(48,)\n"
          ],
          "name": "stdout"
        }
      ]
    },
    {
      "cell_type": "code",
      "metadata": {
        "colab": {
          "base_uri": "https://localhost:8080/"
        },
        "id": "VxmbCVkO2yT2",
        "outputId": "761af600-9332-4342-9a4a-28e430a7da6c"
      },
      "source": [
        "import random\n",
        "sorted_patients = all_data[np.argsort(all_data[:,-2])]\n",
        "shift_idx = np.flatnonzero(sorted_patients[1:,-2] > sorted_patients[:-1,-2])+1\n",
        "\n",
        "# output is a list of arrays with each array consisting of beats of one patient \n",
        "# with shape(no. of beats of that patient, 433)\n",
        "output = np.split(sorted_patients,shift_idx)\n",
        "print(output[0].shape)\n",
        "random.shuffle(output)\n",
        "print(output[0].shape)\n",
        "output = np.array(output)"
      ],
      "execution_count": 6,
      "outputs": [
        {
          "output_type": "stream",
          "text": [
            "(4535, 433)\n",
            "(3218, 433)\n"
          ],
          "name": "stdout"
        }
      ]
    },
    {
      "cell_type": "code",
      "metadata": {
        "colab": {
          "base_uri": "https://localhost:8080/"
        },
        "id": "gryooxni2yT2",
        "outputId": "8a9a4b35-0a2f-4798-fd3b-8df6178306c0"
      },
      "source": [
        "print(output.shape)\n",
        "print(output[0].shape)"
      ],
      "execution_count": 7,
      "outputs": [
        {
          "output_type": "stream",
          "text": [
            "(48,)\n",
            "(3218, 433)\n"
          ],
          "name": "stdout"
        }
      ]
    },
    {
      "cell_type": "code",
      "metadata": {
        "id": "gcZslp802yT2"
      },
      "source": [
        "from sklearn.model_selection import train_test_split\n",
        "train, test = train_test_split(output, test_size=0.25)"
      ],
      "execution_count": 8,
      "outputs": []
    },
    {
      "cell_type": "code",
      "metadata": {
        "id": "f3rzTVSF2yT3"
      },
      "source": [
        "train_arr = np.concatenate(train, axis=0)"
      ],
      "execution_count": 9,
      "outputs": []
    },
    {
      "cell_type": "code",
      "metadata": {
        "id": "tRFB4IBJ2yT3"
      },
      "source": [
        "# train_file = \"./train_test_data/train_arr.csv\"\n",
        "# if not os.path.exists('train_test_data/'):\n",
        "#     os.makedirs('train_test_data/')\n",
        "# with open(train_file, \"wb\") as tf:\n",
        "#     np.savetxt(tf, train_arr, delimiter=\",\")"
      ],
      "execution_count": null,
      "outputs": []
    },
    {
      "cell_type": "code",
      "metadata": {
        "id": "6xEmdzye2yT3"
      },
      "source": [
        "test_arr = np.concatenate(test, axis=0)"
      ],
      "execution_count": 10,
      "outputs": []
    },
    {
      "cell_type": "code",
      "metadata": {
        "colab": {
          "base_uri": "https://localhost:8080/"
        },
        "id": "2n5gdgIPZ9pz",
        "outputId": "544bb5bb-1de5-48f2-d600-d615d005ccdc"
      },
      "source": [
        "classes, counts = np.unique(test_arr[:,-3], return_counts=True )\n",
        "print(classes, counts)"
      ],
      "execution_count": 13,
      "outputs": [
        {
          "output_type": "stream",
          "text": [
            "[1. 3. 4. 5. 6. 8.] [26954  1822   240  1597    20  2068]\n"
          ],
          "name": "stdout"
        }
      ]
    },
    {
      "cell_type": "code",
      "metadata": {
        "id": "xK_zVvaw2yT3"
      },
      "source": [
        "# test_file = \"./train_test_data/test_arr.csv\"\n",
        "# if not os.path.exists('train_test_data/'):\n",
        "#     os.makedirs('train_test_data/')\n",
        "# with open(test_file, \"wb\") as tf:\n",
        "#     np.savetxt(tf, test_arr, delimiter=\",\")"
      ],
      "execution_count": null,
      "outputs": []
    },
    {
      "cell_type": "markdown",
      "metadata": {
        "id": "1rbosM6T2yT3"
      },
      "source": [
        "## Resampling data using SMOTE from train_arr to balance training data"
      ]
    },
    {
      "cell_type": "code",
      "metadata": {
        "id": "_2j-5BSQ2yT3"
      },
      "source": [
        "from imblearn.over_sampling import SMOTE\n",
        "from collections import Counter"
      ],
      "execution_count": null,
      "outputs": []
    },
    {
      "cell_type": "code",
      "metadata": {
        "id": "JqcyqGzW2yT3"
      },
      "source": [
        "X = train_arr[:,:-3]\n",
        "y = train_arr[:,-3]"
      ],
      "execution_count": null,
      "outputs": []
    },
    {
      "cell_type": "code",
      "metadata": {
        "colab": {
          "base_uri": "https://localhost:8080/"
        },
        "id": "ziMG3L8D2yT3",
        "outputId": "581b614e-0c23-4fd4-cca5-cd0b80e536cb"
      },
      "source": [
        "label_count = Counter(y)\n",
        "print(label_count)\n",
        "classes, counts = np.unique(train_arr[:,-3], return_counts=True)\n",
        "imbalanced = counts[1:]\n",
        "imb_max = np.max(imbalanced)\n",
        "print(imb_max)\n",
        "normal_count = counts[0]\n",
        "print(normal_count)"
      ],
      "execution_count": null,
      "outputs": [
        {
          "output_type": "stream",
          "text": [
            "Counter({1.0: 61316, 8.0: 9717, 2.0: 6405, 3.0: 5292, 5.0: 3548, 4.0: 2914, 7.0: 1636, 6.0: 426})\n",
            "9717\n",
            "61316\n"
          ],
          "name": "stdout"
        }
      ]
    },
    {
      "cell_type": "code",
      "metadata": {
        "colab": {
          "base_uri": "https://localhost:8080/"
        },
        "id": "xjE0IBgz2yT3",
        "outputId": "5f675602-d3e9-46c6-f436-74d9c5142a40"
      },
      "source": [
        "samp_strat = {1:normal_count,2:imb_max,3:imb_max,4:imb_max,5:imb_max,6:imb_max,7:imb_max,8:imb_max}\n",
        "sm = SMOTE(random_state=42, sampling_strategy=samp_strat)\n",
        "X_bal, y_bal = sm.fit_resample(X,y)\n",
        "print(Counter(y_bal))"
      ],
      "execution_count": null,
      "outputs": [
        {
          "output_type": "stream",
          "text": [
            "/usr/local/lib/python3.6/dist-packages/sklearn/utils/deprecation.py:87: FutureWarning: Function safe_indexing is deprecated; safe_indexing is deprecated in version 0.22 and will be removed in version 0.24.\n",
            "  warnings.warn(msg, category=FutureWarning)\n",
            "/usr/local/lib/python3.6/dist-packages/sklearn/utils/deprecation.py:87: FutureWarning: Function safe_indexing is deprecated; safe_indexing is deprecated in version 0.22 and will be removed in version 0.24.\n",
            "  warnings.warn(msg, category=FutureWarning)\n",
            "/usr/local/lib/python3.6/dist-packages/sklearn/utils/deprecation.py:87: FutureWarning: Function safe_indexing is deprecated; safe_indexing is deprecated in version 0.22 and will be removed in version 0.24.\n",
            "  warnings.warn(msg, category=FutureWarning)\n",
            "/usr/local/lib/python3.6/dist-packages/sklearn/utils/deprecation.py:87: FutureWarning: Function safe_indexing is deprecated; safe_indexing is deprecated in version 0.22 and will be removed in version 0.24.\n",
            "  warnings.warn(msg, category=FutureWarning)\n",
            "/usr/local/lib/python3.6/dist-packages/sklearn/utils/deprecation.py:87: FutureWarning: Function safe_indexing is deprecated; safe_indexing is deprecated in version 0.22 and will be removed in version 0.24.\n",
            "  warnings.warn(msg, category=FutureWarning)\n",
            "/usr/local/lib/python3.6/dist-packages/sklearn/utils/deprecation.py:87: FutureWarning: Function safe_indexing is deprecated; safe_indexing is deprecated in version 0.22 and will be removed in version 0.24.\n",
            "  warnings.warn(msg, category=FutureWarning)\n"
          ],
          "name": "stderr"
        },
        {
          "output_type": "stream",
          "text": [
            "Counter({1.0: 61316, 5.0: 9717, 4.0: 9717, 2.0: 9717, 6.0: 9717, 8.0: 9717, 7.0: 9717, 3.0: 9717})\n"
          ],
          "name": "stdout"
        }
      ]
    },
    {
      "cell_type": "code",
      "metadata": {
        "colab": {
          "base_uri": "https://localhost:8080/"
        },
        "id": "nGohc6YaCmV9",
        "outputId": "0d675315-bf5d-4ea4-a997-75cd38724f7d"
      },
      "source": [
        "from imblearn.under_sampling import RandomUnderSampler\n",
        "rus = RandomUnderSampler()\n",
        "X_u,y_u = rus.fit_resample(X_bal,y_bal)\n",
        "\n",
        "print(Counter(y_u))"
      ],
      "execution_count": null,
      "outputs": [
        {
          "output_type": "stream",
          "text": [
            "Counter({1.0: 9717, 2.0: 9717, 3.0: 9717, 4.0: 9717, 5.0: 9717, 6.0: 9717, 7.0: 9717, 8.0: 9717})\n"
          ],
          "name": "stdout"
        },
        {
          "output_type": "stream",
          "text": [
            "/usr/local/lib/python3.6/dist-packages/sklearn/utils/deprecation.py:87: FutureWarning: Function safe_indexing is deprecated; safe_indexing is deprecated in version 0.22 and will be removed in version 0.24.\n",
            "  warnings.warn(msg, category=FutureWarning)\n"
          ],
          "name": "stderr"
        }
      ]
    },
    {
      "cell_type": "code",
      "metadata": {
        "id": "e-zVVdeX2yT3"
      },
      "source": [
        "# Xbal_file = \"./train_test_data/X_bal.csv\"\n",
        "# if not os.path.exists('train_test_data/'):\n",
        "#     os.makedirs('train_test_data/')\n",
        "# with open(Xbal_file, \"wb\") as tf:\n",
        "#     np.savetxt(tf, X_bal, delimiter=\",\")"
      ],
      "execution_count": null,
      "outputs": []
    },
    {
      "cell_type": "code",
      "metadata": {
        "id": "CmK7Qjlr2yT3"
      },
      "source": [
        "# ybal_file = \"./train_test_data/y_bal.csv\"\n",
        "# if not os.path.exists('train_test_data/'):\n",
        "#     os.makedirs('train_test_data/')\n",
        "# with open(ybal_file, \"wb\") as tf:\n",
        "#     np.savetxt(tf, y_bal, delimiter=\",\")"
      ],
      "execution_count": null,
      "outputs": []
    },
    {
      "cell_type": "markdown",
      "metadata": {
        "id": "Ac6RBZwGS0qP"
      },
      "source": [
        "## CF Matrix and Scores Functions"
      ]
    },
    {
      "cell_type": "code",
      "metadata": {
        "id": "v8JbcuvCT3AI"
      },
      "source": [
        "from sklearn.metrics import *\n",
        "import seaborn as sns\n",
        "def cf_matrix_func(predictions, y_test):\n",
        "    cm = confusion_matrix(y_test, predictions)\n",
        "    categories=['N', 'L', 'R', 'A', 'V', 'F', 'f','P']\n",
        "    cm = cm.astype('float') / cm.sum(axis=1)[:, np.newaxis]\n",
        "    plt.figure(figsize=(10,10))\n",
        "    sns.heatmap(cm, annot=True, \n",
        "                fmt='.2%', cmap='Blues',xticklabels=categories,yticklabels=categories)"
      ],
      "execution_count": null,
      "outputs": []
    },
    {
      "cell_type": "code",
      "metadata": {
        "id": "FrIAEhEWeQCL"
      },
      "source": [
        "def scores(predictions, y_test):\n",
        "  accuracy = accuracy_score(y_test, predictions)\n",
        "  precision_micro = precision_score(y_test, predictions, average='micro', labels=[1.0, 2.0, 3.0, 4.0, 5.0, 6.0, 7.0,8.0])\n",
        "  precision_macro = precision_score(y_test, predictions, average='macro', labels=[1.0, 2.0, 3.0, 4.0, 5.0, 6.0, 7.0,8.0])\n",
        "  f1_macro = f1_score(y_test, predictions, average='macro', labels=[1.0, 2.0, 3.0, 4.0, 5.0, 6.0, 7.0,8.0])\n",
        "  f1_micro = f1_score(y_test, predictions, average='micro', labels=[1.0, 2.0, 3.0, 4.0, 5.0, 6.0, 7.0,8.0])\n",
        "  return accuracy, precision_macro, precision_micro, f1_macro, f1_micro"
      ],
      "execution_count": null,
      "outputs": []
    },
    {
      "cell_type": "markdown",
      "metadata": {
        "id": "fFdxCB6w2yT3"
      },
      "source": [
        "## Running XGBoost "
      ]
    },
    {
      "cell_type": "code",
      "metadata": {
        "colab": {
          "base_uri": "https://localhost:8080/"
        },
        "id": "QY7ncv408p9L",
        "outputId": "dc8c7386-4951-4162-de8e-9194f33eeaaa"
      },
      "source": [
        "from xgboost import XGBClassifier\n",
        "\n",
        "model = XGBClassifier()\n",
        "model.fit(X_u, y_u)\n",
        "# print(model.score(X_test, y_test))\n",
        "print(model)"
      ],
      "execution_count": null,
      "outputs": [
        {
          "output_type": "stream",
          "text": [
            "XGBClassifier(base_score=0.5, booster='gbtree', colsample_bylevel=1,\n",
            "              colsample_bynode=1, colsample_bytree=1, gamma=0,\n",
            "              learning_rate=0.1, max_delta_step=0, max_depth=3,\n",
            "              min_child_weight=1, missing=None, n_estimators=100, n_jobs=1,\n",
            "              nthread=None, objective='multi:softprob', random_state=0,\n",
            "              reg_alpha=0, reg_lambda=1, scale_pos_weight=1, seed=None,\n",
            "              silent=None, subsample=1, verbosity=1)\n"
          ],
          "name": "stdout"
        }
      ]
    },
    {
      "cell_type": "code",
      "metadata": {
        "id": "ujv38h_qT9tA"
      },
      "source": [
        "test_x = test_arr[:,:-3]\n",
        "test_y = test_arr[:,-3]\n",
        "predictions_xgb = model.predict(test_x)"
      ],
      "execution_count": null,
      "outputs": []
    },
    {
      "cell_type": "code",
      "metadata": {
        "colab": {
          "base_uri": "https://localhost:8080/"
        },
        "id": "AdvTCrxAh8ng",
        "outputId": "e521676f-6a46-4df9-db7a-aba6bc25d7d0"
      },
      "source": [
        "a = y_u[y_u[:]==4.0]\n",
        "print(a.shape)"
      ],
      "execution_count": null,
      "outputs": [
        {
          "output_type": "stream",
          "text": [
            "(9717,)\n"
          ],
          "name": "stdout"
        }
      ]
    },
    {
      "cell_type": "code",
      "metadata": {
        "colab": {
          "base_uri": "https://localhost:8080/",
          "height": 663
        },
        "id": "Md3yt1zVeBRB",
        "outputId": "f8476f19-d1c3-4961-c58e-354f8d05ae32"
      },
      "source": [
        "print(scores(predictions_xgb,test_y))\n",
        "cf_matrix_func(predictions_xgb, test_y)"
      ],
      "execution_count": null,
      "outputs": [
        {
          "output_type": "stream",
          "text": [
            "(0.4865438938401909, 0.13191348727456192, 0.4865438938401909, 0.11804907059906422, 0.4865438938401909)\n"
          ],
          "name": "stdout"
        },
        {
          "output_type": "stream",
          "text": [
            "/usr/local/lib/python3.6/dist-packages/ipykernel_launcher.py:6: RuntimeWarning: invalid value encountered in true_divide\n",
            "  \n"
          ],
          "name": "stderr"
        },
        {
          "output_type": "display_data",
          "data": {
            "image/png": "[encoded data removed]",
            "text/plain": [
              "<Figure size 720x720 with 2 Axes>"
            ]
          },
          "metadata": {
            "tags": [],
            "needs_background": "light"
          }
        }
      ]
    },
    {
      "cell_type": "markdown",
      "metadata": {
        "id": "WhB1erh0jXdg"
      },
      "source": [
        "### no values for L,f,P because no testing data for these classes."
      ]
    },
    {
      "cell_type": "markdown",
      "metadata": {
        "id": "8i-RsITy2yT3"
      },
      "source": [
        "### UMAP"
      ]
    },
    {
      "cell_type": "markdown",
      "metadata": {
        "id": "KjQ6_M5U2yT3"
      },
      "source": [
        "### Confusion Matrix"
      ]
    },
    {
      "cell_type": "code",
      "metadata": {
        "id": "EJhpoIIgP9FQ"
      },
      "source": [
        ""
      ],
      "execution_count": null,
      "outputs": []
    },
    {
      "cell_type": "markdown",
      "metadata": {
        "id": "iOR_rrNU2yT3"
      },
      "source": [
        "## Running the CNN"
      ]
    },
    {
      "cell_type": "code",
      "metadata": {
        "id": "2jmEnascfFpu"
      },
      "source": [
        "from keras.utils.np_utils import to_categorical\n",
        "from tensorflow.keras import layers\n",
        "from tensorflow.keras.models import Sequential\n",
        "from tensorflow.keras.layers import Dense\n",
        "from tensorflow.keras.models import Model, load_model\n",
        "from tensorflow.keras.utils import to_categorical\n",
        "from tensorflow.keras.layers import Dropout\n",
        "from tensorflow.keras.layers import Flatten\n",
        "from tensorflow.keras.layers import Conv1D\n",
        "from tensorflow.keras.layers import MaxPooling1D"
      ],
      "execution_count": null,
      "outputs": []
    },
    {
      "cell_type": "code",
      "metadata": {
        "colab": {
          "base_uri": "https://localhost:8080/"
        },
        "id": "Bm6AcNnJ7Efc",
        "outputId": "2c97fa57-d938-4b70-f6d7-e65ddb9d6aba"
      },
      "source": [
        "X_train_3d = X_u.reshape(-1, X_u.shape[1],1)\n",
        "X_test_3d = test_x.reshape(-1, test_x.shape[1], 1)\n",
        "\n",
        "print(X_train_3d.shape)\n",
        "print(X_test_3d.shape)\n",
        "\n",
        "y_train_cat = to_categorical(y_u)\n",
        "y_test_cat = to_categorical(test_y)\n",
        "print(y_train_cat.shape)\n",
        "print(y_test_cat.shape)"
      ],
      "execution_count": null,
      "outputs": [
        {
          "output_type": "stream",
          "text": [
            "(77736, 430, 1)\n",
            "(45667, 430, 1)\n",
            "(77736, 9)\n",
            "(45667, 7)\n"
          ],
          "name": "stdout"
        }
      ]
    },
    {
      "cell_type": "code",
      "metadata": {
        "colab": {
          "base_uri": "https://localhost:8080/"
        },
        "id": "XEUJANiQ7Mc9",
        "outputId": "1f4b6f1b-f08c-4b64-d9b7-25a1a3d15464"
      },
      "source": [
        "verbose, epoch, batch_size = 1, 50, 128\n",
        "\n",
        "def getModel():\n",
        "    cnnmodel = Sequential()\n",
        "    cnnmodel.add(Conv1D(filters=128, kernel_size=2, activation='relu',input_shape=(X_train_3d.shape[1],X_train_3d.shape[2])))\n",
        "    cnnmodel.add(MaxPooling1D(pool_size=2))\n",
        "    cnnmodel.add(Conv1D(filters=64, kernel_size=2, activation='relu'))\n",
        "    cnnmodel.add(MaxPooling1D(pool_size=2))\n",
        "    cnnmodel.add(Conv1D(filters=32, kernel_size=2, activation='relu'))\n",
        "    cnnmodel.add(MaxPooling1D(pool_size=2))\n",
        "    cnnmodel.add(Conv1D(filters=16, kernel_size=2, activation='relu'))\n",
        "    cnnmodel.add(MaxPooling1D(pool_size=2))\n",
        "    cnnmodel.add(Dropout(rate=0.2))\n",
        "    cnnmodel.add(Flatten())\n",
        "    cnnmodel.add(Dense(64, activation='relu'))\n",
        "    cnnmodel.add(Dense(32, activation='relu'))\n",
        "    cnnmodel.add(Dense(9, activation='softmax'))\n",
        "    cnnmodel.compile(optimizer='adam', loss='categorical_crossentropy',metrics=['accuracy'])\n",
        "    cnnmodel.summary()\n",
        "    return cnnmodel\n",
        "\n",
        "cnnmodel = getModel()"
      ],
      "execution_count": null,
      "outputs": [
        {
          "output_type": "stream",
          "text": [
            "Model: \"sequential_2\"\n",
            "_________________________________________________________________\n",
            "Layer (type)                 Output Shape              Param #   \n",
            "=================================================================\n",
            "conv1d_8 (Conv1D)            (None, 429, 128)          384       \n",
            "_________________________________________________________________\n",
            "max_pooling1d_8 (MaxPooling1 (None, 214, 128)          0         \n",
            "_________________________________________________________________\n",
            "conv1d_9 (Conv1D)            (None, 213, 64)           16448     \n",
            "_________________________________________________________________\n",
            "max_pooling1d_9 (MaxPooling1 (None, 106, 64)           0         \n",
            "_________________________________________________________________\n",
            "conv1d_10 (Conv1D)           (None, 105, 32)           4128      \n",
            "_________________________________________________________________\n",
            "max_pooling1d_10 (MaxPooling (None, 52, 32)            0         \n",
            "_________________________________________________________________\n",
            "conv1d_11 (Conv1D)           (None, 51, 16)            1040      \n",
            "_________________________________________________________________\n",
            "max_pooling1d_11 (MaxPooling (None, 25, 16)            0         \n",
            "_________________________________________________________________\n",
            "dropout_2 (Dropout)          (None, 25, 16)            0         \n",
            "_________________________________________________________________\n",
            "flatten_2 (Flatten)          (None, 400)               0         \n",
            "_________________________________________________________________\n",
            "dense_6 (Dense)              (None, 64)                25664     \n",
            "_________________________________________________________________\n",
            "dense_7 (Dense)              (None, 32)                2080      \n",
            "_________________________________________________________________\n",
            "dense_8 (Dense)              (None, 9)                 297       \n",
            "=================================================================\n",
            "Total params: 50,041\n",
            "Trainable params: 50,041\n",
            "Non-trainable params: 0\n",
            "_________________________________________________________________\n"
          ],
          "name": "stdout"
        }
      ]
    },
    {
      "cell_type": "code",
      "metadata": {
        "colab": {
          "base_uri": "https://localhost:8080/"
        },
        "id": "miQlYhTI7VVl",
        "outputId": "bfd27eea-9a3e-4718-8bdf-9c7f4b270a73"
      },
      "source": [
        "model = cnnmodel.fit(X_train_3d, y_train_cat, epochs=epoch, verbose=verbose,batch_size=batch_size)"
      ],
      "execution_count": null,
      "outputs": [
        {
          "output_type": "stream",
          "text": [
            "Epoch 1/50\n",
            "608/608 [==============================] - 96s 158ms/step - loss: 0.5537 - accuracy: 0.8151\n",
            "Epoch 2/50\n",
            "608/608 [==============================] - 97s 160ms/step - loss: 0.2446 - accuracy: 0.9217\n",
            "Epoch 3/50\n",
            "608/608 [==============================] - 96s 158ms/step - loss: 0.1873 - accuracy: 0.9389\n",
            "Epoch 4/50\n",
            "608/608 [==============================] - 97s 159ms/step - loss: 0.1550 - accuracy: 0.9497\n",
            "Epoch 5/50\n",
            "608/608 [==============================] - 96s 159ms/step - loss: 0.1360 - accuracy: 0.9550\n",
            "Epoch 6/50\n",
            "608/608 [==============================] - 96s 158ms/step - loss: 0.1232 - accuracy: 0.9600\n",
            "Epoch 7/50\n",
            "608/608 [==============================] - 96s 158ms/step - loss: 0.1124 - accuracy: 0.9623\n",
            "Epoch 8/50\n",
            "608/608 [==============================] - 97s 159ms/step - loss: 0.1020 - accuracy: 0.9668\n",
            "Epoch 9/50\n",
            "608/608 [==============================] - 96s 158ms/step - loss: 0.0962 - accuracy: 0.9679\n",
            "Epoch 10/50\n",
            "608/608 [==============================] - 97s 160ms/step - loss: 0.0918 - accuracy: 0.9690\n",
            "Epoch 11/50\n",
            "608/608 [==============================] - 97s 159ms/step - loss: 0.0856 - accuracy: 0.9714\n",
            "Epoch 12/50\n",
            "608/608 [==============================] - 96s 158ms/step - loss: 0.0815 - accuracy: 0.9723\n",
            "Epoch 13/50\n",
            "608/608 [==============================] - 97s 159ms/step - loss: 0.0769 - accuracy: 0.9749\n",
            "Epoch 14/50\n",
            "608/608 [==============================] - 96s 158ms/step - loss: 0.0744 - accuracy: 0.9747\n",
            "Epoch 15/50\n",
            "608/608 [==============================] - 97s 159ms/step - loss: 0.0711 - accuracy: 0.9765\n",
            "Epoch 16/50\n",
            "608/608 [==============================] - 96s 158ms/step - loss: 0.0679 - accuracy: 0.9778\n",
            "Epoch 17/50\n",
            "608/608 [==============================] - 96s 158ms/step - loss: 0.0648 - accuracy: 0.9781\n",
            "Epoch 18/50\n",
            "608/608 [==============================] - 96s 158ms/step - loss: 0.0626 - accuracy: 0.9787\n",
            "Epoch 19/50\n",
            "608/608 [==============================] - 97s 159ms/step - loss: 0.0613 - accuracy: 0.9791\n",
            "Epoch 20/50\n",
            "608/608 [==============================] - 96s 159ms/step - loss: 0.0597 - accuracy: 0.9794\n",
            "Epoch 21/50\n",
            "608/608 [==============================] - 98s 161ms/step - loss: 0.0571 - accuracy: 0.9805\n",
            "Epoch 22/50\n",
            "608/608 [==============================] - 97s 159ms/step - loss: 0.0566 - accuracy: 0.9807\n",
            "Epoch 23/50\n",
            "608/608 [==============================] - 97s 159ms/step - loss: 0.0566 - accuracy: 0.9807\n",
            "Epoch 24/50\n",
            "608/608 [==============================] - 98s 160ms/step - loss: 0.0537 - accuracy: 0.9817\n",
            "Epoch 25/50\n",
            "608/608 [==============================] - 97s 159ms/step - loss: 0.0519 - accuracy: 0.9822\n",
            "Epoch 26/50\n",
            "608/608 [==============================] - 97s 159ms/step - loss: 0.0510 - accuracy: 0.9825\n",
            "Epoch 27/50\n",
            "608/608 [==============================] - 98s 161ms/step - loss: 0.0504 - accuracy: 0.9826\n",
            "Epoch 28/50\n",
            "608/608 [==============================] - 97s 160ms/step - loss: 0.0480 - accuracy: 0.9836\n",
            "Epoch 29/50\n",
            "608/608 [==============================] - 98s 161ms/step - loss: 0.0491 - accuracy: 0.9834\n",
            "Epoch 30/50\n",
            "608/608 [==============================] - 96s 158ms/step - loss: 0.0469 - accuracy: 0.9840\n",
            "Epoch 31/50\n",
            "608/608 [==============================] - 96s 158ms/step - loss: 0.0457 - accuracy: 0.9846\n",
            "Epoch 32/50\n",
            "608/608 [==============================] - 96s 158ms/step - loss: 0.0450 - accuracy: 0.9845\n",
            "Epoch 33/50\n",
            "608/608 [==============================] - 97s 160ms/step - loss: 0.0440 - accuracy: 0.9849\n",
            "Epoch 34/50\n",
            "608/608 [==============================] - 97s 159ms/step - loss: 0.0427 - accuracy: 0.9857\n",
            "Epoch 35/50\n",
            "608/608 [==============================] - 97s 159ms/step - loss: 0.0429 - accuracy: 0.9849\n",
            "Epoch 36/50\n",
            "608/608 [==============================] - 96s 159ms/step - loss: 0.0434 - accuracy: 0.9849\n",
            "Epoch 37/50\n",
            "608/608 [==============================] - 96s 158ms/step - loss: 0.0417 - accuracy: 0.9859\n",
            "Epoch 38/50\n",
            "608/608 [==============================] - 96s 158ms/step - loss: 0.0405 - accuracy: 0.9860\n",
            "Epoch 39/50\n",
            "608/608 [==============================] - 96s 158ms/step - loss: 0.0418 - accuracy: 0.9851\n",
            "Epoch 40/50\n",
            "608/608 [==============================] - 97s 160ms/step - loss: 0.0407 - accuracy: 0.9860\n",
            "Epoch 41/50\n",
            "608/608 [==============================] - 96s 158ms/step - loss: 0.0377 - accuracy: 0.9866\n",
            "Epoch 42/50\n",
            "608/608 [==============================] - 97s 160ms/step - loss: 0.0385 - accuracy: 0.9869\n",
            "Epoch 43/50\n",
            "608/608 [==============================] - 97s 159ms/step - loss: 0.0368 - accuracy: 0.9877\n",
            "Epoch 44/50\n",
            "608/608 [==============================] - 96s 158ms/step - loss: 0.0367 - accuracy: 0.9871\n",
            "Epoch 45/50\n",
            "608/608 [==============================] - 96s 158ms/step - loss: 0.0373 - accuracy: 0.9869\n",
            "Epoch 46/50\n",
            "608/608 [==============================] - 97s 159ms/step - loss: 0.0371 - accuracy: 0.9870\n",
            "Epoch 47/50\n",
            "608/608 [==============================] - 96s 158ms/step - loss: 0.0357 - accuracy: 0.9874\n",
            "Epoch 48/50\n",
            "608/608 [==============================] - 96s 159ms/step - loss: 0.0349 - accuracy: 0.9881\n",
            "Epoch 49/50\n",
            "608/608 [==============================] - 96s 158ms/step - loss: 0.0356 - accuracy: 0.9877\n",
            "Epoch 50/50\n",
            "608/608 [==============================] - 96s 158ms/step - loss: 0.0339 - accuracy: 0.9882\n"
          ],
          "name": "stdout"
        }
      ]
    },
    {
      "cell_type": "code",
      "metadata": {
        "colab": {
          "base_uri": "https://localhost:8080/"
        },
        "id": "YPV5Z_gY7bqM",
        "outputId": "2c5d10df-a7bb-4527-ca2a-5723d5795334"
      },
      "source": [
        "cnnpredictions = cnnmodel.predict(X_test_3d, verbose=1)"
      ],
      "execution_count": null,
      "outputs": [
        {
          "output_type": "stream",
          "text": [
            "1428/1428 [==============================] - 18s 13ms/step\n"
          ],
          "name": "stdout"
        }
      ]
    },
    {
      "cell_type": "code",
      "metadata": {
        "id": "s3eEiviX7iw1"
      },
      "source": [
        "cnn_predict = np.argmax(cnnpredictions, axis=1)\n",
        "true_value = np.argmax(y_test_cat,axis=1)"
      ],
      "execution_count": null,
      "outputs": []
    },
    {
      "cell_type": "code",
      "metadata": {
        "colab": {
          "base_uri": "https://localhost:8080/"
        },
        "id": "o1VU35kT738K",
        "outputId": "ef390b53-8ff8-4c94-cd0f-db06721399cf"
      },
      "source": [
        "score = scores(true_value, cnn_predict)\n",
        "print(score)"
      ],
      "execution_count": null,
      "outputs": [
        {
          "output_type": "stream",
          "text": [
            "(0.7726147984321282, 0.23337910515633992, 0.7726147984321282, 0.1805792852382309, 0.7726147984321282)\n"
          ],
          "name": "stdout"
        },
        {
          "output_type": "stream",
          "text": [
            "/usr/local/lib/python3.6/dist-packages/sklearn/metrics/_classification.py:1272: UndefinedMetricWarning: Precision is ill-defined and being set to 0.0 in labels with no predicted samples. Use `zero_division` parameter to control this behavior.\n",
            "  _warn_prf(average, modifier, msg_start, len(result))\n"
          ],
          "name": "stderr"
        }
      ]
    },
    {
      "cell_type": "code",
      "metadata": {
        "id": "NM9Qp-732kZc",
        "colab": {
          "base_uri": "https://localhost:8080/",
          "height": 646
        },
        "outputId": "b647b84c-ca85-46df-fb28-766cb50a5ea9"
      },
      "source": [
        "cf_matrix_func(cnn_predict,true_value)"
      ],
      "execution_count": null,
      "outputs": [
        {
          "output_type": "stream",
          "text": [
            "/usr/local/lib/python3.6/dist-packages/ipykernel_launcher.py:6: RuntimeWarning: invalid value encountered in true_divide\n",
            "  \n"
          ],
          "name": "stderr"
        },
        {
          "output_type": "display_data",
          "data": {
            "image/png": "[encoded data removed]",
            "text/plain": [
              "<Figure size 720x720 with 2 Axes>"
            ]
          },
          "metadata": {
            "tags": [],
            "needs_background": "light"
          }
        }
      ]
    },
    {
      "cell_type": "markdown",
      "metadata": {
        "id": "NvC61-fI2yT3"
      },
      "source": [
        "### UMAP"
      ]
    },
    {
      "cell_type": "markdown",
      "metadata": {
        "id": "qCCu3I5U2yT3"
      },
      "source": [
        "### Confusion Matrix"
      ]
    }
  ]
}