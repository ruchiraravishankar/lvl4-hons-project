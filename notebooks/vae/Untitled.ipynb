{
 "cells": [
  {
   "cell_type": "code",
   "execution_count": 1,
   "metadata": {},
   "outputs": [
    {
     "name": "stdout",
     "output_type": "stream",
     "text": [
      "False\n"
     ]
    }
   ],
   "source": [
    "import torch\n",
    "import torch.nn as nn\n",
    "import numpy as np\n",
    "from torch.autograd import Variable\n",
    "\n",
    "cuda = torch.cuda.is_available()\n",
    "print(cuda)"
   ]
  },
  {
   "cell_type": "code",
   "execution_count": 2,
   "metadata": {},
   "outputs": [],
   "source": [
    "# params\n",
    "Z_dim = 20\n",
    "X_dim = 1200\n",
    "S_dim = 20\n",
    "h1_dim = 800\n",
    "h2_dim = 600"
   ]
  },
  {
   "cell_type": "code",
   "execution_count": null,
   "metadata": {},
   "outputs": [],
   "source": [
    "class VAE(nn.Module):\n",
    "    def __init__(self):\n",
    "        super(VAE, self).__init__()\n",
    "\n",
    "        # qz\n",
    "        self.fc4 = nn.Linear(X_dim, h1_dim)\n",
    "        self.fc5 = nn.Linear(h1_dim, h2_dim)\n",
    "        self.fc6m = nn.Linear(h2_dim, Z_dim)\n",
    "        self.fc6v = nn.Linear(h2_dim, Z_dim)\n",
    "\n",
    "        # pz\n",
    "        self.fc7 = nn.Linear(Z_dim, h2_dim)\n",
    "        self.fc8 = nn.Linear(h2_dim, h1_dim)\n",
    "        self.fc9 = nn.Linear(h1_dim, X_dim)\n",
    "\n",
    "        # for getting Contrastive loss\n",
    "        self.distance = nn.PairwiseDistance(2)\n",
    "\n",
    "        # utils\n",
    "        self.relu = nn.ReLU()\n",
    "        self.sigmoid = nn.Sigmoid()\n",
    "        self.softmax = nn.Softmax()\n",
    "        self.batchNorm1 = nn.BatchNorm1d(h1_dim)\n",
    "        self.batchNorm2 = nn.BatchNorm1d(h2_dim)\n",
    "\n",
    "        # params\n",
    "        self.Z_dim = Z_dim\n",
    "\n",
    "    def Q_z(self, Xb):\n",
    "        h3 = self.relu(self.batchNorm1(self.fc4(Xb)))\n",
    "        h4 = self.relu(self.batchNorm2(self.fc5(h3)))\n",
    "        z_mean = self.fc6m(h4)\n",
    "        z_logvar = self.fc6v(h4)\n",
    "        z = self.sample_z(z_mean, z_logvar)\n",
    "        return z, z_mean, z_logvar\n",
    "\n",
    "    def P_x(self, z):\n",
    "        h5 = self.relu(self.batchNorm2(self.fc7(z)))\n",
    "        h6 = self.relu(self.batchNorm1(self.fc8(h5)))\n",
    "        px_logit = self.fc9(h6)\n",
    "        return px_logit\n",
    "\n",
    "    def sample_z(self, mu, log_var):\n",
    "        eps = Variable(torch.randn(mu.size(0), self.Z_dim))\n",
    "        if cuda:\n",
    "            eps = eps.cuda()\n",
    "        return mu + torch.exp(log_var / 2) * eps\n",
    "\n",
    "    def forward(self, X1, X2):\n",
    "        z1, zm1, zlogvar1 = self.Q_z(X1.float())\n",
    "        z2, zm2, zlogvar2 = self.Q_z(X2.float())\n",
    "        px1 = self.P_x(z1)\n",
    "        px2 = self.P_x(z2)\n",
    "        return px1, px2, zm1, zm2, zlogvar1, zlogvar2\n",
    "\n",
    "    def getEncoderOp(self, X):\n",
    "        z, zm, zlogvar = self.Q_z1(X.float())\n",
    "        return z\n"
   ]
  }
 ],
 "metadata": {
  "kernelspec": {
   "display_name": "Python 3",
   "language": "python",
   "name": "python3"
  },
  "language_info": {
   "codemirror_mode": {
    "name": "ipython",
    "version": 3
   },
   "file_extension": ".py",
   "mimetype": "text/x-python",
   "name": "python",
   "nbconvert_exporter": "python",
   "pygments_lexer": "ipython3",
   "version": "3.7.1"
  }
 },
 "nbformat": 4,
 "nbformat_minor": 4
}
