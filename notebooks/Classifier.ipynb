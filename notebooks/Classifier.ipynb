{
 "cells": [
  {
   "cell_type": "code",
   "execution_count": null,
   "metadata": {},
   "outputs": [],
   "source": [
    "import os\n",
    "import sys\n",
    "from glob import glob\n",
    "import numpy as np\n",
    "import pandas as pd\n",
    "\n",
    "from matplotlib import pyplot as plt\n",
    "\n",
    "\n",
    "import sklearn.utils as slu\n",
    "\n"
   ]
  },
  {
   "cell_type": "code",
   "execution_count": null,
   "metadata": {},
   "outputs": [],
   "source": [
    "# resampled train set, test set left unsampled\n",
    "train_samp = np.loadtxt('./train_test_sampled/train.csv', delimiter=',')\n",
    "test_samp = np.loadtxt('./train_test_sampled/test.csv', delimiter=',')\n",
    "\n",
    "print(train_samp.shape)\n",
    "print(test_samp.shape)\n",
    "\n",
    "X_train = train_samp[:,:-3]\n",
    "y_train = train_samp[:,-3]\n",
    "\n",
    "X_test = test_samp[:,:-3]\n",
    "y_test = test_samp[:,-3]"
   ]
  },
  {
   "cell_type": "markdown",
   "metadata": {
    "id": "h_FZX5I4SNa7"
   },
   "source": [
    "## CF Matrix and Scores Functions"
   ]
  },
  {
   "cell_type": "code",
   "execution_count": 1,
   "metadata": {},
   "outputs": [],
   "source": [
    "from sklearn.metrics import *\n",
    "import seaborn as sns\n",
    "def cf_matrix_func(predictions, y_test):\n",
    "    cm = confusion_matrix(y_test, predictions)\n",
    "    categories=['N', 'L', 'R', 'A', 'V', 'F', 'f','P']\n",
    "    cm = cm.astype('float') / cm.sum(axis=1)[:, np.newaxis]\n",
    "    plt.figure(figsize=(10,10))\n",
    "    sns.heatmap(cm, annot=True, \n",
    "                fmt='.2%', cmap='Blues',xticklabels=categories,yticklabels=categories)\n",
    "    plt.xlabel('predicted label')\n",
    "    plt.ylabel('true label')\n",
    "    \n",
    "def scores(predictions, y_test):\n",
    "    accuracy = accuracy_score(y_test, predictions)\n",
    "    precision_micro = precision_score(y_test, predictions, average='micro', labels=[1.0, 2.0, 3.0, 4.0, 5.0, 6.0, 7.0,8.0])\n",
    "    precision_macro = precision_score(y_test, predictions, average='macro', labels=[1.0, 2.0, 3.0, 4.0, 5.0, 6.0, 7.0,8.0])\n",
    "    f1_macro = f1_score(y_test, predictions, average='macro', labels=[1.0, 2.0, 3.0, 4.0, 5.0, 6.0, 7.0,8.0])\n",
    "    f1_micro = f1_score(y_test, predictions, average='micro', labels=[1.0, 2.0, 3.0, 4.0, 5.0, 6.0, 7.0,8.0])\n",
    "    print(\"accuracy: \", accuracy, \"precision_macro: \", precision_macro, \"precision_micro: \", precision_micro, \"f1_macro: \", f1_macro, \"f1_micro: \", f1_micro)\n",
    "    return accuracy, precision_macro, precision_micro, f1_macro, f1_micro"
   ]
  },
  {
   "cell_type": "markdown",
   "metadata": {},
   "source": [
    "## CNN Classifier"
   ]
  },
  {
   "cell_type": "code",
   "execution_count": 2,
   "metadata": {},
   "outputs": [
    {
     "name": "stderr",
     "output_type": "stream",
     "text": [
      "Using TensorFlow backend.\n"
     ]
    }
   ],
   "source": [
    "from keras.utils.np_utils import to_categorical\n",
    "from tensorflow.keras import layers\n",
    "from tensorflow.keras.models import Sequential\n",
    "from tensorflow.keras.layers import Dense\n",
    "from tensorflow.keras.models import Model, load_model\n",
    "from tensorflow.keras.utils import to_categorical\n",
    "from tensorflow.keras.layers import Dropout\n",
    "from tensorflow.keras.layers import Flatten\n",
    "from tensorflow.keras.layers import Conv1D\n",
    "from tensorflow.keras.layers import MaxPooling1D"
   ]
  },
  {
   "cell_type": "code",
   "execution_count": null,
   "metadata": {},
   "outputs": [],
   "source": [
    "X_train_3d = X_train.reshape(-1, X_train.shape[1],1)\n",
    "X_test_3d = X_test.reshape(-1, X_test.shape[1], 1)\n",
    "\n",
    "print(X_train_3d.shape)\n",
    "print(X_test_3d.shape)\n",
    "\n",
    "y_train_cat = to_categorical(y_train)\n",
    "y_test_cat = to_categorical(y_test)\n",
    "print(y_train_cat.shape)\n",
    "print(y_test_cat.shape)"
   ]
  },
  {
   "cell_type": "code",
   "execution_count": null,
   "metadata": {},
   "outputs": [],
   "source": [
    "verbose, epoch, batch_size = 1, 10, 128\n",
    "\n",
    "def getModel():\n",
    "    cnnmodel = Sequential()\n",
    "    cnnmodel.add(Conv1D(filters=128, kernel_size=2, activation='relu',input_shape=(X_train_3d.shape[1],X_train_3d.shape[2])))\n",
    "    cnnmodel.add(MaxPooling1D(pool_size=2))\n",
    "    cnnmodel.add(Conv1D(filters=64, kernel_size=2, activation='relu'))\n",
    "    cnnmodel.add(MaxPooling1D(pool_size=2))\n",
    "    cnnmodel.add(Conv1D(filters=32, kernel_size=2, activation='relu'))\n",
    "    cnnmodel.add(MaxPooling1D(pool_size=2))\n",
    "    cnnmodel.add(Conv1D(filters=16, kernel_size=2, activation='relu'))\n",
    "    cnnmodel.add(MaxPooling1D(pool_size=2))\n",
    "    cnnmodel.add(Dropout(rate=0.2))\n",
    "    cnnmodel.add(Flatten())\n",
    "    cnnmodel.add(Dense(64, activation='relu'))\n",
    "    cnnmodel.add(Dense(32, activation='relu'))\n",
    "    cnnmodel.add(Dense(9, activation='softmax'))\n",
    "    cnnmodel.compile(optimizer='adam', loss='categorical_crossentropy',metrics=['accuracy'])\n",
    "    cnnmodel.summary()\n",
    "    return cnnmodel\n",
    "\n",
    "cnnmodel = getModel()"
   ]
  },
  {
   "cell_type": "code",
   "execution_count": null,
   "metadata": {},
   "outputs": [],
   "source": [
    "model = cnnmodel.fit(X_train_3d, y_train_cat, epochs=epoch, validation_split=0.2, verbose=verbose,batch_size=batch_size)"
   ]
  },
  {
   "cell_type": "code",
   "execution_count": null,
   "metadata": {},
   "outputs": [],
   "source": [
    "cnnpredictions = cnnmodel.predict(X_test_3d, verbose=1)"
   ]
  },
  {
   "cell_type": "code",
   "execution_count": null,
   "metadata": {},
   "outputs": [],
   "source": [
    "cnn_predict = np.argmax(cnnpredictions, axis=1)\n",
    "true_value = np.argmax(y_test_cat,axis=1)"
   ]
  },
  {
   "cell_type": "code",
   "execution_count": null,
   "metadata": {},
   "outputs": [],
   "source": [
    "score = scores(true_value, cnn_predict)\n",
    "\n",
    "target_names = ['N','L','R','A','V','F','f','/']\n",
    "\n",
    "print(classification_report(true_value, cnn_predict, target_names=target_names))\n",
    "\n",
    "cf_matrix_func(cnn_predict,true_value)\n"
   ]
  }
 ],
 "metadata": {
  "kernelspec": {
   "display_name": "Python 3",
   "language": "python",
   "name": "python3"
  },
  "language_info": {
   "codemirror_mode": {
    "name": "ipython",
    "version": 3
   },
   "file_extension": ".py",
   "mimetype": "text/x-python",
   "name": "python",
   "nbconvert_exporter": "python",
   "pygments_lexer": "ipython3",
   "version": "3.7.1"
  }
 },
 "nbformat": 4,
 "nbformat_minor": 4
}
